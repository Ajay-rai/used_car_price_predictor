{
 "cells": [
  {
   "cell_type": "markdown",
   "id": "b7b63de9",
   "metadata": {},
   "source": [
    "# Objective\n",
    "Perform exploratory data analysis (EDA) to understand data and relationship between them if any."
   ]
  },
  {
   "cell_type": "markdown",
   "id": "89eae87d",
   "metadata": {},
   "source": [
    "Steps in Data Exploration and Preprocessing [Ref](https://pub.towardsai.net/exploratory-data-analysis-in-python-ebdf643a33f6):\n",
    "1. Identification of variables and data types\n",
    "2. Analyzing the basic metrics\n",
    "3. Non-Graphical Univariate Analysis\n",
    "4. Graphical Univariate Analysis\n",
    "5. Bivariate Analysis\n",
    "6. Variable transformations\n",
    "7. Missing value treatment\n",
    "8. Outlier treatment\n",
    "9. Correlation Analysis\n",
    "10. Dimensionality Reduction"
   ]
  },
  {
   "cell_type": "markdown",
   "id": "a527081e",
   "metadata": {},
   "source": [
    "Type of variables\n",
    "![Title](Variables.png)"
   ]
  },
  {
   "cell_type": "markdown",
   "id": "63f55f59",
   "metadata": {},
   "source": [
    "Importing libraries needed to start EDA."
   ]
  },
  {
   "cell_type": "code",
   "execution_count": 1,
   "id": "af2ea38a",
   "metadata": {},
   "outputs": [],
   "source": [
    "import pandas as pd\n",
    "import numpy as np\n",
    "import matplotlib.pyplot as plt\n",
    "import seaborn as sns\n",
    "import warnings\n",
    "warnings.filterwarnings(\"ignore\")"
   ]
  },
  {
   "cell_type": "markdown",
   "id": "d8886a7a",
   "metadata": {},
   "source": [
    "# Overview of dataset"
   ]
  },
  {
   "cell_type": "markdown",
   "id": "e4835e7d",
   "metadata": {},
   "source": [
    "Reading the dataset here."
   ]
  },
  {
   "cell_type": "code",
   "execution_count": 2,
   "id": "349b3cbd",
   "metadata": {},
   "outputs": [],
   "source": [
    "df_car = pd.read_csv('Cargurus_eda.csv')"
   ]
  },
  {
   "cell_type": "code",
   "execution_count": 3,
   "id": "d97c8a81",
   "metadata": {},
   "outputs": [],
   "source": [
    "df = df_car.copy()"
   ]
  },
  {
   "cell_type": "markdown",
   "id": "e9e50e4f",
   "metadata": {},
   "source": [
    "Let's take a quick look at dataset."
   ]
  },
  {
   "cell_type": "code",
   "execution_count": 4,
   "id": "50b2e4fb",
   "metadata": {
    "scrolled": false
   },
   "outputs": [
    {
     "data": {
      "text/html": [
       "<div>\n",
       "<style scoped>\n",
       "    .dataframe tbody tr th:only-of-type {\n",
       "        vertical-align: middle;\n",
       "    }\n",
       "\n",
       "    .dataframe tbody tr th {\n",
       "        vertical-align: top;\n",
       "    }\n",
       "\n",
       "    .dataframe thead th {\n",
       "        text-align: right;\n",
       "    }\n",
       "</style>\n",
       "<table border=\"1\" class=\"dataframe\">\n",
       "  <thead>\n",
       "    <tr style=\"text-align: right;\">\n",
       "      <th></th>\n",
       "      <th>title</th>\n",
       "      <th>Location</th>\n",
       "      <th>Details</th>\n",
       "      <th>Dealer</th>\n",
       "      <th>Contact</th>\n",
       "      <th>Description</th>\n",
       "      <th>price($)</th>\n",
       "      <th>year</th>\n",
       "      <th>age_of_car</th>\n",
       "      <th>model</th>\n",
       "      <th>...</th>\n",
       "      <th>Interior_Color</th>\n",
       "      <th>Gas_mileage_city(MPG)</th>\n",
       "      <th>Gas_mileage_HW(MPG)</th>\n",
       "      <th>Gas_mileage_comb(MPG)</th>\n",
       "      <th>Engine</th>\n",
       "      <th>Drivetrain</th>\n",
       "      <th>Fuel_type</th>\n",
       "      <th>Major Options</th>\n",
       "      <th>No._of_features</th>\n",
       "      <th>description_len</th>\n",
       "    </tr>\n",
       "  </thead>\n",
       "  <tbody>\n",
       "    <tr>\n",
       "      <th>0</th>\n",
       "      <td>2017 Mercedes-Benz GLS-Class GLS 450 4MATIC AW...</td>\n",
       "      <td>Murrieta, CA · 71 mi away</td>\n",
       "      <td>Dealer's Price:\\n$36,999\\nLocation:\\nMurrieta,...</td>\n",
       "      <td>Abramovich Motors</td>\n",
       "      <td>(951) 307-1720</td>\n",
       "      <td>Dealer's Description\\nTravel in style behind t...</td>\n",
       "      <td>36999</td>\n",
       "      <td>2017</td>\n",
       "      <td>4</td>\n",
       "      <td>Mercedes-Benz</td>\n",
       "      <td>...</td>\n",
       "      <td>Black</td>\n",
       "      <td>17</td>\n",
       "      <td>22</td>\n",
       "      <td>19</td>\n",
       "      <td>V6</td>\n",
       "      <td>All-Wheel Drive</td>\n",
       "      <td>Gasoline</td>\n",
       "      <td>Bluetooth, Backup Camera, Sunroof/Moonroof, He...</td>\n",
       "      <td>5</td>\n",
       "      <td>2551</td>\n",
       "    </tr>\n",
       "    <tr>\n",
       "      <th>1</th>\n",
       "      <td>2017 Chevrolet Tahoe Premier RWD - $39,415</td>\n",
       "      <td>Colton, CA · 52 mi away</td>\n",
       "      <td>Dealer's Price:\\n$39,415\\nLocation:\\nColton, C...</td>\n",
       "      <td>Avis Car Sales - Colton</td>\n",
       "      <td>(951) 484-1038</td>\n",
       "      <td>Dealer's Description\\nCARFAX One-Owner. Clean ...</td>\n",
       "      <td>39415</td>\n",
       "      <td>2017</td>\n",
       "      <td>4</td>\n",
       "      <td>Chevrolet</td>\n",
       "      <td>...</td>\n",
       "      <td>Black</td>\n",
       "      <td>-1</td>\n",
       "      <td>-1</td>\n",
       "      <td>-1</td>\n",
       "      <td>V8</td>\n",
       "      <td>Front-Wheel Drive</td>\n",
       "      <td>Flex Fuel Vehicle</td>\n",
       "      <td>Leather Seats, Power Package, Navigation Syste...</td>\n",
       "      <td>15</td>\n",
       "      <td>6158</td>\n",
       "    </tr>\n",
       "    <tr>\n",
       "      <th>2</th>\n",
       "      <td>2020 Honda Accord 1.5T LX FWD - $19,697</td>\n",
       "      <td>Carson, CA · 13 mi away</td>\n",
       "      <td>Dealer's Price:\\n$19,697\\nLocation:\\nCarson, C...</td>\n",
       "      <td>Carson Honda</td>\n",
       "      <td>(657) 500-3739</td>\n",
       "      <td>Dealer's Description\\nWheels: 17\" Silver-Paint...</td>\n",
       "      <td>19697</td>\n",
       "      <td>2020</td>\n",
       "      <td>1</td>\n",
       "      <td>Honda</td>\n",
       "      <td>...</td>\n",
       "      <td>Black</td>\n",
       "      <td>30</td>\n",
       "      <td>38</td>\n",
       "      <td>33</td>\n",
       "      <td>I4</td>\n",
       "      <td>Front-Wheel Drive</td>\n",
       "      <td>Gasoline</td>\n",
       "      <td>Bluetooth, Backup Camera, Adaptive Cruise Cont...</td>\n",
       "      <td>5</td>\n",
       "      <td>2683</td>\n",
       "    </tr>\n",
       "  </tbody>\n",
       "</table>\n",
       "<p>3 rows × 25 columns</p>\n",
       "</div>"
      ],
      "text/plain": [
       "                                               title  \\\n",
       "0  2017 Mercedes-Benz GLS-Class GLS 450 4MATIC AW...   \n",
       "1         2017 Chevrolet Tahoe Premier RWD - $39,415   \n",
       "2            2020 Honda Accord 1.5T LX FWD - $19,697   \n",
       "\n",
       "                    Location  \\\n",
       "0  Murrieta, CA · 71 mi away   \n",
       "1    Colton, CA · 52 mi away   \n",
       "2    Carson, CA · 13 mi away   \n",
       "\n",
       "                                             Details                   Dealer  \\\n",
       "0  Dealer's Price:\\n$36,999\\nLocation:\\nMurrieta,...        Abramovich Motors   \n",
       "1  Dealer's Price:\\n$39,415\\nLocation:\\nColton, C...  Avis Car Sales - Colton   \n",
       "2  Dealer's Price:\\n$19,697\\nLocation:\\nCarson, C...             Carson Honda   \n",
       "\n",
       "          Contact                                        Description  \\\n",
       "0  (951) 307-1720  Dealer's Description\\nTravel in style behind t...   \n",
       "1  (951) 484-1038  Dealer's Description\\nCARFAX One-Owner. Clean ...   \n",
       "2  (657) 500-3739  Dealer's Description\\nWheels: 17\" Silver-Paint...   \n",
       "\n",
       "   price($)  year  age_of_car          model  ... Interior_Color  \\\n",
       "0     36999  2017           4  Mercedes-Benz  ...          Black   \n",
       "1     39415  2017           4      Chevrolet  ...          Black   \n",
       "2     19697  2020           1          Honda  ...          Black   \n",
       "\n",
       "   Gas_mileage_city(MPG) Gas_mileage_HW(MPG)  Gas_mileage_comb(MPG) Engine  \\\n",
       "0                     17                  22                     19     V6   \n",
       "1                     -1                  -1                     -1     V8   \n",
       "2                     30                  38                     33     I4   \n",
       "\n",
       "          Drivetrain          Fuel_type  \\\n",
       "0    All-Wheel Drive           Gasoline   \n",
       "1  Front-Wheel Drive  Flex Fuel Vehicle   \n",
       "2  Front-Wheel Drive           Gasoline   \n",
       "\n",
       "                                       Major Options  No._of_features  \\\n",
       "0  Bluetooth, Backup Camera, Sunroof/Moonroof, He...                5   \n",
       "1  Leather Seats, Power Package, Navigation Syste...               15   \n",
       "2  Bluetooth, Backup Camera, Adaptive Cruise Cont...                5   \n",
       "\n",
       "  description_len  \n",
       "0            2551  \n",
       "1            6158  \n",
       "2            2683  \n",
       "\n",
       "[3 rows x 25 columns]"
      ]
     },
     "metadata": {},
     "output_type": "display_data"
    }
   ],
   "source": [
    "display(df.head(3))"
   ]
  },
  {
   "cell_type": "markdown",
   "id": "c1e736eb",
   "metadata": {},
   "source": [
    "Columns 'title' to 'Description' are from original dataset from which I already extracted the important information in the following columns. So i will drop those columns below."
   ]
  },
  {
   "cell_type": "code",
   "execution_count": 5,
   "id": "9f287ea8",
   "metadata": {
    "scrolled": false
   },
   "outputs": [
    {
     "data": {
      "text/plain": [
       "Index(['title', 'Location', 'Details', 'Dealer', 'Contact', 'Description',\n",
       "       'price($)', 'year', 'age_of_car', 'model', 'location', 'len_of details',\n",
       "       'Transmission', 'Mileage(miles)', 'Exterior_Color', 'Interior_Color',\n",
       "       'Gas_mileage_city(MPG)', 'Gas_mileage_HW(MPG)', 'Gas_mileage_comb(MPG)',\n",
       "       'Engine', 'Drivetrain', 'Fuel_type', 'Major Options', 'No._of_features',\n",
       "       'description_len'],\n",
       "      dtype='object')"
      ]
     },
     "execution_count": 5,
     "metadata": {},
     "output_type": "execute_result"
    }
   ],
   "source": [
    "df.columns"
   ]
  },
  {
   "cell_type": "code",
   "execution_count": 11,
   "id": "985c30c2",
   "metadata": {},
   "outputs": [],
   "source": [
    "df = df.drop(columns = ['title', 'Location', 'Details', 'Dealer', 'Contact', 'Description', 'Major Options', 'len_of details','year'])"
   ]
  },
  {
   "cell_type": "code",
   "execution_count": 12,
   "id": "491e21e9",
   "metadata": {},
   "outputs": [
    {
     "data": {
      "text/html": [
       "<div>\n",
       "<style scoped>\n",
       "    .dataframe tbody tr th:only-of-type {\n",
       "        vertical-align: middle;\n",
       "    }\n",
       "\n",
       "    .dataframe tbody tr th {\n",
       "        vertical-align: top;\n",
       "    }\n",
       "\n",
       "    .dataframe thead th {\n",
       "        text-align: right;\n",
       "    }\n",
       "</style>\n",
       "<table border=\"1\" class=\"dataframe\">\n",
       "  <thead>\n",
       "    <tr style=\"text-align: right;\">\n",
       "      <th></th>\n",
       "      <th>price($)</th>\n",
       "      <th>age_of_car</th>\n",
       "      <th>model</th>\n",
       "      <th>location</th>\n",
       "      <th>Transmission</th>\n",
       "      <th>Mileage(miles)</th>\n",
       "      <th>Exterior_Color</th>\n",
       "      <th>Interior_Color</th>\n",
       "      <th>Gas_mileage_city(MPG)</th>\n",
       "      <th>Gas_mileage_HW(MPG)</th>\n",
       "      <th>Gas_mileage_comb(MPG)</th>\n",
       "      <th>Engine</th>\n",
       "      <th>Drivetrain</th>\n",
       "      <th>Fuel_type</th>\n",
       "      <th>No._of_features</th>\n",
       "      <th>description_len</th>\n",
       "    </tr>\n",
       "  </thead>\n",
       "  <tbody>\n",
       "    <tr>\n",
       "      <th>0</th>\n",
       "      <td>36999</td>\n",
       "      <td>4</td>\n",
       "      <td>Mercedes-Benz</td>\n",
       "      <td>CA</td>\n",
       "      <td>Automatic</td>\n",
       "      <td>30336</td>\n",
       "      <td>Silver</td>\n",
       "      <td>Black</td>\n",
       "      <td>17</td>\n",
       "      <td>22</td>\n",
       "      <td>19</td>\n",
       "      <td>V6</td>\n",
       "      <td>All-Wheel Drive</td>\n",
       "      <td>Gasoline</td>\n",
       "      <td>5</td>\n",
       "      <td>2551</td>\n",
       "    </tr>\n",
       "    <tr>\n",
       "      <th>1</th>\n",
       "      <td>39415</td>\n",
       "      <td>4</td>\n",
       "      <td>Chevrolet</td>\n",
       "      <td>CA</td>\n",
       "      <td>Automatic</td>\n",
       "      <td>36052</td>\n",
       "      <td>Black</td>\n",
       "      <td>Black</td>\n",
       "      <td>-1</td>\n",
       "      <td>-1</td>\n",
       "      <td>-1</td>\n",
       "      <td>V8</td>\n",
       "      <td>Front-Wheel Drive</td>\n",
       "      <td>Flex Fuel Vehicle</td>\n",
       "      <td>15</td>\n",
       "      <td>6158</td>\n",
       "    </tr>\n",
       "    <tr>\n",
       "      <th>2</th>\n",
       "      <td>19697</td>\n",
       "      <td>1</td>\n",
       "      <td>Honda</td>\n",
       "      <td>CA</td>\n",
       "      <td>-1</td>\n",
       "      <td>17000</td>\n",
       "      <td>Gray</td>\n",
       "      <td>Black</td>\n",
       "      <td>30</td>\n",
       "      <td>38</td>\n",
       "      <td>33</td>\n",
       "      <td>I4</td>\n",
       "      <td>Front-Wheel Drive</td>\n",
       "      <td>Gasoline</td>\n",
       "      <td>5</td>\n",
       "      <td>2683</td>\n",
       "    </tr>\n",
       "  </tbody>\n",
       "</table>\n",
       "</div>"
      ],
      "text/plain": [
       "   price($)  age_of_car          model location Transmission  Mileage(miles)  \\\n",
       "0     36999           4  Mercedes-Benz       CA    Automatic           30336   \n",
       "1     39415           4      Chevrolet       CA    Automatic           36052   \n",
       "2     19697           1          Honda       CA           -1           17000   \n",
       "\n",
       "  Exterior_Color Interior_Color  Gas_mileage_city(MPG)  Gas_mileage_HW(MPG)  \\\n",
       "0         Silver          Black                     17                   22   \n",
       "1          Black          Black                     -1                   -1   \n",
       "2           Gray          Black                     30                   38   \n",
       "\n",
       "   Gas_mileage_comb(MPG) Engine         Drivetrain          Fuel_type  \\\n",
       "0                     19     V6    All-Wheel Drive           Gasoline   \n",
       "1                     -1     V8  Front-Wheel Drive  Flex Fuel Vehicle   \n",
       "2                     33     I4  Front-Wheel Drive           Gasoline   \n",
       "\n",
       "   No._of_features  description_len  \n",
       "0                5             2551  \n",
       "1               15             6158  \n",
       "2                5             2683  "
      ]
     },
     "metadata": {},
     "output_type": "display_data"
    }
   ],
   "source": [
    "display(df.head(3))"
   ]
  },
  {
   "cell_type": "markdown",
   "id": "c8355990",
   "metadata": {},
   "source": [
    "The **target value** is **price of car**, and the rest features can be assumed as the **predictor variables**."
   ]
  },
  {
   "cell_type": "markdown",
   "id": "bdac7bbf",
   "metadata": {},
   "source": [
    "Size of the dataset and identification of data types:"
   ]
  },
  {
   "cell_type": "code",
   "execution_count": 13,
   "id": "c012a1bb",
   "metadata": {},
   "outputs": [
    {
     "name": "stdout",
     "output_type": "stream",
     "text": [
      "<class 'pandas.core.frame.DataFrame'>\n",
      "RangeIndex: 1622 entries, 0 to 1621\n",
      "Data columns (total 16 columns):\n",
      " #   Column                 Non-Null Count  Dtype \n",
      "---  ------                 --------------  ----- \n",
      " 0   price($)               1622 non-null   int64 \n",
      " 1   age_of_car             1622 non-null   int64 \n",
      " 2   model                  1622 non-null   object\n",
      " 3   location               1622 non-null   object\n",
      " 4   Transmission           1622 non-null   object\n",
      " 5   Mileage(miles)         1622 non-null   int64 \n",
      " 6   Exterior_Color         1622 non-null   object\n",
      " 7   Interior_Color         1622 non-null   object\n",
      " 8   Gas_mileage_city(MPG)  1622 non-null   int64 \n",
      " 9   Gas_mileage_HW(MPG)    1622 non-null   int64 \n",
      " 10  Gas_mileage_comb(MPG)  1622 non-null   int64 \n",
      " 11  Engine                 1622 non-null   object\n",
      " 12  Drivetrain             1622 non-null   object\n",
      " 13  Fuel_type              1622 non-null   object\n",
      " 14  No._of_features        1622 non-null   int64 \n",
      " 15  description_len        1622 non-null   int64 \n",
      "dtypes: int64(8), object(8)\n",
      "memory usage: 202.9+ KB\n"
     ]
    }
   ],
   "source": [
    "df.info()"
   ]
  },
  {
   "cell_type": "markdown",
   "id": "79812be0",
   "metadata": {},
   "source": [
    "Statistical Summary of Numeric Variables:"
   ]
  },
  {
   "cell_type": "code",
   "execution_count": 14,
   "id": "f9af6f80",
   "metadata": {},
   "outputs": [
    {
     "data": {
      "text/html": [
       "<div>\n",
       "<style scoped>\n",
       "    .dataframe tbody tr th:only-of-type {\n",
       "        vertical-align: middle;\n",
       "    }\n",
       "\n",
       "    .dataframe tbody tr th {\n",
       "        vertical-align: top;\n",
       "    }\n",
       "\n",
       "    .dataframe thead th {\n",
       "        text-align: right;\n",
       "    }\n",
       "</style>\n",
       "<table border=\"1\" class=\"dataframe\">\n",
       "  <thead>\n",
       "    <tr style=\"text-align: right;\">\n",
       "      <th></th>\n",
       "      <th>count</th>\n",
       "      <th>mean</th>\n",
       "      <th>std</th>\n",
       "      <th>min</th>\n",
       "      <th>25%</th>\n",
       "      <th>50%</th>\n",
       "      <th>75%</th>\n",
       "      <th>max</th>\n",
       "    </tr>\n",
       "  </thead>\n",
       "  <tbody>\n",
       "    <tr>\n",
       "      <th>price($)</th>\n",
       "      <td>1622.0</td>\n",
       "      <td>27279.541307</td>\n",
       "      <td>17721.588482</td>\n",
       "      <td>4999.0</td>\n",
       "      <td>16014.00</td>\n",
       "      <td>22996.0</td>\n",
       "      <td>33908.25</td>\n",
       "      <td>218900.0</td>\n",
       "    </tr>\n",
       "    <tr>\n",
       "      <th>age_of_car</th>\n",
       "      <td>1622.0</td>\n",
       "      <td>3.880395</td>\n",
       "      <td>2.866643</td>\n",
       "      <td>0.0</td>\n",
       "      <td>2.00</td>\n",
       "      <td>3.0</td>\n",
       "      <td>5.00</td>\n",
       "      <td>22.0</td>\n",
       "    </tr>\n",
       "    <tr>\n",
       "      <th>Mileage(miles)</th>\n",
       "      <td>1622.0</td>\n",
       "      <td>46322.313194</td>\n",
       "      <td>36023.614453</td>\n",
       "      <td>247.0</td>\n",
       "      <td>22733.75</td>\n",
       "      <td>34660.0</td>\n",
       "      <td>63479.25</td>\n",
       "      <td>303558.0</td>\n",
       "    </tr>\n",
       "    <tr>\n",
       "      <th>Gas_mileage_city(MPG)</th>\n",
       "      <td>1622.0</td>\n",
       "      <td>18.991369</td>\n",
       "      <td>13.737377</td>\n",
       "      <td>-1.0</td>\n",
       "      <td>15.00</td>\n",
       "      <td>20.0</td>\n",
       "      <td>24.00</td>\n",
       "      <td>127.0</td>\n",
       "    </tr>\n",
       "    <tr>\n",
       "      <th>Gas_mileage_HW(MPG)</th>\n",
       "      <td>1622.0</td>\n",
       "      <td>24.721332</td>\n",
       "      <td>14.374862</td>\n",
       "      <td>-1.0</td>\n",
       "      <td>21.00</td>\n",
       "      <td>27.0</td>\n",
       "      <td>33.00</td>\n",
       "      <td>110.0</td>\n",
       "    </tr>\n",
       "    <tr>\n",
       "      <th>Gas_mileage_comb(MPG)</th>\n",
       "      <td>1622.0</td>\n",
       "      <td>21.194205</td>\n",
       "      <td>13.737960</td>\n",
       "      <td>-1.0</td>\n",
       "      <td>17.00</td>\n",
       "      <td>23.0</td>\n",
       "      <td>28.00</td>\n",
       "      <td>119.0</td>\n",
       "    </tr>\n",
       "    <tr>\n",
       "      <th>No._of_features</th>\n",
       "      <td>1622.0</td>\n",
       "      <td>7.079531</td>\n",
       "      <td>4.993935</td>\n",
       "      <td>-1.0</td>\n",
       "      <td>4.00</td>\n",
       "      <td>6.0</td>\n",
       "      <td>10.00</td>\n",
       "      <td>41.0</td>\n",
       "    </tr>\n",
       "    <tr>\n",
       "      <th>description_len</th>\n",
       "      <td>1622.0</td>\n",
       "      <td>2882.959926</td>\n",
       "      <td>1599.575789</td>\n",
       "      <td>125.0</td>\n",
       "      <td>1799.00</td>\n",
       "      <td>2649.5</td>\n",
       "      <td>3735.00</td>\n",
       "      <td>13009.0</td>\n",
       "    </tr>\n",
       "  </tbody>\n",
       "</table>\n",
       "</div>"
      ],
      "text/plain": [
       "                        count          mean           std     min       25%  \\\n",
       "price($)               1622.0  27279.541307  17721.588482  4999.0  16014.00   \n",
       "age_of_car             1622.0      3.880395      2.866643     0.0      2.00   \n",
       "Mileage(miles)         1622.0  46322.313194  36023.614453   247.0  22733.75   \n",
       "Gas_mileage_city(MPG)  1622.0     18.991369     13.737377    -1.0     15.00   \n",
       "Gas_mileage_HW(MPG)    1622.0     24.721332     14.374862    -1.0     21.00   \n",
       "Gas_mileage_comb(MPG)  1622.0     21.194205     13.737960    -1.0     17.00   \n",
       "No._of_features        1622.0      7.079531      4.993935    -1.0      4.00   \n",
       "description_len        1622.0   2882.959926   1599.575789   125.0   1799.00   \n",
       "\n",
       "                           50%       75%       max  \n",
       "price($)               22996.0  33908.25  218900.0  \n",
       "age_of_car                 3.0      5.00      22.0  \n",
       "Mileage(miles)         34660.0  63479.25  303558.0  \n",
       "Gas_mileage_city(MPG)     20.0     24.00     127.0  \n",
       "Gas_mileage_HW(MPG)       27.0     33.00     110.0  \n",
       "Gas_mileage_comb(MPG)     23.0     28.00     119.0  \n",
       "No._of_features            6.0     10.00      41.0  \n",
       "description_len         2649.5   3735.00   13009.0  "
      ]
     },
     "metadata": {},
     "output_type": "display_data"
    }
   ],
   "source": [
    "display(df.describe().T)"
   ]
  },
  {
   "cell_type": "markdown",
   "id": "b375a6d5",
   "metadata": {},
   "source": [
    "Check for duplicated entries:"
   ]
  },
  {
   "cell_type": "code",
   "execution_count": 15,
   "id": "5eed4816",
   "metadata": {},
   "outputs": [
    {
     "name": "stdout",
     "output_type": "stream",
     "text": [
      "\n",
      "Number of duplicated entries:  17\n"
     ]
    },
    {
     "data": {
      "text/html": [
       "<div>\n",
       "<style scoped>\n",
       "    .dataframe tbody tr th:only-of-type {\n",
       "        vertical-align: middle;\n",
       "    }\n",
       "\n",
       "    .dataframe tbody tr th {\n",
       "        vertical-align: top;\n",
       "    }\n",
       "\n",
       "    .dataframe thead th {\n",
       "        text-align: right;\n",
       "    }\n",
       "</style>\n",
       "<table border=\"1\" class=\"dataframe\">\n",
       "  <thead>\n",
       "    <tr style=\"text-align: right;\">\n",
       "      <th></th>\n",
       "      <th>price($)</th>\n",
       "      <th>age_of_car</th>\n",
       "      <th>model</th>\n",
       "      <th>location</th>\n",
       "      <th>Transmission</th>\n",
       "      <th>Mileage(miles)</th>\n",
       "      <th>Exterior_Color</th>\n",
       "      <th>Interior_Color</th>\n",
       "      <th>Gas_mileage_city(MPG)</th>\n",
       "      <th>Gas_mileage_HW(MPG)</th>\n",
       "      <th>Gas_mileage_comb(MPG)</th>\n",
       "      <th>Engine</th>\n",
       "      <th>Drivetrain</th>\n",
       "      <th>Fuel_type</th>\n",
       "      <th>No._of_features</th>\n",
       "      <th>description_len</th>\n",
       "    </tr>\n",
       "  </thead>\n",
       "  <tbody>\n",
       "    <tr>\n",
       "      <th>636</th>\n",
       "      <td>9495</td>\n",
       "      <td>5</td>\n",
       "      <td>Ford</td>\n",
       "      <td>CA</td>\n",
       "      <td>Automatic</td>\n",
       "      <td>41264</td>\n",
       "      <td>Black</td>\n",
       "      <td>-1</td>\n",
       "      <td>26</td>\n",
       "      <td>38</td>\n",
       "      <td>31</td>\n",
       "      <td>I4</td>\n",
       "      <td>Front-Wheel Drive</td>\n",
       "      <td>Flex Fuel Vehicle</td>\n",
       "      <td>3</td>\n",
       "      <td>2169</td>\n",
       "    </tr>\n",
       "    <tr>\n",
       "      <th>1009</th>\n",
       "      <td>9495</td>\n",
       "      <td>5</td>\n",
       "      <td>Ford</td>\n",
       "      <td>CA</td>\n",
       "      <td>Automatic</td>\n",
       "      <td>41264</td>\n",
       "      <td>Black</td>\n",
       "      <td>-1</td>\n",
       "      <td>26</td>\n",
       "      <td>38</td>\n",
       "      <td>31</td>\n",
       "      <td>I4</td>\n",
       "      <td>Front-Wheel Drive</td>\n",
       "      <td>Flex Fuel Vehicle</td>\n",
       "      <td>3</td>\n",
       "      <td>2169</td>\n",
       "    </tr>\n",
       "    <tr>\n",
       "      <th>652</th>\n",
       "      <td>11980</td>\n",
       "      <td>6</td>\n",
       "      <td>MINI</td>\n",
       "      <td>CA</td>\n",
       "      <td>Automatic</td>\n",
       "      <td>45800</td>\n",
       "      <td>Blue</td>\n",
       "      <td>Black</td>\n",
       "      <td>28</td>\n",
       "      <td>37</td>\n",
       "      <td>32</td>\n",
       "      <td>I3</td>\n",
       "      <td>Front-Wheel Drive</td>\n",
       "      <td>Gasoline</td>\n",
       "      <td>5</td>\n",
       "      <td>5343</td>\n",
       "    </tr>\n",
       "    <tr>\n",
       "      <th>1010</th>\n",
       "      <td>11980</td>\n",
       "      <td>6</td>\n",
       "      <td>MINI</td>\n",
       "      <td>CA</td>\n",
       "      <td>Automatic</td>\n",
       "      <td>45800</td>\n",
       "      <td>Blue</td>\n",
       "      <td>Black</td>\n",
       "      <td>28</td>\n",
       "      <td>37</td>\n",
       "      <td>32</td>\n",
       "      <td>I3</td>\n",
       "      <td>Front-Wheel Drive</td>\n",
       "      <td>Gasoline</td>\n",
       "      <td>5</td>\n",
       "      <td>5343</td>\n",
       "    </tr>\n",
       "    <tr>\n",
       "      <th>63</th>\n",
       "      <td>11999</td>\n",
       "      <td>6</td>\n",
       "      <td>Honda</td>\n",
       "      <td>CA</td>\n",
       "      <td>Automatic</td>\n",
       "      <td>56379</td>\n",
       "      <td>Silver</td>\n",
       "      <td>-1</td>\n",
       "      <td>30</td>\n",
       "      <td>39</td>\n",
       "      <td>34</td>\n",
       "      <td>I4</td>\n",
       "      <td>Front-Wheel Drive</td>\n",
       "      <td>Gasoline</td>\n",
       "      <td>4</td>\n",
       "      <td>1512</td>\n",
       "    </tr>\n",
       "  </tbody>\n",
       "</table>\n",
       "</div>"
      ],
      "text/plain": [
       "      price($)  age_of_car  model location Transmission  Mileage(miles)  \\\n",
       "636       9495           5   Ford       CA    Automatic           41264   \n",
       "1009      9495           5   Ford       CA    Automatic           41264   \n",
       "652      11980           6   MINI       CA    Automatic           45800   \n",
       "1010     11980           6   MINI       CA    Automatic           45800   \n",
       "63       11999           6  Honda       CA    Automatic           56379   \n",
       "\n",
       "     Exterior_Color Interior_Color  Gas_mileage_city(MPG)  \\\n",
       "636           Black             -1                     26   \n",
       "1009          Black             -1                     26   \n",
       "652            Blue          Black                     28   \n",
       "1010           Blue          Black                     28   \n",
       "63           Silver             -1                     30   \n",
       "\n",
       "      Gas_mileage_HW(MPG)  Gas_mileage_comb(MPG) Engine         Drivetrain  \\\n",
       "636                    38                     31     I4  Front-Wheel Drive   \n",
       "1009                   38                     31     I4  Front-Wheel Drive   \n",
       "652                    37                     32     I3  Front-Wheel Drive   \n",
       "1010                   37                     32     I3  Front-Wheel Drive   \n",
       "63                     39                     34     I4  Front-Wheel Drive   \n",
       "\n",
       "              Fuel_type  No._of_features  description_len  \n",
       "636   Flex Fuel Vehicle                3             2169  \n",
       "1009  Flex Fuel Vehicle                3             2169  \n",
       "652            Gasoline                5             5343  \n",
       "1010           Gasoline                5             5343  \n",
       "63             Gasoline                4             1512  "
      ]
     },
     "metadata": {},
     "output_type": "display_data"
    },
    {
     "name": "stdout",
     "output_type": "stream",
     "text": [
      "Duplicated entries removed successfully!\n"
     ]
    }
   ],
   "source": [
    "print(\"\\nNumber of duplicated entries: \", len(df[df.duplicated()]))\n",
    "display(df[df.duplicated(keep=False)].sort_values(by=list(df.columns)).head())\n",
    "df = df.drop_duplicates().reset_index(drop=True)\n",
    "print('Duplicated entries removed successfully!')"
   ]
  },
  {
   "cell_type": "markdown",
   "id": "fb74a5a1",
   "metadata": {},
   "source": [
    "# Non-Graphical Univariate Analysis:"
   ]
  },
  {
   "cell_type": "markdown",
   "id": "016c5f29",
   "metadata": {},
   "source": [
    "Finding null values:  \n",
    "Note: During web scrapping I saved null values as -1"
   ]
  },
  {
   "cell_type": "code",
   "execution_count": 16,
   "id": "ed5802b0",
   "metadata": {},
   "outputs": [
    {
     "data": {
      "text/plain": [
       "price($)                   0\n",
       "age_of_car                 0\n",
       "model                      0\n",
       "location                  76\n",
       "Transmission             210\n",
       "Mileage(miles)             0\n",
       "Exterior_Color           178\n",
       "Interior_Color           404\n",
       "Gas_mileage_city(MPG)    273\n",
       "Gas_mileage_HW(MPG)      273\n",
       "Gas_mileage_comb(MPG)    273\n",
       "Engine                    40\n",
       "Drivetrain                61\n",
       "Fuel_type                 22\n",
       "No._of_features           52\n",
       "description_len            0\n",
       "dtype: int64"
      ]
     },
     "execution_count": 16,
     "metadata": {},
     "output_type": "execute_result"
    }
   ],
   "source": [
    "df.apply(lambda x: sum(x == '-1') or sum(x == -1),axis=0)"
   ]
  },
  {
   "cell_type": "markdown",
   "id": "789ebc6d",
   "metadata": {},
   "source": [
    "For now I will leave null values as it is. I will impute them in the later stages."
   ]
  },
  {
   "cell_type": "markdown",
   "id": "e0ff9c5c",
   "metadata": {},
   "source": [
    "# Graphical Univariate Analysis (Continuous variables):\n",
    "I will use Histograms for understanding distribution and Box Plots for outliers detection.  "
   ]
  },
  {
   "cell_type": "code",
   "execution_count": 17,
   "id": "314609a7",
   "metadata": {},
   "outputs": [],
   "source": [
    "# ref:https://towardsdatascience.com/\n",
    "#     take-your-histograms-to-the-next-level-using-matplotlib-5f093ad7b9d3\n",
    "def histogram_plot(df, column, x_end, bins):\n",
    "    plt.style.use(\"bmh\")\n",
    "    \n",
    "    fig, ax = plt.subplots(figsize = (8,6))\n",
    "\n",
    "    # Plots #\n",
    "    # Plot histogram\n",
    "    ax.grid(False)\n",
    "    df[column].plot(kind = \"hist\", density = True, alpha = 0.65, bins = bins)\n",
    "    # change density to true, because KDE uses density\n",
    "    \n",
    "    # Plot KDE\n",
    "    df[column].plot(kind = \"kde\")\n",
    "\n",
    "    # X #\n",
    "    ax.set_xlabel(column, fontsize = 12)\n",
    "    ax.set_xlim(0, x_end)\n",
    "\n",
    "    # Y #\n",
    "    ax.set_yticks([])\n",
    "    # Relabel the axis \n",
    "    ax.set_ylabel(\"Frequency\", fontsize = 12)\n",
    "    \n",
    "    # Overall #\n",
    "    ax.set_title(\"Histogram plot of {}\".format(column), size = 17, pad = 10)\n",
    "    ax.tick_params(left = False, bottom = False)\n",
    "    for ax, spine in ax.spines.items():\n",
    "        spine.set_visible(False)\n",
    "    plt.show()"
   ]
  },
  {
   "cell_type": "code",
   "execution_count": 18,
   "id": "521eb7f9",
   "metadata": {},
   "outputs": [],
   "source": [
    "# ref : https://github.com/mGalarnyk/Python_Tutorials/blob/master\n",
    "#              /Statistics/boxplot/Box_plot_interpretation.ipynb\n",
    "def box_plot(df, column):    \n",
    "    plt.figure(figsize=(5,5))\n",
    "\n",
    "    sns.boxplot(x= column, data=df, palette=\"Blues\")\n",
    "\n",
    "    # Changing default seaborn/matplotlib to be more readable\n",
    "    plt.xlabel(column, fontsize = 12)\n",
    "    plt.xticks(fontsize = 10)\n",
    "    plt.yticks(fontsize = 10)"
   ]
  },
  {
   "cell_type": "code",
   "execution_count": 19,
   "id": "f4c580f3",
   "metadata": {},
   "outputs": [
    {
     "data": {
      "image/png": "[encoded data removed]",
      "text/plain": [
       "<Figure size 576x432 with 1 Axes>"
      ]
     },
     "metadata": {
      "needs_background": "light"
     },
     "output_type": "display_data"
    }
   ],
   "source": [
    "#histogram_plot(df, column, x_end, bins)\n",
    "histogram_plot(df , 'price($)', 100000, 70)"
   ]
  },
  {
   "cell_type": "code",
   "execution_count": 20,
   "id": "c3c02d79",
   "metadata": {},
   "outputs": [
    {
     "data": {
      "image/png": "[encoded data removed]",
      "text/plain": [
       "<Figure size 360x360 with 1 Axes>"
      ]
     },
     "metadata": {
      "needs_background": "light"
     },
     "output_type": "display_data"
    }
   ],
   "source": [
    "box_plot(df, 'price($)')"
   ]
  },
  {
   "cell_type": "markdown",
   "id": "07364a32",
   "metadata": {},
   "source": [
    "Most of the used cars are sold around $20,000 and distribution is right skewed because of some cars being very expensive. Lets see what kind of cars are very expensive in the table below."
   ]
  },
  {
   "cell_type": "code",
   "execution_count": 21,
   "id": "b4987c91",
   "metadata": {},
   "outputs": [
    {
     "data": {
      "text/plain": [
       "20"
      ]
     },
     "execution_count": 21,
     "metadata": {},
     "output_type": "execute_result"
    }
   ],
   "source": [
    "len(df[df['price($)']>80000])"
   ]
  },
  {
   "cell_type": "markdown",
   "id": "59e3d349",
   "metadata": {},
   "source": [
    "There are only 20 cars which cost more than $80,000. "
   ]
  },
  {
   "cell_type": "code",
   "execution_count": 22,
   "id": "b9e2ec6f",
   "metadata": {},
   "outputs": [
    {
     "data": {
      "text/html": [
       "<div>\n",
       "<style scoped>\n",
       "    .dataframe tbody tr th:only-of-type {\n",
       "        vertical-align: middle;\n",
       "    }\n",
       "\n",
       "    .dataframe tbody tr th {\n",
       "        vertical-align: top;\n",
       "    }\n",
       "\n",
       "    .dataframe thead th {\n",
       "        text-align: right;\n",
       "    }\n",
       "</style>\n",
       "<table border=\"1\" class=\"dataframe\">\n",
       "  <thead>\n",
       "    <tr style=\"text-align: right;\">\n",
       "      <th></th>\n",
       "      <th>price($)</th>\n",
       "      <th>age_of_car</th>\n",
       "      <th>model</th>\n",
       "      <th>location</th>\n",
       "      <th>Transmission</th>\n",
       "      <th>Mileage(miles)</th>\n",
       "      <th>Exterior_Color</th>\n",
       "      <th>Interior_Color</th>\n",
       "      <th>Gas_mileage_city(MPG)</th>\n",
       "      <th>Gas_mileage_HW(MPG)</th>\n",
       "      <th>Gas_mileage_comb(MPG)</th>\n",
       "      <th>Engine</th>\n",
       "      <th>Drivetrain</th>\n",
       "      <th>Fuel_type</th>\n",
       "      <th>No._of_features</th>\n",
       "      <th>description_len</th>\n",
       "    </tr>\n",
       "  </thead>\n",
       "  <tbody>\n",
       "    <tr>\n",
       "      <th>67</th>\n",
       "      <td>159900</td>\n",
       "      <td>3</td>\n",
       "      <td>Audi</td>\n",
       "      <td>CA</td>\n",
       "      <td>-1</td>\n",
       "      <td>6891</td>\n",
       "      <td>Gray</td>\n",
       "      <td>Red</td>\n",
       "      <td>14</td>\n",
       "      <td>22</td>\n",
       "      <td>17</td>\n",
       "      <td>V10</td>\n",
       "      <td>All-Wheel Drive</td>\n",
       "      <td>Gasoline</td>\n",
       "      <td>13</td>\n",
       "      <td>1065</td>\n",
       "    </tr>\n",
       "    <tr>\n",
       "      <th>100</th>\n",
       "      <td>144900</td>\n",
       "      <td>2</td>\n",
       "      <td>Chevrolet</td>\n",
       "      <td>CA</td>\n",
       "      <td>Automatic</td>\n",
       "      <td>6259</td>\n",
       "      <td>-1</td>\n",
       "      <td>-1</td>\n",
       "      <td>-1</td>\n",
       "      <td>-1</td>\n",
       "      <td>-1</td>\n",
       "      <td>V8</td>\n",
       "      <td>Rear-Wheel Drive</td>\n",
       "      <td>Gasoline</td>\n",
       "      <td>18</td>\n",
       "      <td>538</td>\n",
       "    </tr>\n",
       "    <tr>\n",
       "      <th>208</th>\n",
       "      <td>123900</td>\n",
       "      <td>5</td>\n",
       "      <td>Bentley</td>\n",
       "      <td>CA</td>\n",
       "      <td>Automatic</td>\n",
       "      <td>25236</td>\n",
       "      <td>-1</td>\n",
       "      <td>-1</td>\n",
       "      <td>14</td>\n",
       "      <td>24</td>\n",
       "      <td>18</td>\n",
       "      <td>V8</td>\n",
       "      <td>All-Wheel Drive</td>\n",
       "      <td>Gasoline</td>\n",
       "      <td>5</td>\n",
       "      <td>1684</td>\n",
       "    </tr>\n",
       "    <tr>\n",
       "      <th>241</th>\n",
       "      <td>81500</td>\n",
       "      <td>3</td>\n",
       "      <td>Porsche</td>\n",
       "      <td>CA</td>\n",
       "      <td>Automatic</td>\n",
       "      <td>37295</td>\n",
       "      <td>Black</td>\n",
       "      <td>Black</td>\n",
       "      <td>22</td>\n",
       "      <td>30</td>\n",
       "      <td>25</td>\n",
       "      <td>H6</td>\n",
       "      <td>Rear-Wheel Drive</td>\n",
       "      <td>Gasoline</td>\n",
       "      <td>4</td>\n",
       "      <td>3714</td>\n",
       "    </tr>\n",
       "    <tr>\n",
       "      <th>265</th>\n",
       "      <td>82995</td>\n",
       "      <td>1</td>\n",
       "      <td>Land</td>\n",
       "      <td>CA</td>\n",
       "      <td>Automatic</td>\n",
       "      <td>3155</td>\n",
       "      <td>Silver</td>\n",
       "      <td>Black</td>\n",
       "      <td>15</td>\n",
       "      <td>20</td>\n",
       "      <td>17</td>\n",
       "      <td>V8</td>\n",
       "      <td>All-Wheel Drive</td>\n",
       "      <td>Gasoline</td>\n",
       "      <td>4</td>\n",
       "      <td>1987</td>\n",
       "    </tr>\n",
       "    <tr>\n",
       "      <th>276</th>\n",
       "      <td>147500</td>\n",
       "      <td>5</td>\n",
       "      <td>Porsche</td>\n",
       "      <td>CA</td>\n",
       "      <td>Automatic</td>\n",
       "      <td>2526</td>\n",
       "      <td>Black</td>\n",
       "      <td>Black</td>\n",
       "      <td>15</td>\n",
       "      <td>20</td>\n",
       "      <td>17</td>\n",
       "      <td>H6</td>\n",
       "      <td>Rear-Wheel Drive</td>\n",
       "      <td>Gasoline</td>\n",
       "      <td>5</td>\n",
       "      <td>2087</td>\n",
       "    </tr>\n",
       "    <tr>\n",
       "      <th>294</th>\n",
       "      <td>218900</td>\n",
       "      <td>3</td>\n",
       "      <td>Ferrari</td>\n",
       "      <td>CA</td>\n",
       "      <td>Automatic</td>\n",
       "      <td>9329</td>\n",
       "      <td>-1</td>\n",
       "      <td>-1</td>\n",
       "      <td>-1</td>\n",
       "      <td>-1</td>\n",
       "      <td>-1</td>\n",
       "      <td>V12</td>\n",
       "      <td>All-Wheel Drive</td>\n",
       "      <td>Gasoline</td>\n",
       "      <td>6</td>\n",
       "      <td>1123</td>\n",
       "    </tr>\n",
       "    <tr>\n",
       "      <th>312</th>\n",
       "      <td>80985</td>\n",
       "      <td>3</td>\n",
       "      <td>Land</td>\n",
       "      <td>CA</td>\n",
       "      <td>Automatic</td>\n",
       "      <td>28239</td>\n",
       "      <td>Blue</td>\n",
       "      <td>White</td>\n",
       "      <td>16</td>\n",
       "      <td>21</td>\n",
       "      <td>18</td>\n",
       "      <td>V8</td>\n",
       "      <td>All-Wheel Drive</td>\n",
       "      <td>Gasoline</td>\n",
       "      <td>4</td>\n",
       "      <td>1414</td>\n",
       "    </tr>\n",
       "    <tr>\n",
       "      <th>450</th>\n",
       "      <td>101980</td>\n",
       "      <td>1</td>\n",
       "      <td>Chevrolet</td>\n",
       "      <td>CA</td>\n",
       "      <td>Automatic</td>\n",
       "      <td>700</td>\n",
       "      <td>White</td>\n",
       "      <td>Black</td>\n",
       "      <td>15</td>\n",
       "      <td>27</td>\n",
       "      <td>20</td>\n",
       "      <td>V8</td>\n",
       "      <td>Rear-Wheel Drive</td>\n",
       "      <td>Gasoline</td>\n",
       "      <td>14</td>\n",
       "      <td>6787</td>\n",
       "    </tr>\n",
       "    <tr>\n",
       "      <th>710</th>\n",
       "      <td>114999</td>\n",
       "      <td>8</td>\n",
       "      <td>Ferrari</td>\n",
       "      <td>CA</td>\n",
       "      <td>Manual</td>\n",
       "      <td>14000</td>\n",
       "      <td>Black</td>\n",
       "      <td>Red</td>\n",
       "      <td>-1</td>\n",
       "      <td>-1</td>\n",
       "      <td>-1</td>\n",
       "      <td>V8</td>\n",
       "      <td>Rear-Wheel Drive</td>\n",
       "      <td>Gasoline</td>\n",
       "      <td>10</td>\n",
       "      <td>4546</td>\n",
       "    </tr>\n",
       "    <tr>\n",
       "      <th>713</th>\n",
       "      <td>92998</td>\n",
       "      <td>1</td>\n",
       "      <td>Chevrolet</td>\n",
       "      <td>CA</td>\n",
       "      <td>Automatic</td>\n",
       "      <td>4944</td>\n",
       "      <td>White</td>\n",
       "      <td>Red</td>\n",
       "      <td>15</td>\n",
       "      <td>27</td>\n",
       "      <td>20</td>\n",
       "      <td>V8</td>\n",
       "      <td>Rear-Wheel Drive</td>\n",
       "      <td>Gasoline</td>\n",
       "      <td>7</td>\n",
       "      <td>1603</td>\n",
       "    </tr>\n",
       "    <tr>\n",
       "      <th>878</th>\n",
       "      <td>84888</td>\n",
       "      <td>1</td>\n",
       "      <td>Land</td>\n",
       "      <td>CA</td>\n",
       "      <td>Automatic</td>\n",
       "      <td>2726</td>\n",
       "      <td>Gray</td>\n",
       "      <td>-1</td>\n",
       "      <td>15</td>\n",
       "      <td>20</td>\n",
       "      <td>17</td>\n",
       "      <td>V8</td>\n",
       "      <td>All-Wheel Drive</td>\n",
       "      <td>Gasoline</td>\n",
       "      <td>9</td>\n",
       "      <td>2630</td>\n",
       "    </tr>\n",
       "    <tr>\n",
       "      <th>881</th>\n",
       "      <td>102998</td>\n",
       "      <td>3</td>\n",
       "      <td>Mercedes-Benz</td>\n",
       "      <td>CA</td>\n",
       "      <td>Automatic</td>\n",
       "      <td>13961</td>\n",
       "      <td>Black</td>\n",
       "      <td>-1</td>\n",
       "      <td>-1</td>\n",
       "      <td>-1</td>\n",
       "      <td>-1</td>\n",
       "      <td>V8</td>\n",
       "      <td>Rear-Wheel Drive</td>\n",
       "      <td>Gasoline</td>\n",
       "      <td>5</td>\n",
       "      <td>1930</td>\n",
       "    </tr>\n",
       "    <tr>\n",
       "      <th>926</th>\n",
       "      <td>209900</td>\n",
       "      <td>4</td>\n",
       "      <td>Rolls-Royce</td>\n",
       "      <td>CA</td>\n",
       "      <td>Automatic</td>\n",
       "      <td>7815</td>\n",
       "      <td>Silver</td>\n",
       "      <td>-1</td>\n",
       "      <td>12</td>\n",
       "      <td>19</td>\n",
       "      <td>15</td>\n",
       "      <td>V12</td>\n",
       "      <td>Rear-Wheel Drive</td>\n",
       "      <td>Gasoline</td>\n",
       "      <td>6</td>\n",
       "      <td>1038</td>\n",
       "    </tr>\n",
       "    <tr>\n",
       "      <th>968</th>\n",
       "      <td>188888</td>\n",
       "      <td>3</td>\n",
       "      <td>Porsche</td>\n",
       "      <td>CA</td>\n",
       "      <td>Manual</td>\n",
       "      <td>3559</td>\n",
       "      <td>White</td>\n",
       "      <td>Black</td>\n",
       "      <td>13</td>\n",
       "      <td>21</td>\n",
       "      <td>16</td>\n",
       "      <td>H6</td>\n",
       "      <td>Rear-Wheel Drive</td>\n",
       "      <td>Gasoline</td>\n",
       "      <td>5</td>\n",
       "      <td>6383</td>\n",
       "    </tr>\n",
       "    <tr>\n",
       "      <th>1009</th>\n",
       "      <td>91998</td>\n",
       "      <td>5</td>\n",
       "      <td>Aston</td>\n",
       "      <td>CA</td>\n",
       "      <td>Manual</td>\n",
       "      <td>7328</td>\n",
       "      <td>-1</td>\n",
       "      <td>Black</td>\n",
       "      <td>13</td>\n",
       "      <td>19</td>\n",
       "      <td>15</td>\n",
       "      <td>V8</td>\n",
       "      <td>Rear-Wheel Drive</td>\n",
       "      <td>Gasoline</td>\n",
       "      <td>5</td>\n",
       "      <td>1504</td>\n",
       "    </tr>\n",
       "    <tr>\n",
       "      <th>1018</th>\n",
       "      <td>109999</td>\n",
       "      <td>4</td>\n",
       "      <td>Bentley</td>\n",
       "      <td>CA</td>\n",
       "      <td>Automatic</td>\n",
       "      <td>29999</td>\n",
       "      <td>-1</td>\n",
       "      <td>-1</td>\n",
       "      <td>12</td>\n",
       "      <td>20</td>\n",
       "      <td>15</td>\n",
       "      <td>W12</td>\n",
       "      <td>All-Wheel Drive</td>\n",
       "      <td>Gasoline</td>\n",
       "      <td>5</td>\n",
       "      <td>3038</td>\n",
       "    </tr>\n",
       "    <tr>\n",
       "      <th>1187</th>\n",
       "      <td>89999</td>\n",
       "      <td>0</td>\n",
       "      <td>GMC</td>\n",
       "      <td>WA</td>\n",
       "      <td>Automatic</td>\n",
       "      <td>511</td>\n",
       "      <td>Gray</td>\n",
       "      <td>Black</td>\n",
       "      <td>14</td>\n",
       "      <td>19</td>\n",
       "      <td>16</td>\n",
       "      <td>V8</td>\n",
       "      <td>Four-Wheel Drive</td>\n",
       "      <td>Gasoline</td>\n",
       "      <td>8</td>\n",
       "      <td>795</td>\n",
       "    </tr>\n",
       "    <tr>\n",
       "      <th>1252</th>\n",
       "      <td>84977</td>\n",
       "      <td>1</td>\n",
       "      <td>Ford</td>\n",
       "      <td>WA</td>\n",
       "      <td>Automatic</td>\n",
       "      <td>2860</td>\n",
       "      <td>Blue</td>\n",
       "      <td>Black</td>\n",
       "      <td>-1</td>\n",
       "      <td>-1</td>\n",
       "      <td>-1</td>\n",
       "      <td>V8</td>\n",
       "      <td>Four-Wheel Drive</td>\n",
       "      <td>Biodiesel</td>\n",
       "      <td>10</td>\n",
       "      <td>2157</td>\n",
       "    </tr>\n",
       "    <tr>\n",
       "      <th>1294</th>\n",
       "      <td>80880</td>\n",
       "      <td>3</td>\n",
       "      <td>Land</td>\n",
       "      <td>WA</td>\n",
       "      <td>Automatic</td>\n",
       "      <td>22847</td>\n",
       "      <td>Black</td>\n",
       "      <td>-1</td>\n",
       "      <td>17</td>\n",
       "      <td>23</td>\n",
       "      <td>19</td>\n",
       "      <td>V6</td>\n",
       "      <td>All-Wheel Drive</td>\n",
       "      <td>Gasoline</td>\n",
       "      <td>10</td>\n",
       "      <td>3786</td>\n",
       "    </tr>\n",
       "  </tbody>\n",
       "</table>\n",
       "</div>"
      ],
      "text/plain": [
       "      price($)  age_of_car          model location Transmission  \\\n",
       "67      159900           3           Audi       CA           -1   \n",
       "100     144900           2      Chevrolet       CA    Automatic   \n",
       "208     123900           5        Bentley       CA    Automatic   \n",
       "241      81500           3        Porsche       CA    Automatic   \n",
       "265      82995           1           Land       CA    Automatic   \n",
       "276     147500           5        Porsche       CA    Automatic   \n",
       "294     218900           3        Ferrari       CA    Automatic   \n",
       "312      80985           3           Land       CA    Automatic   \n",
       "450     101980           1      Chevrolet       CA    Automatic   \n",
       "710     114999           8        Ferrari       CA       Manual   \n",
       "713      92998           1      Chevrolet       CA    Automatic   \n",
       "878      84888           1           Land       CA    Automatic   \n",
       "881     102998           3  Mercedes-Benz       CA    Automatic   \n",
       "926     209900           4    Rolls-Royce       CA    Automatic   \n",
       "968     188888           3        Porsche       CA       Manual   \n",
       "1009     91998           5          Aston       CA       Manual   \n",
       "1018    109999           4        Bentley       CA    Automatic   \n",
       "1187     89999           0            GMC       WA    Automatic   \n",
       "1252     84977           1           Ford       WA    Automatic   \n",
       "1294     80880           3           Land       WA    Automatic   \n",
       "\n",
       "      Mileage(miles) Exterior_Color Interior_Color  Gas_mileage_city(MPG)  \\\n",
       "67              6891           Gray            Red                     14   \n",
       "100             6259             -1             -1                     -1   \n",
       "208            25236             -1             -1                     14   \n",
       "241            37295          Black          Black                     22   \n",
       "265             3155         Silver          Black                     15   \n",
       "276             2526          Black          Black                     15   \n",
       "294             9329             -1             -1                     -1   \n",
       "312            28239           Blue          White                     16   \n",
       "450              700          White          Black                     15   \n",
       "710            14000          Black            Red                     -1   \n",
       "713             4944          White            Red                     15   \n",
       "878             2726           Gray             -1                     15   \n",
       "881            13961          Black             -1                     -1   \n",
       "926             7815         Silver             -1                     12   \n",
       "968             3559          White          Black                     13   \n",
       "1009            7328             -1          Black                     13   \n",
       "1018           29999             -1             -1                     12   \n",
       "1187             511           Gray          Black                     14   \n",
       "1252            2860           Blue          Black                     -1   \n",
       "1294           22847          Black             -1                     17   \n",
       "\n",
       "      Gas_mileage_HW(MPG)  Gas_mileage_comb(MPG) Engine        Drivetrain  \\\n",
       "67                     22                     17    V10   All-Wheel Drive   \n",
       "100                    -1                     -1     V8  Rear-Wheel Drive   \n",
       "208                    24                     18     V8   All-Wheel Drive   \n",
       "241                    30                     25     H6  Rear-Wheel Drive   \n",
       "265                    20                     17     V8   All-Wheel Drive   \n",
       "276                    20                     17     H6  Rear-Wheel Drive   \n",
       "294                    -1                     -1    V12   All-Wheel Drive   \n",
       "312                    21                     18     V8   All-Wheel Drive   \n",
       "450                    27                     20     V8  Rear-Wheel Drive   \n",
       "710                    -1                     -1     V8  Rear-Wheel Drive   \n",
       "713                    27                     20     V8  Rear-Wheel Drive   \n",
       "878                    20                     17     V8   All-Wheel Drive   \n",
       "881                    -1                     -1     V8  Rear-Wheel Drive   \n",
       "926                    19                     15    V12  Rear-Wheel Drive   \n",
       "968                    21                     16     H6  Rear-Wheel Drive   \n",
       "1009                   19                     15     V8  Rear-Wheel Drive   \n",
       "1018                   20                     15    W12   All-Wheel Drive   \n",
       "1187                   19                     16     V8  Four-Wheel Drive   \n",
       "1252                   -1                     -1     V8  Four-Wheel Drive   \n",
       "1294                   23                     19     V6   All-Wheel Drive   \n",
       "\n",
       "      Fuel_type  No._of_features  description_len  \n",
       "67     Gasoline               13             1065  \n",
       "100    Gasoline               18              538  \n",
       "208    Gasoline                5             1684  \n",
       "241    Gasoline                4             3714  \n",
       "265    Gasoline                4             1987  \n",
       "276    Gasoline                5             2087  \n",
       "294    Gasoline                6             1123  \n",
       "312    Gasoline                4             1414  \n",
       "450    Gasoline               14             6787  \n",
       "710    Gasoline               10             4546  \n",
       "713    Gasoline                7             1603  \n",
       "878    Gasoline                9             2630  \n",
       "881    Gasoline                5             1930  \n",
       "926    Gasoline                6             1038  \n",
       "968    Gasoline                5             6383  \n",
       "1009   Gasoline                5             1504  \n",
       "1018   Gasoline                5             3038  \n",
       "1187   Gasoline                8              795  \n",
       "1252  Biodiesel               10             2157  \n",
       "1294   Gasoline               10             3786  "
      ]
     },
     "metadata": {},
     "output_type": "display_data"
    }
   ],
   "source": [
    "display(df[df['price($)']>80000])"
   ]
  },
  {
   "cell_type": "markdown",
   "id": "4590a0b0",
   "metadata": {},
   "source": [
    "Here I can see that cars which cost more than $80,000 are high-end car. For example Ferrari is one of the most expensive car. Lets take a look at how many Ferrari the original data have."
   ]
  },
  {
   "cell_type": "code",
   "execution_count": 23,
   "id": "51d00016",
   "metadata": {
    "scrolled": true
   },
   "outputs": [
    {
     "data": {
      "text/plain": [
       "False    1603\n",
       "True        2\n",
       "Name: model, dtype: int64"
      ]
     },
     "execution_count": 23,
     "metadata": {},
     "output_type": "execute_result"
    }
   ],
   "source": [
    "(df['model'] == 'Ferrari').value_counts()"
   ]
  },
  {
   "cell_type": "markdown",
   "id": "5cf20c43",
   "metadata": {},
   "source": [
    "Dataset has only 2 Ferrari car which implies that model of the car has a high influence on price of the car and therefore may not be outliers. So I will leave them as it is."
   ]
  },
  {
   "cell_type": "code",
   "execution_count": null,
   "id": "55294cb0",
   "metadata": {},
   "outputs": [],
   "source": [
    "# Cleaned\n",
    "# df.drop(df.loc[df['price($)'] > 80000].index, inplace=True)\n",
    "# df = df.reset_index(drop=True)"
   ]
  },
  {
   "cell_type": "code",
   "execution_count": 24,
   "id": "a4ad4d6d",
   "metadata": {},
   "outputs": [
    {
     "data": {
      "image/png": "[encoded data removed]",
      "text/plain": [
       "<Figure size 576x432 with 1 Axes>"
      ]
     },
     "metadata": {
      "needs_background": "light"
     },
     "output_type": "display_data"
    }
   ],
   "source": [
    "#histogram_plot(df, column, x_end, bins)\n",
    "histogram_plot(df , 'age_of_car', 17, 20)"
   ]
  },
  {
   "cell_type": "code",
   "execution_count": 25,
   "id": "a2627a60",
   "metadata": {},
   "outputs": [
    {
     "data": {
      "image/png": "[encoded data removed]",
      "text/plain": [
       "<Figure size 360x360 with 1 Axes>"
      ]
     },
     "metadata": {
      "needs_background": "light"
     },
     "output_type": "display_data"
    }
   ],
   "source": [
    "box_plot(df, 'age_of_car')"
   ]
  },
  {
   "cell_type": "markdown",
   "id": "aa94cfdd",
   "metadata": {},
   "source": [
    "Most of the cars are being used for 2 to 4 years. Distribution is right skewed due to some cars being sold after 12 -13 years. Lets see how many are there older than 13 years."
   ]
  },
  {
   "cell_type": "code",
   "execution_count": 27,
   "id": "28230232",
   "metadata": {},
   "outputs": [
    {
     "data": {
      "text/plain": [
       "25"
      ]
     },
     "execution_count": 27,
     "metadata": {},
     "output_type": "execute_result"
    }
   ],
   "source": [
    "len(df[df['age_of_car']>13])"
   ]
  },
  {
   "cell_type": "code",
   "execution_count": 37,
   "id": "81b6b8d6",
   "metadata": {
    "scrolled": false
   },
   "outputs": [
    {
     "data": {
      "text/html": [
       "<div>\n",
       "<style scoped>\n",
       "    .dataframe tbody tr th:only-of-type {\n",
       "        vertical-align: middle;\n",
       "    }\n",
       "\n",
       "    .dataframe tbody tr th {\n",
       "        vertical-align: top;\n",
       "    }\n",
       "\n",
       "    .dataframe thead th {\n",
       "        text-align: right;\n",
       "    }\n",
       "</style>\n",
       "<table border=\"1\" class=\"dataframe\">\n",
       "  <thead>\n",
       "    <tr style=\"text-align: right;\">\n",
       "      <th></th>\n",
       "      <th>price($)</th>\n",
       "      <th>age_of_car</th>\n",
       "      <th>model</th>\n",
       "      <th>location</th>\n",
       "      <th>Transmission</th>\n",
       "      <th>Mileage(miles)</th>\n",
       "      <th>Exterior_Color</th>\n",
       "      <th>Interior_Color</th>\n",
       "      <th>Gas_mileage_city(MPG)</th>\n",
       "      <th>Gas_mileage_HW(MPG)</th>\n",
       "      <th>Gas_mileage_comb(MPG)</th>\n",
       "      <th>Engine</th>\n",
       "      <th>Drivetrain</th>\n",
       "      <th>Fuel_type</th>\n",
       "      <th>No._of_features</th>\n",
       "      <th>description_len</th>\n",
       "    </tr>\n",
       "  </thead>\n",
       "  <tbody>\n",
       "    <tr>\n",
       "      <th>187</th>\n",
       "      <td>11500</td>\n",
       "      <td>18</td>\n",
       "      <td>Jeep</td>\n",
       "      <td>CA</td>\n",
       "      <td>Automatic</td>\n",
       "      <td>116600</td>\n",
       "      <td>Black</td>\n",
       "      <td>Black</td>\n",
       "      <td>14</td>\n",
       "      <td>18</td>\n",
       "      <td>15</td>\n",
       "      <td>I6</td>\n",
       "      <td>Four-Wheel Drive</td>\n",
       "      <td>Gasoline</td>\n",
       "      <td>1</td>\n",
       "      <td>405</td>\n",
       "    </tr>\n",
       "    <tr>\n",
       "      <th>216</th>\n",
       "      <td>5999</td>\n",
       "      <td>16</td>\n",
       "      <td>Chevrolet</td>\n",
       "      <td>CA</td>\n",
       "      <td>Automatic</td>\n",
       "      <td>175299</td>\n",
       "      <td>-1</td>\n",
       "      <td>-1</td>\n",
       "      <td>14</td>\n",
       "      <td>18</td>\n",
       "      <td>15</td>\n",
       "      <td>V8</td>\n",
       "      <td>Rear-Wheel Drive</td>\n",
       "      <td>Flex Fuel Vehicle</td>\n",
       "      <td>2</td>\n",
       "      <td>1314</td>\n",
       "    </tr>\n",
       "    <tr>\n",
       "      <th>222</th>\n",
       "      <td>17900</td>\n",
       "      <td>18</td>\n",
       "      <td>Chevrolet</td>\n",
       "      <td>CA</td>\n",
       "      <td>Manual</td>\n",
       "      <td>73332</td>\n",
       "      <td>Red</td>\n",
       "      <td>-1</td>\n",
       "      <td>17</td>\n",
       "      <td>26</td>\n",
       "      <td>21</td>\n",
       "      <td>V8</td>\n",
       "      <td>Rear-Wheel Drive</td>\n",
       "      <td>Gasoline</td>\n",
       "      <td>2</td>\n",
       "      <td>2326</td>\n",
       "    </tr>\n",
       "    <tr>\n",
       "      <th>354</th>\n",
       "      <td>5958</td>\n",
       "      <td>14</td>\n",
       "      <td>Toyota</td>\n",
       "      <td>CA</td>\n",
       "      <td>Automatic</td>\n",
       "      <td>172854</td>\n",
       "      <td>White</td>\n",
       "      <td>Gray</td>\n",
       "      <td>19</td>\n",
       "      <td>27</td>\n",
       "      <td>22</td>\n",
       "      <td>V6</td>\n",
       "      <td>Front-Wheel Drive</td>\n",
       "      <td>Gasoline</td>\n",
       "      <td>2</td>\n",
       "      <td>306</td>\n",
       "    </tr>\n",
       "    <tr>\n",
       "      <th>396</th>\n",
       "      <td>6999</td>\n",
       "      <td>18</td>\n",
       "      <td>Mercedes-Benz</td>\n",
       "      <td>CA</td>\n",
       "      <td>Automatic</td>\n",
       "      <td>83869</td>\n",
       "      <td>Silver</td>\n",
       "      <td>Gray</td>\n",
       "      <td>17</td>\n",
       "      <td>25</td>\n",
       "      <td>20</td>\n",
       "      <td>V6</td>\n",
       "      <td>Rear-Wheel Drive</td>\n",
       "      <td>Gasoline</td>\n",
       "      <td>2</td>\n",
       "      <td>1976</td>\n",
       "    </tr>\n",
       "    <tr>\n",
       "      <th>424</th>\n",
       "      <td>6499</td>\n",
       "      <td>14</td>\n",
       "      <td>Toyota</td>\n",
       "      <td>CA</td>\n",
       "      <td>Automatic</td>\n",
       "      <td>97210</td>\n",
       "      <td>White</td>\n",
       "      <td>Gray</td>\n",
       "      <td>21</td>\n",
       "      <td>30</td>\n",
       "      <td>25</td>\n",
       "      <td>I4</td>\n",
       "      <td>Front-Wheel Drive</td>\n",
       "      <td>Gasoline</td>\n",
       "      <td>2</td>\n",
       "      <td>291</td>\n",
       "    </tr>\n",
       "    <tr>\n",
       "      <th>550</th>\n",
       "      <td>5999</td>\n",
       "      <td>16</td>\n",
       "      <td>Chevrolet</td>\n",
       "      <td>CA</td>\n",
       "      <td>Automatic</td>\n",
       "      <td>213707</td>\n",
       "      <td>-1</td>\n",
       "      <td>Gray</td>\n",
       "      <td>14</td>\n",
       "      <td>19</td>\n",
       "      <td>16</td>\n",
       "      <td>V8</td>\n",
       "      <td>Rear-Wheel Drive</td>\n",
       "      <td>Gasoline</td>\n",
       "      <td>-1</td>\n",
       "      <td>1277</td>\n",
       "    </tr>\n",
       "    <tr>\n",
       "      <th>557</th>\n",
       "      <td>10997</td>\n",
       "      <td>14</td>\n",
       "      <td>Chevrolet</td>\n",
       "      <td>CA</td>\n",
       "      <td>Automatic</td>\n",
       "      <td>167900</td>\n",
       "      <td>Red</td>\n",
       "      <td>-1</td>\n",
       "      <td>14</td>\n",
       "      <td>20</td>\n",
       "      <td>16</td>\n",
       "      <td>V8</td>\n",
       "      <td>Rear-Wheel Drive</td>\n",
       "      <td>Flex Fuel Vehicle</td>\n",
       "      <td>11</td>\n",
       "      <td>3151</td>\n",
       "    </tr>\n",
       "    <tr>\n",
       "      <th>561</th>\n",
       "      <td>5999</td>\n",
       "      <td>14</td>\n",
       "      <td>Acura</td>\n",
       "      <td>CA</td>\n",
       "      <td>Automatic</td>\n",
       "      <td>144300</td>\n",
       "      <td>Black</td>\n",
       "      <td>Black</td>\n",
       "      <td>18</td>\n",
       "      <td>26</td>\n",
       "      <td>21</td>\n",
       "      <td>V6</td>\n",
       "      <td>Front-Wheel Drive</td>\n",
       "      <td>Gasoline</td>\n",
       "      <td>1</td>\n",
       "      <td>1185</td>\n",
       "    </tr>\n",
       "    <tr>\n",
       "      <th>578</th>\n",
       "      <td>7999</td>\n",
       "      <td>15</td>\n",
       "      <td>Lexus</td>\n",
       "      <td>CA</td>\n",
       "      <td>Automatic</td>\n",
       "      <td>114377</td>\n",
       "      <td>Black</td>\n",
       "      <td>Gray</td>\n",
       "      <td>-1</td>\n",
       "      <td>-1</td>\n",
       "      <td>-1</td>\n",
       "      <td>V6</td>\n",
       "      <td>Rear-Wheel Drive</td>\n",
       "      <td>Gasoline</td>\n",
       "      <td>4</td>\n",
       "      <td>409</td>\n",
       "    </tr>\n",
       "  </tbody>\n",
       "</table>\n",
       "</div>"
      ],
      "text/plain": [
       "     price($)  age_of_car          model location Transmission  \\\n",
       "187     11500          18           Jeep       CA    Automatic   \n",
       "216      5999          16      Chevrolet       CA    Automatic   \n",
       "222     17900          18      Chevrolet       CA       Manual   \n",
       "354      5958          14         Toyota       CA    Automatic   \n",
       "396      6999          18  Mercedes-Benz       CA    Automatic   \n",
       "424      6499          14         Toyota       CA    Automatic   \n",
       "550      5999          16      Chevrolet       CA    Automatic   \n",
       "557     10997          14      Chevrolet       CA    Automatic   \n",
       "561      5999          14          Acura       CA    Automatic   \n",
       "578      7999          15          Lexus       CA    Automatic   \n",
       "\n",
       "     Mileage(miles) Exterior_Color Interior_Color  Gas_mileage_city(MPG)  \\\n",
       "187          116600          Black          Black                     14   \n",
       "216          175299             -1             -1                     14   \n",
       "222           73332            Red             -1                     17   \n",
       "354          172854          White           Gray                     19   \n",
       "396           83869         Silver           Gray                     17   \n",
       "424           97210          White           Gray                     21   \n",
       "550          213707             -1           Gray                     14   \n",
       "557          167900            Red             -1                     14   \n",
       "561          144300          Black          Black                     18   \n",
       "578          114377          Black           Gray                     -1   \n",
       "\n",
       "     Gas_mileage_HW(MPG)  Gas_mileage_comb(MPG) Engine         Drivetrain  \\\n",
       "187                   18                     15     I6   Four-Wheel Drive   \n",
       "216                   18                     15     V8   Rear-Wheel Drive   \n",
       "222                   26                     21     V8   Rear-Wheel Drive   \n",
       "354                   27                     22     V6  Front-Wheel Drive   \n",
       "396                   25                     20     V6   Rear-Wheel Drive   \n",
       "424                   30                     25     I4  Front-Wheel Drive   \n",
       "550                   19                     16     V8   Rear-Wheel Drive   \n",
       "557                   20                     16     V8   Rear-Wheel Drive   \n",
       "561                   26                     21     V6  Front-Wheel Drive   \n",
       "578                   -1                     -1     V6   Rear-Wheel Drive   \n",
       "\n",
       "             Fuel_type  No._of_features  description_len  \n",
       "187           Gasoline                1              405  \n",
       "216  Flex Fuel Vehicle                2             1314  \n",
       "222           Gasoline                2             2326  \n",
       "354           Gasoline                2              306  \n",
       "396           Gasoline                2             1976  \n",
       "424           Gasoline                2              291  \n",
       "550           Gasoline               -1             1277  \n",
       "557  Flex Fuel Vehicle               11             3151  \n",
       "561           Gasoline                1             1185  \n",
       "578           Gasoline                4              409  "
      ]
     },
     "execution_count": 37,
     "metadata": {},
     "output_type": "execute_result"
    }
   ],
   "source": [
    "df[df['age_of_car']>13][:10]"
   ]
  },
  {
   "cell_type": "markdown",
   "id": "ede45380",
   "metadata": {},
   "source": [
    "Since only 25 cars are older than 13 years and removing them can improve the distribution."
   ]
  },
  {
   "cell_type": "code",
   "execution_count": 50,
   "id": "82956fc3",
   "metadata": {},
   "outputs": [],
   "source": [
    "# Cleaned\n",
    "df.drop(df[df['age_of_car'] > 13].index, inplace=True)\n",
    "df = df.reset_index(drop=True)"
   ]
  },
  {
   "cell_type": "code",
   "execution_count": 39,
   "id": "25b96009",
   "metadata": {},
   "outputs": [
    {
     "data": {
      "image/png": "[encoded data removed]",
      "text/plain": [
       "<Figure size 576x432 with 1 Axes>"
      ]
     },
     "metadata": {
      "needs_background": "light"
     },
     "output_type": "display_data"
    }
   ],
   "source": [
    "#histogram_plot(df, column, x_end, bins)\n",
    "histogram_plot(df , 'Mileage(miles)', 200000, 50)"
   ]
  },
  {
   "cell_type": "code",
   "execution_count": 40,
   "id": "e1b425c9",
   "metadata": {},
   "outputs": [
    {
     "data": {
      "image/png": "[encoded data removed]",
      "text/plain": [
       "<Figure size 360x360 with 1 Axes>"
      ]
     },
     "metadata": {
      "needs_background": "light"
     },
     "output_type": "display_data"
    }
   ],
   "source": [
    "box_plot(df, 'Mileage(miles)')"
   ]
  },
  {
   "cell_type": "markdown",
   "id": "05b18a04",
   "metadata": {},
   "source": [
    "Most of the cars are sold after driven around 30,000 miles. From the table below it can be seen that car with more age are also driven more than 150000 miles which make sense. However, only few are driven more distance and are outliers causing the graph to be right skewed. I will remove those rows below."
   ]
  },
  {
   "cell_type": "code",
   "execution_count": 41,
   "id": "2af192f8",
   "metadata": {},
   "outputs": [
    {
     "data": {
      "text/plain": [
       "17"
      ]
     },
     "execution_count": 41,
     "metadata": {},
     "output_type": "execute_result"
    }
   ],
   "source": [
    "len(df[df['Mileage(miles)']>150000])"
   ]
  },
  {
   "cell_type": "code",
   "execution_count": 42,
   "id": "c3211260",
   "metadata": {},
   "outputs": [
    {
     "data": {
      "text/html": [
       "<div>\n",
       "<style scoped>\n",
       "    .dataframe tbody tr th:only-of-type {\n",
       "        vertical-align: middle;\n",
       "    }\n",
       "\n",
       "    .dataframe tbody tr th {\n",
       "        vertical-align: top;\n",
       "    }\n",
       "\n",
       "    .dataframe thead th {\n",
       "        text-align: right;\n",
       "    }\n",
       "</style>\n",
       "<table border=\"1\" class=\"dataframe\">\n",
       "  <thead>\n",
       "    <tr style=\"text-align: right;\">\n",
       "      <th></th>\n",
       "      <th>price($)</th>\n",
       "      <th>age_of_car</th>\n",
       "      <th>model</th>\n",
       "      <th>location</th>\n",
       "      <th>Transmission</th>\n",
       "      <th>Mileage(miles)</th>\n",
       "      <th>Exterior_Color</th>\n",
       "      <th>Interior_Color</th>\n",
       "      <th>Gas_mileage_city(MPG)</th>\n",
       "      <th>Gas_mileage_HW(MPG)</th>\n",
       "      <th>Gas_mileage_comb(MPG)</th>\n",
       "      <th>Engine</th>\n",
       "      <th>Drivetrain</th>\n",
       "      <th>Fuel_type</th>\n",
       "      <th>No._of_features</th>\n",
       "      <th>description_len</th>\n",
       "    </tr>\n",
       "  </thead>\n",
       "  <tbody>\n",
       "    <tr>\n",
       "      <th>21</th>\n",
       "      <td>16999</td>\n",
       "      <td>5</td>\n",
       "      <td>Ford</td>\n",
       "      <td>CA</td>\n",
       "      <td>Automatic</td>\n",
       "      <td>172148</td>\n",
       "      <td>White</td>\n",
       "      <td>-1</td>\n",
       "      <td>-1</td>\n",
       "      <td>-1</td>\n",
       "      <td>-1</td>\n",
       "      <td>V6</td>\n",
       "      <td>-1</td>\n",
       "      <td>Gasoline</td>\n",
       "      <td>1</td>\n",
       "      <td>812</td>\n",
       "    </tr>\n",
       "    <tr>\n",
       "      <th>55</th>\n",
       "      <td>6750</td>\n",
       "      <td>7</td>\n",
       "      <td>Honda</td>\n",
       "      <td>CA</td>\n",
       "      <td>Automatic</td>\n",
       "      <td>150054</td>\n",
       "      <td>Black</td>\n",
       "      <td>Gray</td>\n",
       "      <td>30</td>\n",
       "      <td>39</td>\n",
       "      <td>34</td>\n",
       "      <td>I4</td>\n",
       "      <td>Front-Wheel Drive</td>\n",
       "      <td>Gasoline</td>\n",
       "      <td>2</td>\n",
       "      <td>3430</td>\n",
       "    </tr>\n",
       "    <tr>\n",
       "      <th>143</th>\n",
       "      <td>14999</td>\n",
       "      <td>8</td>\n",
       "      <td>Ford</td>\n",
       "      <td>CA</td>\n",
       "      <td>Automatic</td>\n",
       "      <td>162428</td>\n",
       "      <td>White</td>\n",
       "      <td>Gray</td>\n",
       "      <td>-1</td>\n",
       "      <td>-1</td>\n",
       "      <td>-1</td>\n",
       "      <td>V6</td>\n",
       "      <td>-1</td>\n",
       "      <td>Gasoline</td>\n",
       "      <td>-1</td>\n",
       "      <td>483</td>\n",
       "    </tr>\n",
       "    <tr>\n",
       "      <th>285</th>\n",
       "      <td>8995</td>\n",
       "      <td>7</td>\n",
       "      <td>Honda</td>\n",
       "      <td>CA</td>\n",
       "      <td>Automatic</td>\n",
       "      <td>186923</td>\n",
       "      <td>-1</td>\n",
       "      <td>Black</td>\n",
       "      <td>21</td>\n",
       "      <td>32</td>\n",
       "      <td>25</td>\n",
       "      <td>V6</td>\n",
       "      <td>Front-Wheel Drive</td>\n",
       "      <td>Gasoline</td>\n",
       "      <td>3</td>\n",
       "      <td>5202</td>\n",
       "    </tr>\n",
       "    <tr>\n",
       "      <th>303</th>\n",
       "      <td>14596</td>\n",
       "      <td>11</td>\n",
       "      <td>Dodge</td>\n",
       "      <td>CA</td>\n",
       "      <td>Automatic</td>\n",
       "      <td>152289</td>\n",
       "      <td>Gray</td>\n",
       "      <td>Gray</td>\n",
       "      <td>13</td>\n",
       "      <td>18</td>\n",
       "      <td>15</td>\n",
       "      <td>V8</td>\n",
       "      <td>Four-Wheel Drive</td>\n",
       "      <td>Gasoline</td>\n",
       "      <td>6</td>\n",
       "      <td>4108</td>\n",
       "    </tr>\n",
       "    <tr>\n",
       "      <th>304</th>\n",
       "      <td>17828</td>\n",
       "      <td>9</td>\n",
       "      <td>Toyota</td>\n",
       "      <td>CA</td>\n",
       "      <td>Automatic</td>\n",
       "      <td>158026</td>\n",
       "      <td>Silver</td>\n",
       "      <td>Gray</td>\n",
       "      <td>17</td>\n",
       "      <td>21</td>\n",
       "      <td>18</td>\n",
       "      <td>V6</td>\n",
       "      <td>Front-Wheel Drive</td>\n",
       "      <td>Gasoline</td>\n",
       "      <td>7</td>\n",
       "      <td>995</td>\n",
       "    </tr>\n",
       "    <tr>\n",
       "      <th>359</th>\n",
       "      <td>11985</td>\n",
       "      <td>12</td>\n",
       "      <td>Chevrolet</td>\n",
       "      <td>CA</td>\n",
       "      <td>Automatic</td>\n",
       "      <td>169276</td>\n",
       "      <td>Gray</td>\n",
       "      <td>Black</td>\n",
       "      <td>14</td>\n",
       "      <td>20</td>\n",
       "      <td>16</td>\n",
       "      <td>V8</td>\n",
       "      <td>Front-Wheel Drive</td>\n",
       "      <td>Flex Fuel Vehicle</td>\n",
       "      <td>7</td>\n",
       "      <td>11591</td>\n",
       "    </tr>\n",
       "    <tr>\n",
       "      <th>522</th>\n",
       "      <td>18995</td>\n",
       "      <td>13</td>\n",
       "      <td>Ford</td>\n",
       "      <td>CA</td>\n",
       "      <td>Automatic</td>\n",
       "      <td>170282</td>\n",
       "      <td>-1</td>\n",
       "      <td>-1</td>\n",
       "      <td>-1</td>\n",
       "      <td>-1</td>\n",
       "      <td>-1</td>\n",
       "      <td>V8</td>\n",
       "      <td>-1</td>\n",
       "      <td>Diesel</td>\n",
       "      <td>3</td>\n",
       "      <td>1469</td>\n",
       "    </tr>\n",
       "    <tr>\n",
       "      <th>599</th>\n",
       "      <td>12999</td>\n",
       "      <td>11</td>\n",
       "      <td>Ford</td>\n",
       "      <td>CA</td>\n",
       "      <td>Automatic</td>\n",
       "      <td>190697</td>\n",
       "      <td>Gray</td>\n",
       "      <td>-1</td>\n",
       "      <td>14</td>\n",
       "      <td>20</td>\n",
       "      <td>16</td>\n",
       "      <td>V8</td>\n",
       "      <td>Front-Wheel Drive</td>\n",
       "      <td>Flex Fuel Vehicle</td>\n",
       "      <td>1</td>\n",
       "      <td>1314</td>\n",
       "    </tr>\n",
       "    <tr>\n",
       "      <th>652</th>\n",
       "      <td>8990</td>\n",
       "      <td>10</td>\n",
       "      <td>Honda</td>\n",
       "      <td>CA</td>\n",
       "      <td>Automatic</td>\n",
       "      <td>159953</td>\n",
       "      <td>Black</td>\n",
       "      <td>Gray</td>\n",
       "      <td>17</td>\n",
       "      <td>23</td>\n",
       "      <td>19</td>\n",
       "      <td>V6</td>\n",
       "      <td>Front-Wheel Drive</td>\n",
       "      <td>Gasoline</td>\n",
       "      <td>1</td>\n",
       "      <td>3820</td>\n",
       "    </tr>\n",
       "    <tr>\n",
       "      <th>668</th>\n",
       "      <td>17633</td>\n",
       "      <td>8</td>\n",
       "      <td>Jeep</td>\n",
       "      <td>CA</td>\n",
       "      <td>Automatic</td>\n",
       "      <td>193374</td>\n",
       "      <td>-1</td>\n",
       "      <td>-1</td>\n",
       "      <td>16</td>\n",
       "      <td>20</td>\n",
       "      <td>17</td>\n",
       "      <td>V6</td>\n",
       "      <td>Four-Wheel Drive</td>\n",
       "      <td>Gasoline</td>\n",
       "      <td>6</td>\n",
       "      <td>937</td>\n",
       "    </tr>\n",
       "    <tr>\n",
       "      <th>1229</th>\n",
       "      <td>17977</td>\n",
       "      <td>8</td>\n",
       "      <td>GMC</td>\n",
       "      <td>WA</td>\n",
       "      <td>Automatic</td>\n",
       "      <td>175559</td>\n",
       "      <td>Black</td>\n",
       "      <td>Black</td>\n",
       "      <td>15</td>\n",
       "      <td>21</td>\n",
       "      <td>17</td>\n",
       "      <td>V8</td>\n",
       "      <td>Four-Wheel Drive</td>\n",
       "      <td>Flex Fuel Vehicle</td>\n",
       "      <td>8</td>\n",
       "      <td>2543</td>\n",
       "    </tr>\n",
       "    <tr>\n",
       "      <th>1366</th>\n",
       "      <td>24891</td>\n",
       "      <td>7</td>\n",
       "      <td>RAM</td>\n",
       "      <td>WA</td>\n",
       "      <td>Automatic</td>\n",
       "      <td>154797</td>\n",
       "      <td>White</td>\n",
       "      <td>Black</td>\n",
       "      <td>15</td>\n",
       "      <td>21</td>\n",
       "      <td>17</td>\n",
       "      <td>V8</td>\n",
       "      <td>Four-Wheel Drive</td>\n",
       "      <td>Gasoline</td>\n",
       "      <td>13</td>\n",
       "      <td>878</td>\n",
       "    </tr>\n",
       "    <tr>\n",
       "      <th>1391</th>\n",
       "      <td>14499</td>\n",
       "      <td>10</td>\n",
       "      <td>Chevrolet</td>\n",
       "      <td>WA</td>\n",
       "      <td>Automatic</td>\n",
       "      <td>178296</td>\n",
       "      <td>Black</td>\n",
       "      <td>-1</td>\n",
       "      <td>15</td>\n",
       "      <td>21</td>\n",
       "      <td>17</td>\n",
       "      <td>V8</td>\n",
       "      <td>Four-Wheel Drive</td>\n",
       "      <td>Flex Fuel Vehicle</td>\n",
       "      <td>10</td>\n",
       "      <td>4252</td>\n",
       "    </tr>\n",
       "    <tr>\n",
       "      <th>1474</th>\n",
       "      <td>6298</td>\n",
       "      <td>13</td>\n",
       "      <td>Lexus</td>\n",
       "      <td>WA</td>\n",
       "      <td>Automatic</td>\n",
       "      <td>207073</td>\n",
       "      <td>-1</td>\n",
       "      <td>Black</td>\n",
       "      <td>20</td>\n",
       "      <td>26</td>\n",
       "      <td>22</td>\n",
       "      <td>V6</td>\n",
       "      <td>All-Wheel Drive</td>\n",
       "      <td>Gasoline</td>\n",
       "      <td>1</td>\n",
       "      <td>1068</td>\n",
       "    </tr>\n",
       "    <tr>\n",
       "      <th>1570</th>\n",
       "      <td>5999</td>\n",
       "      <td>10</td>\n",
       "      <td>Scion</td>\n",
       "      <td>WA</td>\n",
       "      <td>Automatic</td>\n",
       "      <td>168231</td>\n",
       "      <td>White</td>\n",
       "      <td>Gray</td>\n",
       "      <td>22</td>\n",
       "      <td>28</td>\n",
       "      <td>24</td>\n",
       "      <td>I4</td>\n",
       "      <td>Front-Wheel Drive</td>\n",
       "      <td>Gasoline</td>\n",
       "      <td>1</td>\n",
       "      <td>3018</td>\n",
       "    </tr>\n",
       "    <tr>\n",
       "      <th>1571</th>\n",
       "      <td>5999</td>\n",
       "      <td>11</td>\n",
       "      <td>Mazda</td>\n",
       "      <td>WA</td>\n",
       "      <td>Automatic</td>\n",
       "      <td>177476</td>\n",
       "      <td>Black</td>\n",
       "      <td>Black</td>\n",
       "      <td>-1</td>\n",
       "      <td>-1</td>\n",
       "      <td>-1</td>\n",
       "      <td>-1</td>\n",
       "      <td>Front-Wheel Drive</td>\n",
       "      <td>-1</td>\n",
       "      <td>-1</td>\n",
       "      <td>3092</td>\n",
       "    </tr>\n",
       "  </tbody>\n",
       "</table>\n",
       "</div>"
      ],
      "text/plain": [
       "      price($)  age_of_car      model location Transmission  Mileage(miles)  \\\n",
       "21       16999           5       Ford       CA    Automatic          172148   \n",
       "55        6750           7      Honda       CA    Automatic          150054   \n",
       "143      14999           8       Ford       CA    Automatic          162428   \n",
       "285       8995           7      Honda       CA    Automatic          186923   \n",
       "303      14596          11      Dodge       CA    Automatic          152289   \n",
       "304      17828           9     Toyota       CA    Automatic          158026   \n",
       "359      11985          12  Chevrolet       CA    Automatic          169276   \n",
       "522      18995          13       Ford       CA    Automatic          170282   \n",
       "599      12999          11       Ford       CA    Automatic          190697   \n",
       "652       8990          10      Honda       CA    Automatic          159953   \n",
       "668      17633           8       Jeep       CA    Automatic          193374   \n",
       "1229     17977           8        GMC       WA    Automatic          175559   \n",
       "1366     24891           7        RAM       WA    Automatic          154797   \n",
       "1391     14499          10  Chevrolet       WA    Automatic          178296   \n",
       "1474      6298          13      Lexus       WA    Automatic          207073   \n",
       "1570      5999          10      Scion       WA    Automatic          168231   \n",
       "1571      5999          11      Mazda       WA    Automatic          177476   \n",
       "\n",
       "     Exterior_Color Interior_Color  Gas_mileage_city(MPG)  \\\n",
       "21            White             -1                     -1   \n",
       "55            Black           Gray                     30   \n",
       "143           White           Gray                     -1   \n",
       "285              -1          Black                     21   \n",
       "303            Gray           Gray                     13   \n",
       "304          Silver           Gray                     17   \n",
       "359            Gray          Black                     14   \n",
       "522              -1             -1                     -1   \n",
       "599            Gray             -1                     14   \n",
       "652           Black           Gray                     17   \n",
       "668              -1             -1                     16   \n",
       "1229          Black          Black                     15   \n",
       "1366          White          Black                     15   \n",
       "1391          Black             -1                     15   \n",
       "1474             -1          Black                     20   \n",
       "1570          White           Gray                     22   \n",
       "1571          Black          Black                     -1   \n",
       "\n",
       "      Gas_mileage_HW(MPG)  Gas_mileage_comb(MPG) Engine         Drivetrain  \\\n",
       "21                     -1                     -1     V6                 -1   \n",
       "55                     39                     34     I4  Front-Wheel Drive   \n",
       "143                    -1                     -1     V6                 -1   \n",
       "285                    32                     25     V6  Front-Wheel Drive   \n",
       "303                    18                     15     V8   Four-Wheel Drive   \n",
       "304                    21                     18     V6  Front-Wheel Drive   \n",
       "359                    20                     16     V8  Front-Wheel Drive   \n",
       "522                    -1                     -1     V8                 -1   \n",
       "599                    20                     16     V8  Front-Wheel Drive   \n",
       "652                    23                     19     V6  Front-Wheel Drive   \n",
       "668                    20                     17     V6   Four-Wheel Drive   \n",
       "1229                   21                     17     V8   Four-Wheel Drive   \n",
       "1366                   21                     17     V8   Four-Wheel Drive   \n",
       "1391                   21                     17     V8   Four-Wheel Drive   \n",
       "1474                   26                     22     V6    All-Wheel Drive   \n",
       "1570                   28                     24     I4  Front-Wheel Drive   \n",
       "1571                   -1                     -1     -1  Front-Wheel Drive   \n",
       "\n",
       "              Fuel_type  No._of_features  description_len  \n",
       "21             Gasoline                1              812  \n",
       "55             Gasoline                2             3430  \n",
       "143            Gasoline               -1              483  \n",
       "285            Gasoline                3             5202  \n",
       "303            Gasoline                6             4108  \n",
       "304            Gasoline                7              995  \n",
       "359   Flex Fuel Vehicle                7            11591  \n",
       "522              Diesel                3             1469  \n",
       "599   Flex Fuel Vehicle                1             1314  \n",
       "652            Gasoline                1             3820  \n",
       "668            Gasoline                6              937  \n",
       "1229  Flex Fuel Vehicle                8             2543  \n",
       "1366           Gasoline               13              878  \n",
       "1391  Flex Fuel Vehicle               10             4252  \n",
       "1474           Gasoline                1             1068  \n",
       "1570           Gasoline                1             3018  \n",
       "1571                 -1               -1             3092  "
      ]
     },
     "metadata": {},
     "output_type": "display_data"
    }
   ],
   "source": [
    "display(df[df['Mileage(miles)']>150000])"
   ]
  },
  {
   "cell_type": "code",
   "execution_count": 43,
   "id": "203235af",
   "metadata": {},
   "outputs": [],
   "source": [
    "# Cleaned\n",
    "df.drop(df[df['Mileage(miles)']>150000].index, inplace=True)\n",
    "df = df.reset_index(drop=True)"
   ]
  },
  {
   "cell_type": "code",
   "execution_count": 44,
   "id": "99f957c9",
   "metadata": {},
   "outputs": [
    {
     "data": {
      "image/png": "[encoded data removed]",
      "text/plain": [
       "<Figure size 576x432 with 1 Axes>"
      ]
     },
     "metadata": {
      "needs_background": "light"
     },
     "output_type": "display_data"
    }
   ],
   "source": [
    "#histogram_plot(df, column, x_end, bins)\n",
    "histogram_plot(df , 'Gas_mileage_city(MPG)', 50, 50)"
   ]
  },
  {
   "cell_type": "code",
   "execution_count": 45,
   "id": "2a368db9",
   "metadata": {},
   "outputs": [
    {
     "data": {
      "image/png": "[encoded data removed]",
      "text/plain": [
       "<Figure size 360x360 with 1 Axes>"
      ]
     },
     "metadata": {
      "needs_background": "light"
     },
     "output_type": "display_data"
    }
   ],
   "source": [
    "box_plot(df, 'Gas_mileage_city(MPG)')"
   ]
  },
  {
   "cell_type": "markdown",
   "id": "26a86e2e",
   "metadata": {},
   "source": [
    "Most of the cars have mileage ranging from 10-30 MPG. However there are some cars with more than 100 MPG. Lets take a look at dataset for those cars.  \n",
    "Also high frequency at 0 is due to missing values. I will impute them later."
   ]
  },
  {
   "cell_type": "code",
   "execution_count": 49,
   "id": "1402185b",
   "metadata": {},
   "outputs": [
    {
     "data": {
      "text/plain": [
       "11"
      ]
     },
     "execution_count": 49,
     "metadata": {},
     "output_type": "execute_result"
    }
   ],
   "source": [
    "len(df[df['Gas_mileage_city(MPG)']>80])"
   ]
  },
  {
   "cell_type": "code",
   "execution_count": 48,
   "id": "1760d40b",
   "metadata": {},
   "outputs": [
    {
     "data": {
      "text/html": [
       "<div>\n",
       "<style scoped>\n",
       "    .dataframe tbody tr th:only-of-type {\n",
       "        vertical-align: middle;\n",
       "    }\n",
       "\n",
       "    .dataframe tbody tr th {\n",
       "        vertical-align: top;\n",
       "    }\n",
       "\n",
       "    .dataframe thead th {\n",
       "        text-align: right;\n",
       "    }\n",
       "</style>\n",
       "<table border=\"1\" class=\"dataframe\">\n",
       "  <thead>\n",
       "    <tr style=\"text-align: right;\">\n",
       "      <th></th>\n",
       "      <th>price($)</th>\n",
       "      <th>age_of_car</th>\n",
       "      <th>model</th>\n",
       "      <th>location</th>\n",
       "      <th>Transmission</th>\n",
       "      <th>Mileage(miles)</th>\n",
       "      <th>Exterior_Color</th>\n",
       "      <th>Interior_Color</th>\n",
       "      <th>Gas_mileage_city(MPG)</th>\n",
       "      <th>Gas_mileage_HW(MPG)</th>\n",
       "      <th>Gas_mileage_comb(MPG)</th>\n",
       "      <th>Engine</th>\n",
       "      <th>Drivetrain</th>\n",
       "      <th>Fuel_type</th>\n",
       "      <th>No._of_features</th>\n",
       "      <th>description_len</th>\n",
       "    </tr>\n",
       "  </thead>\n",
       "  <tbody>\n",
       "    <tr>\n",
       "      <th>29</th>\n",
       "      <td>9386</td>\n",
       "      <td>4</td>\n",
       "      <td>Ford</td>\n",
       "      <td>CA</td>\n",
       "      <td>Automatic</td>\n",
       "      <td>36984</td>\n",
       "      <td>White</td>\n",
       "      <td>-1</td>\n",
       "      <td>118</td>\n",
       "      <td>96</td>\n",
       "      <td>108</td>\n",
       "      <td>-1</td>\n",
       "      <td>Front-Wheel Drive</td>\n",
       "      <td>Electric</td>\n",
       "      <td>9</td>\n",
       "      <td>4125</td>\n",
       "    </tr>\n",
       "    <tr>\n",
       "      <th>49</th>\n",
       "      <td>9750</td>\n",
       "      <td>4</td>\n",
       "      <td>Ford</td>\n",
       "      <td>CA</td>\n",
       "      <td>Automatic</td>\n",
       "      <td>34584</td>\n",
       "      <td>Silver</td>\n",
       "      <td>-1</td>\n",
       "      <td>118</td>\n",
       "      <td>96</td>\n",
       "      <td>108</td>\n",
       "      <td>-1</td>\n",
       "      <td>Front-Wheel Drive</td>\n",
       "      <td>Electric</td>\n",
       "      <td>10</td>\n",
       "      <td>4135</td>\n",
       "    </tr>\n",
       "    <tr>\n",
       "      <th>294</th>\n",
       "      <td>18887</td>\n",
       "      <td>3</td>\n",
       "      <td>BMW</td>\n",
       "      <td>CA</td>\n",
       "      <td>Automatic</td>\n",
       "      <td>20122</td>\n",
       "      <td>Black</td>\n",
       "      <td>Gray</td>\n",
       "      <td>117</td>\n",
       "      <td>101</td>\n",
       "      <td>109</td>\n",
       "      <td>I2</td>\n",
       "      <td>Rear-Wheel Drive</td>\n",
       "      <td>Gasoline</td>\n",
       "      <td>6</td>\n",
       "      <td>2438</td>\n",
       "    </tr>\n",
       "    <tr>\n",
       "      <th>530</th>\n",
       "      <td>19490</td>\n",
       "      <td>3</td>\n",
       "      <td>BMW</td>\n",
       "      <td>CA</td>\n",
       "      <td>Automatic</td>\n",
       "      <td>23104</td>\n",
       "      <td>White</td>\n",
       "      <td>-1</td>\n",
       "      <td>117</td>\n",
       "      <td>101</td>\n",
       "      <td>109</td>\n",
       "      <td>I2</td>\n",
       "      <td>Rear-Wheel Drive</td>\n",
       "      <td>Gasoline</td>\n",
       "      <td>16</td>\n",
       "      <td>2023</td>\n",
       "    </tr>\n",
       "    <tr>\n",
       "      <th>1034</th>\n",
       "      <td>8250</td>\n",
       "      <td>6</td>\n",
       "      <td>Nissan</td>\n",
       "      <td>CA</td>\n",
       "      <td>Automatic</td>\n",
       "      <td>36998</td>\n",
       "      <td>Red</td>\n",
       "      <td>Gray</td>\n",
       "      <td>126</td>\n",
       "      <td>101</td>\n",
       "      <td>114</td>\n",
       "      <td>-1</td>\n",
       "      <td>Front-Wheel Drive</td>\n",
       "      <td>Electric</td>\n",
       "      <td>5</td>\n",
       "      <td>4044</td>\n",
       "    </tr>\n",
       "    <tr>\n",
       "      <th>1131</th>\n",
       "      <td>19999</td>\n",
       "      <td>3</td>\n",
       "      <td>Chevrolet</td>\n",
       "      <td>WA</td>\n",
       "      <td>Automatic</td>\n",
       "      <td>36125</td>\n",
       "      <td>Red</td>\n",
       "      <td>Gray</td>\n",
       "      <td>127</td>\n",
       "      <td>110</td>\n",
       "      <td>119</td>\n",
       "      <td>-1</td>\n",
       "      <td>Front-Wheel Drive</td>\n",
       "      <td>Electric</td>\n",
       "      <td>5</td>\n",
       "      <td>484</td>\n",
       "    </tr>\n",
       "    <tr>\n",
       "      <th>1350</th>\n",
       "      <td>6891</td>\n",
       "      <td>7</td>\n",
       "      <td>Nissan</td>\n",
       "      <td>WA</td>\n",
       "      <td>Automatic</td>\n",
       "      <td>65108</td>\n",
       "      <td>Black</td>\n",
       "      <td>Black</td>\n",
       "      <td>126</td>\n",
       "      <td>101</td>\n",
       "      <td>114</td>\n",
       "      <td>-1</td>\n",
       "      <td>Front-Wheel Drive</td>\n",
       "      <td>Electric</td>\n",
       "      <td>5</td>\n",
       "      <td>839</td>\n",
       "    </tr>\n",
       "    <tr>\n",
       "      <th>1524</th>\n",
       "      <td>16910</td>\n",
       "      <td>3</td>\n",
       "      <td>Nissan</td>\n",
       "      <td>WA</td>\n",
       "      <td>Automatic</td>\n",
       "      <td>22671</td>\n",
       "      <td>Silver</td>\n",
       "      <td>Black</td>\n",
       "      <td>125</td>\n",
       "      <td>100</td>\n",
       "      <td>113</td>\n",
       "      <td>-1</td>\n",
       "      <td>Front-Wheel Drive</td>\n",
       "      <td>Electric</td>\n",
       "      <td>2</td>\n",
       "      <td>1537</td>\n",
       "    </tr>\n",
       "    <tr>\n",
       "      <th>1525</th>\n",
       "      <td>17781</td>\n",
       "      <td>3</td>\n",
       "      <td>Nissan</td>\n",
       "      <td>WA</td>\n",
       "      <td>Automatic</td>\n",
       "      <td>17460</td>\n",
       "      <td>Blue</td>\n",
       "      <td>Black</td>\n",
       "      <td>125</td>\n",
       "      <td>100</td>\n",
       "      <td>113</td>\n",
       "      <td>-1</td>\n",
       "      <td>Front-Wheel Drive</td>\n",
       "      <td>Electric</td>\n",
       "      <td>3</td>\n",
       "      <td>1637</td>\n",
       "    </tr>\n",
       "    <tr>\n",
       "      <th>1526</th>\n",
       "      <td>17981</td>\n",
       "      <td>2</td>\n",
       "      <td>Nissan</td>\n",
       "      <td>WA</td>\n",
       "      <td>Automatic</td>\n",
       "      <td>15295</td>\n",
       "      <td>Silver</td>\n",
       "      <td>Black</td>\n",
       "      <td>124</td>\n",
       "      <td>99</td>\n",
       "      <td>112</td>\n",
       "      <td>-1</td>\n",
       "      <td>Front-Wheel Drive</td>\n",
       "      <td>Electric</td>\n",
       "      <td>6</td>\n",
       "      <td>1747</td>\n",
       "    </tr>\n",
       "    <tr>\n",
       "      <th>1557</th>\n",
       "      <td>7999</td>\n",
       "      <td>7</td>\n",
       "      <td>Nissan</td>\n",
       "      <td>WA</td>\n",
       "      <td>Automatic</td>\n",
       "      <td>44961</td>\n",
       "      <td>Silver</td>\n",
       "      <td>-1</td>\n",
       "      <td>126</td>\n",
       "      <td>101</td>\n",
       "      <td>114</td>\n",
       "      <td>-1</td>\n",
       "      <td>Front-Wheel Drive</td>\n",
       "      <td>Electric</td>\n",
       "      <td>5</td>\n",
       "      <td>4823</td>\n",
       "    </tr>\n",
       "  </tbody>\n",
       "</table>\n",
       "</div>"
      ],
      "text/plain": [
       "      price($)  age_of_car      model location Transmission  Mileage(miles)  \\\n",
       "29        9386           4       Ford       CA    Automatic           36984   \n",
       "49        9750           4       Ford       CA    Automatic           34584   \n",
       "294      18887           3        BMW       CA    Automatic           20122   \n",
       "530      19490           3        BMW       CA    Automatic           23104   \n",
       "1034      8250           6     Nissan       CA    Automatic           36998   \n",
       "1131     19999           3  Chevrolet       WA    Automatic           36125   \n",
       "1350      6891           7     Nissan       WA    Automatic           65108   \n",
       "1524     16910           3     Nissan       WA    Automatic           22671   \n",
       "1525     17781           3     Nissan       WA    Automatic           17460   \n",
       "1526     17981           2     Nissan       WA    Automatic           15295   \n",
       "1557      7999           7     Nissan       WA    Automatic           44961   \n",
       "\n",
       "     Exterior_Color Interior_Color  Gas_mileage_city(MPG)  \\\n",
       "29            White             -1                    118   \n",
       "49           Silver             -1                    118   \n",
       "294           Black           Gray                    117   \n",
       "530           White             -1                    117   \n",
       "1034            Red           Gray                    126   \n",
       "1131            Red           Gray                    127   \n",
       "1350          Black          Black                    126   \n",
       "1524         Silver          Black                    125   \n",
       "1525           Blue          Black                    125   \n",
       "1526         Silver          Black                    124   \n",
       "1557         Silver             -1                    126   \n",
       "\n",
       "      Gas_mileage_HW(MPG)  Gas_mileage_comb(MPG) Engine         Drivetrain  \\\n",
       "29                     96                    108     -1  Front-Wheel Drive   \n",
       "49                     96                    108     -1  Front-Wheel Drive   \n",
       "294                   101                    109     I2   Rear-Wheel Drive   \n",
       "530                   101                    109     I2   Rear-Wheel Drive   \n",
       "1034                  101                    114     -1  Front-Wheel Drive   \n",
       "1131                  110                    119     -1  Front-Wheel Drive   \n",
       "1350                  101                    114     -1  Front-Wheel Drive   \n",
       "1524                  100                    113     -1  Front-Wheel Drive   \n",
       "1525                  100                    113     -1  Front-Wheel Drive   \n",
       "1526                   99                    112     -1  Front-Wheel Drive   \n",
       "1557                  101                    114     -1  Front-Wheel Drive   \n",
       "\n",
       "     Fuel_type  No._of_features  description_len  \n",
       "29    Electric                9             4125  \n",
       "49    Electric               10             4135  \n",
       "294   Gasoline                6             2438  \n",
       "530   Gasoline               16             2023  \n",
       "1034  Electric                5             4044  \n",
       "1131  Electric                5              484  \n",
       "1350  Electric                5              839  \n",
       "1524  Electric                2             1537  \n",
       "1525  Electric                3             1637  \n",
       "1526  Electric                6             1747  \n",
       "1557  Electric                5             4823  "
      ]
     },
     "metadata": {},
     "output_type": "display_data"
    }
   ],
   "source": [
    "display(df[df['Gas_mileage_city(MPG)']>80])"
   ]
  },
  {
   "cell_type": "markdown",
   "id": "4e5b1f4a",
   "metadata": {},
   "source": [
    "Most of the cars with high mileage are electric vehicles. Electric cars are more cost efficient and therefore can have higher mileage for the same cost of gasoline. I will not drop this data."
   ]
  },
  {
   "cell_type": "code",
   "execution_count": null,
   "id": "f3740c81",
   "metadata": {},
   "outputs": [],
   "source": [
    "len(df.loc[df['Gas_mileage_city(MPG)']<0])"
   ]
  },
  {
   "cell_type": "markdown",
   "id": "b8b6a865",
   "metadata": {},
   "source": [
    "This are missing values. Since the number of missing values are quite high, its better to impute with average value than to drop this rows."
   ]
  },
  {
   "cell_type": "code",
   "execution_count": null,
   "id": "3d97e661",
   "metadata": {},
   "outputs": [],
   "source": []
  },
  {
   "cell_type": "code",
   "execution_count": null,
   "id": "94bd7c5b",
   "metadata": {},
   "outputs": [],
   "source": []
  },
  {
   "cell_type": "code",
   "execution_count": null,
   "id": "93c4a8c2",
   "metadata": {},
   "outputs": [],
   "source": [
    "df['Gas_mileage_city(MPG)'].iloc[df[df['Gas_mileage_city(MPG)'] < 0].index] = int(df['Gas_mileage_city(MPG)'][df['Gas_mileage_city(MPG)'] > 0].mean())"
   ]
  },
  {
   "cell_type": "code",
   "execution_count": null,
   "id": "93f0a380",
   "metadata": {},
   "outputs": [],
   "source": [
    "#histogram_plot(df, column, x_end, bins)\n",
    "histogram_plot(df , 'Gas_mileage_HW(MPG)', 60, 50)"
   ]
  },
  {
   "cell_type": "code",
   "execution_count": null,
   "id": "4db770a4",
   "metadata": {},
   "outputs": [],
   "source": [
    "box_plot(df, 'Gas_mileage_HW(MPG)')"
   ]
  },
  {
   "cell_type": "markdown",
   "id": "84439c9b",
   "metadata": {},
   "source": [
    "This graph show similar behavior to city mileage which also makes sense as both are gas mileage."
   ]
  },
  {
   "cell_type": "code",
   "execution_count": null,
   "id": "7947f8ee",
   "metadata": {},
   "outputs": [],
   "source": [
    "len(df.loc[df['Gas_mileage_HW(MPG)']<0])"
   ]
  },
  {
   "cell_type": "markdown",
   "id": "12f0459f",
   "metadata": {},
   "source": [
    "Similar to city gas mileage we will impute the missing values with the average mileage of highway."
   ]
  },
  {
   "cell_type": "code",
   "execution_count": null,
   "id": "8ad72942",
   "metadata": {},
   "outputs": [],
   "source": [
    "df['Gas_mileage_HW(MPG)'].iloc[df[df['Gas_mileage_HW(MPG)'] < 0].index] = int(df['Gas_mileage_HW(MPG)'][df['Gas_mileage_HW(MPG)'] > 0].mean())"
   ]
  },
  {
   "cell_type": "code",
   "execution_count": null,
   "id": "3a49901f",
   "metadata": {},
   "outputs": [],
   "source": [
    "#histogram_plot(df, column, x_end, bins)\n",
    "histogram_plot(df , 'Gas_mileage_comb(MPG)', 60, 50)"
   ]
  },
  {
   "cell_type": "code",
   "execution_count": null,
   "id": "996c59ba",
   "metadata": {},
   "outputs": [],
   "source": [
    "box_plot(df, 'Gas_mileage_comb(MPG)')"
   ]
  },
  {
   "cell_type": "markdown",
   "id": "6aec5470",
   "metadata": {},
   "source": [
    "Similar graph to gas mileage of city and highway. "
   ]
  },
  {
   "cell_type": "code",
   "execution_count": null,
   "id": "f8f2b4c7",
   "metadata": {},
   "outputs": [],
   "source": [
    "len(df.loc[df['Gas_mileage_comb(MPG)']<0])"
   ]
  },
  {
   "cell_type": "markdown",
   "id": "6315cf9f",
   "metadata": {},
   "source": [
    "Similar to city gas mileage we will impute the missing values with the average combined mileage."
   ]
  },
  {
   "cell_type": "code",
   "execution_count": null,
   "id": "c6a0b537",
   "metadata": {},
   "outputs": [],
   "source": [
    "df['Gas_mileage_comb(MPG)'].iloc[df[df['Gas_mileage_comb(MPG)'] < 0].index] = int(df['Gas_mileage_comb(MPG)'][df['Gas_mileage_comb(MPG)'] > 0].mean())"
   ]
  },
  {
   "cell_type": "code",
   "execution_count": null,
   "id": "73705e40",
   "metadata": {},
   "outputs": [],
   "source": [
    "#histogram_plot(df, column, x_end, bins)\n",
    "histogram_plot(df , 'No._of_features', 35, 40)"
   ]
  },
  {
   "cell_type": "code",
   "execution_count": null,
   "id": "7b4d636f",
   "metadata": {},
   "outputs": [],
   "source": [
    "box_plot(df, 'No._of_features')"
   ]
  },
  {
   "cell_type": "markdown",
   "id": "010d9a2b",
   "metadata": {},
   "source": [
    "Most of the cars have up to 20 features. There are some cars with features more than 25. Lets take a look at those data below."
   ]
  },
  {
   "cell_type": "code",
   "execution_count": null,
   "id": "4795bf03",
   "metadata": {},
   "outputs": [],
   "source": [
    "len(df.loc[df['No._of_features']>25])"
   ]
  },
  {
   "cell_type": "code",
   "execution_count": null,
   "id": "6baf8205",
   "metadata": {},
   "outputs": [],
   "source": [
    "df.loc[df['No._of_features']>25]"
   ]
  },
  {
   "cell_type": "markdown",
   "id": "9070fc4d",
   "metadata": {},
   "source": [
    "Since only 10 c"
   ]
  },
  {
   "cell_type": "code",
   "execution_count": null,
   "id": "e4ccc079",
   "metadata": {},
   "outputs": [],
   "source": [
    "# Cleaned\n",
    "df.drop(df.loc[df['No._of_features']>25].index, inplace=True)\n",
    "df = df.reset_index(drop=True)"
   ]
  },
  {
   "cell_type": "code",
   "execution_count": null,
   "id": "9e01f550",
   "metadata": {},
   "outputs": [],
   "source": [
    "#histogram_plot(df, column, x_end, bins)\n",
    "histogram_plot(df , 'description_len', 10000, 60)"
   ]
  },
  {
   "cell_type": "code",
   "execution_count": null,
   "id": "e72fe492",
   "metadata": {},
   "outputs": [],
   "source": [
    "box_plot(df, 'description_len')"
   ]
  },
  {
   "cell_type": "markdown",
   "id": "950ac32b",
   "metadata": {},
   "source": [
    "Most of the description is written in less than 6000 words. "
   ]
  },
  {
   "cell_type": "markdown",
   "id": "3c13ca98",
   "metadata": {},
   "source": [
    "# Categorical Variables"
   ]
  },
  {
   "cell_type": "code",
   "execution_count": null,
   "id": "a1d81e24",
   "metadata": {},
   "outputs": [],
   "source": [
    "def categorical_eda(df, col, h, a):\n",
    "    # Plot count distribution of categorical data\n",
    "    sns.reset_orig()\n",
    "    df1 = df[df[col] != str(-1)]\n",
    "    fig = sns.catplot(x=df1[col], kind=\"count\", data=df1, height = h, aspect = a, \n",
    "                      order = df1[col].value_counts().index)\n",
    "    plt.xlabel('{}'.format(col), fontsize =12)\n",
    "    plt.ylabel('Count', fontsize =12)\n",
    "    fig.set_xticklabels(rotation=90, fontsize=12)\n",
    "    plt.show()"
   ]
  },
  {
   "cell_type": "code",
   "execution_count": null,
   "id": "53067e7e",
   "metadata": {},
   "outputs": [],
   "source": [
    "categorical_eda(df, 'model', 5, 2.5)"
   ]
  },
  {
   "cell_type": "markdown",
   "id": "347f7d66",
   "metadata": {},
   "source": [
    "Ford and Chevrolet cars are the most which make sense as they are American brands. Interestingly, Asian companies Toyota and Honda are also very common in America."
   ]
  },
  {
   "cell_type": "code",
   "execution_count": null,
   "id": "1040cade",
   "metadata": {},
   "outputs": [],
   "source": [
    "print('CA: California \\nWA: Washington')\n",
    "categorical_eda(df, 'location', 5, 1)"
   ]
  },
  {
   "cell_type": "code",
   "execution_count": null,
   "id": "adb2d3d6",
   "metadata": {},
   "outputs": [],
   "source": [
    "len(df.loc[df['location']==str(-1)])"
   ]
  },
  {
   "cell_type": "markdown",
   "id": "3c413c2f",
   "metadata": {},
   "source": [
    "Since location won't affect the price of car that much, we will replace missing values(-1) with CA of it's high value count."
   ]
  },
  {
   "cell_type": "code",
   "execution_count": null,
   "id": "4d5a8308",
   "metadata": {},
   "outputs": [],
   "source": [
    "df['location'] = df['location'].apply(lambda x: 'CA' if x == '-1' else x)"
   ]
  },
  {
   "cell_type": "code",
   "execution_count": null,
   "id": "d4445d8d",
   "metadata": {},
   "outputs": [],
   "source": [
    "categorical_eda(df, 'Transmission', 5, 1)"
   ]
  },
  {
   "cell_type": "code",
   "execution_count": null,
   "id": "b677b446",
   "metadata": {},
   "outputs": [],
   "source": [
    "len(df.loc[df['Transmission']==str(-1)])"
   ]
  },
  {
   "cell_type": "markdown",
   "id": "c3efa76c",
   "metadata": {},
   "source": [
    "A lot of car has missing value(-1) for Transmission. I am going to replace them with Automatic as most of cars nowadays are Automatic and so does the count value is high for Automatic transmission."
   ]
  },
  {
   "cell_type": "code",
   "execution_count": null,
   "id": "4406908d",
   "metadata": {},
   "outputs": [],
   "source": [
    "df['Transmission'] = df['Transmission'].apply(lambda x: 'Automatic' if x == '-1' else x)"
   ]
  },
  {
   "cell_type": "code",
   "execution_count": null,
   "id": "7f0a6c9c",
   "metadata": {},
   "outputs": [],
   "source": [
    "categorical_eda(df, 'Exterior_Color', 5, 2)"
   ]
  },
  {
   "cell_type": "code",
   "execution_count": null,
   "id": "5cda9b2f",
   "metadata": {},
   "outputs": [],
   "source": [
    "len(df.loc[df['Exterior_Color']==str(-1)])"
   ]
  },
  {
   "cell_type": "markdown",
   "id": "fb0d9024",
   "metadata": {},
   "source": [
    "Since the number of missing values is high we can impute the missing variables by adding a new column to capture it.  \n",
    "[Ref](https://medium.com/analytics-vidhya/ways-to-handle-categorical-column-missing-data-its-implementations-15dc4a56893)"
   ]
  },
  {
   "cell_type": "code",
   "execution_count": null,
   "id": "aca28637",
   "metadata": {},
   "outputs": [],
   "source": [
    "df['Exterior_color_imputed'] = df['Exterior_Color'].apply(lambda x: 1 if x == '-1' else 0)"
   ]
  },
  {
   "cell_type": "code",
   "execution_count": null,
   "id": "58f78862",
   "metadata": {},
   "outputs": [],
   "source": [
    "df['Exterior_Color'] = df['Exterior_Color'].apply(lambda x: 'Black' if x == '-1' else x)"
   ]
  },
  {
   "cell_type": "code",
   "execution_count": null,
   "id": "b6e6f62b",
   "metadata": {},
   "outputs": [],
   "source": [
    "categorical_eda(df, 'Interior_Color', 5, 2)"
   ]
  },
  {
   "cell_type": "code",
   "execution_count": null,
   "id": "244b0a54",
   "metadata": {},
   "outputs": [],
   "source": [
    "len(df.loc[df['Interior_Color']==str(-1)])"
   ]
  },
  {
   "cell_type": "markdown",
   "id": "7252e760",
   "metadata": {},
   "source": [
    "Replacing missing values(-1) with Black color which is mode of the variable. "
   ]
  },
  {
   "cell_type": "code",
   "execution_count": null,
   "id": "4b4ce974",
   "metadata": {},
   "outputs": [],
   "source": [
    "df['Interior_Color'] = df['Interior_Color'].apply(lambda x: 'Black' if x == '-1' else x)"
   ]
  },
  {
   "cell_type": "code",
   "execution_count": null,
   "id": "1a5e816c",
   "metadata": {},
   "outputs": [],
   "source": [
    "categorical_eda(df, 'Engine', 5, 2)"
   ]
  },
  {
   "cell_type": "code",
   "execution_count": null,
   "id": "c831a90f",
   "metadata": {},
   "outputs": [],
   "source": [
    "len(df.loc[df['Engine']==str(-1)])"
   ]
  },
  {
   "cell_type": "markdown",
   "id": "7f938939",
   "metadata": {},
   "source": [
    "I will replace the missing values with I4 as it is the most common engine in car."
   ]
  },
  {
   "cell_type": "code",
   "execution_count": null,
   "id": "b14eb987",
   "metadata": {},
   "outputs": [],
   "source": [
    "df['Engine'] = df['Engine'].apply(lambda x: 'I4' if x == '-1' else x)"
   ]
  },
  {
   "cell_type": "code",
   "execution_count": null,
   "id": "7b6c677e",
   "metadata": {},
   "outputs": [],
   "source": [
    "categorical_eda(df, 'Drivetrain', 5, 2)"
   ]
  },
  {
   "cell_type": "code",
   "execution_count": null,
   "id": "53619f63",
   "metadata": {},
   "outputs": [],
   "source": [
    "len(df.loc[df['Drivetrain']==str(-1)])"
   ]
  },
  {
   "cell_type": "markdown",
   "id": "e8d0c40f",
   "metadata": {},
   "source": [
    "Since most cars have FWD it is better to replace missing values with FWD."
   ]
  },
  {
   "cell_type": "code",
   "execution_count": null,
   "id": "82544379",
   "metadata": {},
   "outputs": [],
   "source": [
    "df['Drivetrain'] = df['Drivetrain'].apply(lambda x: 'Front-Wheel Drive' if x == '-1' else x)"
   ]
  },
  {
   "cell_type": "code",
   "execution_count": null,
   "id": "d17e607a",
   "metadata": {
    "scrolled": false
   },
   "outputs": [],
   "source": [
    "categorical_eda(df, 'Fuel_type', 5, 2)"
   ]
  },
  {
   "cell_type": "code",
   "execution_count": null,
   "id": "0cfaf1c5",
   "metadata": {},
   "outputs": [],
   "source": [
    "len(df.loc[df['Fuel_type']==str(-1)])"
   ]
  },
  {
   "cell_type": "markdown",
   "id": "6ff3da90",
   "metadata": {},
   "source": [
    "Replacing missing values with Gasoline as it is the most common type of fuel in cars."
   ]
  },
  {
   "cell_type": "code",
   "execution_count": null,
   "id": "61844cd5",
   "metadata": {},
   "outputs": [],
   "source": [
    "df['Fuel_type'] = df['Fuel_type'].apply(lambda x: 'Gasoline' if x == '-1' else x)"
   ]
  },
  {
   "cell_type": "code",
   "execution_count": null,
   "id": "7d3fccc7",
   "metadata": {},
   "outputs": [],
   "source": [
    "df.shape"
   ]
  },
  {
   "cell_type": "markdown",
   "id": "b9fdb052",
   "metadata": {},
   "source": [
    "# Bivariate Analysis"
   ]
  },
  {
   "cell_type": "code",
   "execution_count": null,
   "id": "ba7436de",
   "metadata": {},
   "outputs": [],
   "source": [
    "# scatter plots\n",
    "# correlation heatmap\n",
    "# barplot/swarmplots\n",
    "# Pivot tables"
   ]
  },
  {
   "cell_type": "code",
   "execution_count": null,
   "id": "489fe8eb",
   "metadata": {},
   "outputs": [],
   "source": [
    "df.head()"
   ]
  },
  {
   "cell_type": "markdown",
   "id": "81539daa",
   "metadata": {},
   "source": [
    "# Continuous - continuous relationship"
   ]
  },
  {
   "cell_type": "code",
   "execution_count": null,
   "id": "0ab94aa0",
   "metadata": {},
   "outputs": [],
   "source": [
    "def scatter_plot(df, x_input):    \n",
    "    sns.set_style('darkgrid')\n",
    "    fig, ax = plt.subplots(figsize = (10,6))\n",
    "    sns.regplot(x=df[x_input], y=df['price($)'], fit_reg=True, \n",
    "                line_kws={\"color\": \"black\"})\n",
    "    plt.title('Scatter plot of Price($) of car vs {}'.format(x_input), fontsize=13)\n",
    "    plt.xlabel('{}'.format(x_input), fontsize =12)\n",
    "    plt.ylabel('Price($)', fontsize =12)\n",
    "    plt.show()"
   ]
  },
  {
   "cell_type": "code",
   "execution_count": null,
   "id": "2826e2a8",
   "metadata": {},
   "outputs": [],
   "source": [
    "scatter_plot(df, 'Mileage(miles)')"
   ]
  },
  {
   "cell_type": "code",
   "execution_count": null,
   "id": "8765652e",
   "metadata": {},
   "outputs": [],
   "source": [
    "scatter_plot(df, 'Gas_mileage_city(MPG)')"
   ]
  },
  {
   "cell_type": "code",
   "execution_count": null,
   "id": "7260f9db",
   "metadata": {
    "scrolled": false
   },
   "outputs": [],
   "source": [
    "scatter_plot(df, 'Gas_mileage_HW(MPG)')"
   ]
  },
  {
   "cell_type": "code",
   "execution_count": null,
   "id": "a73f4403",
   "metadata": {},
   "outputs": [],
   "source": [
    "scatter_plot(df, 'Gas_mileage_comb(MPG)')"
   ]
  },
  {
   "cell_type": "code",
   "execution_count": null,
   "id": "10bb53a3",
   "metadata": {},
   "outputs": [],
   "source": [
    "scatter_plot(df, 'description_len')"
   ]
  },
  {
   "cell_type": "code",
   "execution_count": null,
   "id": "4733bcad",
   "metadata": {},
   "outputs": [],
   "source": [
    "#ref: https://github.com/PlayingNumbers/ds_salary_proj/blob/master/data_eda.ipynb\n",
    "plt.figure(figsize=(8, 8))\n",
    "cmap = sns.diverging_palette(220, 10, as_cmap=True)\n",
    "font = {'fontname':'Arial'}\n",
    "plt.xticks(fontsize = 12, **font, fontweight='bold')\n",
    "plt.yticks(fontsize = 12, **font, fontweight='bold')\n",
    "\n",
    "sns.heatmap(df[['price($)', 'Mileage(miles)', 'Gas_mileage_city(MPG)', 'Gas_mileage_HW(MPG)',\n",
    "               'Gas_mileage_comb(MPG)','description_len']].corr(),vmax=1, vmin =-0.5,center=0, \n",
    "            cmap=cmap, square=True, linewidths=.5, cbar_kws={\"shrink\": .5}, annot=True) ;"
   ]
  },
  {
   "cell_type": "markdown",
   "id": "fcf870f3",
   "metadata": {},
   "source": [
    "# Continuous - variable relationship"
   ]
  },
  {
   "cell_type": "code",
   "execution_count": null,
   "id": "335e80bf",
   "metadata": {},
   "outputs": [],
   "source": [
    "def swarm_plot(df, x_input, rot=0):    \n",
    "    sns.reset_orig()\n",
    "    fig, ax = plt.subplots(figsize = (10,6))\n",
    "    fig = sns.swarmplot(x=x_input, y=\"price($)\", data=df)\n",
    "    plt.title('Swarm plot of Price($) of car vs {}'.format(x_input), fontsize=13)\n",
    "    plt.xlabel('{}'.format(x_input), fontsize =12)\n",
    "    plt.ylabel('Price($)', fontsize =12)\n",
    "    plt.xticks(rotation=rot, fontsize=12)\n",
    "    plt.show()"
   ]
  },
  {
   "cell_type": "code",
   "execution_count": null,
   "id": "8a5286de",
   "metadata": {},
   "outputs": [],
   "source": [
    "swarm_plot(df, 'age_of_car')"
   ]
  },
  {
   "cell_type": "code",
   "execution_count": null,
   "id": "e6371f77",
   "metadata": {},
   "outputs": [],
   "source": [
    "swarm_plot(df, 'No._of_features')"
   ]
  },
  {
   "cell_type": "code",
   "execution_count": null,
   "id": "68680f1b",
   "metadata": {},
   "outputs": [],
   "source": [
    "df['No._of_features'].value_counts()"
   ]
  },
  {
   "cell_type": "code",
   "execution_count": null,
   "id": "04e2b900",
   "metadata": {},
   "outputs": [],
   "source": [
    "swarm_plot(df, 'model', 90)"
   ]
  },
  {
   "cell_type": "code",
   "execution_count": null,
   "id": "0e4381f2",
   "metadata": {},
   "outputs": [],
   "source": [
    "swarm_plot(df, 'location')"
   ]
  },
  {
   "cell_type": "code",
   "execution_count": null,
   "id": "a583dca4",
   "metadata": {},
   "outputs": [],
   "source": [
    "swarm_plot(df, 'Transmission')"
   ]
  },
  {
   "cell_type": "code",
   "execution_count": null,
   "id": "8791ae35",
   "metadata": {},
   "outputs": [],
   "source": [
    "swarm_plot(df, 'Exterior_Color')"
   ]
  },
  {
   "cell_type": "code",
   "execution_count": null,
   "id": "3b60b8fa",
   "metadata": {},
   "outputs": [],
   "source": [
    "swarm_plot(df, 'Interior_Color')"
   ]
  },
  {
   "cell_type": "code",
   "execution_count": null,
   "id": "19461c1a",
   "metadata": {},
   "outputs": [],
   "source": [
    "swarm_plot(df, 'Engine')"
   ]
  },
  {
   "cell_type": "code",
   "execution_count": null,
   "id": "cc2a5c06",
   "metadata": {},
   "outputs": [],
   "source": [
    "swarm_plot(df, 'Drivetrain')"
   ]
  },
  {
   "cell_type": "code",
   "execution_count": null,
   "id": "289ad665",
   "metadata": {},
   "outputs": [],
   "source": [
    "swarm_plot(df, 'Fuel_type')"
   ]
  },
  {
   "cell_type": "markdown",
   "id": "031ade23",
   "metadata": {},
   "source": [
    "# Pivot tables"
   ]
  },
  {
   "cell_type": "code",
   "execution_count": null,
   "id": "2967df19",
   "metadata": {},
   "outputs": [],
   "source": [
    "np.round(pd.pivot_table(df, values='price($)', index=['model'],\n",
    "               aggfunc='mean')).sort_values('price($)', ascending=False)"
   ]
  },
  {
   "cell_type": "code",
   "execution_count": null,
   "id": "aaf91680",
   "metadata": {},
   "outputs": [],
   "source": [
    "np.round(pd.pivot_table(df, values='price($)', index=['model'],\n",
    "               aggfunc='count')).sort_values('price($)', ascending=False)"
   ]
  },
  {
   "cell_type": "code",
   "execution_count": null,
   "id": "d1c1720d",
   "metadata": {},
   "outputs": [],
   "source": [
    "np.round(pd.pivot_table(df, values='price($)', index=['Engine'],\n",
    "               aggfunc='mean')).sort_values('price($)', ascending=False)"
   ]
  },
  {
   "cell_type": "code",
   "execution_count": null,
   "id": "aa547ae5",
   "metadata": {},
   "outputs": [],
   "source": [
    "np.round(pd.pivot_table(df, values='price($)', index=['Transmission'],\n",
    "               aggfunc='mean')).sort_values('price($)', ascending=False)"
   ]
  },
  {
   "cell_type": "code",
   "execution_count": null,
   "id": "9ec907ec",
   "metadata": {},
   "outputs": [],
   "source": [
    "np.round(pd.pivot_table(df, values='price($)', index=['Exterior_Color'],\n",
    "               aggfunc='mean')).sort_values('price($)', ascending=False)"
   ]
  },
  {
   "cell_type": "code",
   "execution_count": null,
   "id": "aa4d0d6c",
   "metadata": {},
   "outputs": [],
   "source": [
    "df.head(2)"
   ]
  },
  {
   "cell_type": "code",
   "execution_count": null,
   "id": "9167743f",
   "metadata": {},
   "outputs": [],
   "source": [
    "np.round(pd.pivot_table(df, values='price($)', index=['Fuel_type'],\n",
    "               aggfunc='mean')).sort_values('price($)', ascending=False)"
   ]
  },
  {
   "cell_type": "code",
   "execution_count": null,
   "id": "9e809042",
   "metadata": {},
   "outputs": [],
   "source": [
    "np.round(pd.pivot_table(df, values='price($)', index=['Drivetrain'],\n",
    "               aggfunc='mean')).sort_values('price($)', ascending=False)"
   ]
  },
  {
   "cell_type": "code",
   "execution_count": null,
   "id": "420d4b14",
   "metadata": {},
   "outputs": [],
   "source": [
    "np.round(pd.pivot_table(df, values='Gas_mileage_comb(MPG)', index=['Engine'], \n",
    "               aggfunc='mean')).sort_values('Gas_mileage_comb(MPG)', ascending=False)"
   ]
  },
  {
   "cell_type": "code",
   "execution_count": null,
   "id": "453f964e",
   "metadata": {},
   "outputs": [],
   "source": [
    "np.round(pd.pivot_table(df, values='price($)', index=['Fuel_type', 'Drivetrain', 'Transmission'],\n",
    "               aggfunc='mean'))"
   ]
  },
  {
   "cell_type": "code",
   "execution_count": null,
   "id": "dedf42a8",
   "metadata": {},
   "outputs": [],
   "source": [
    "pd.pivot_table(df, values='price($)', index=['Fuel_type', 'Drivetrain', 'Transmission'],\n",
    "               aggfunc='count')"
   ]
  },
  {
   "cell_type": "code",
   "execution_count": null,
   "id": "d9873f4b",
   "metadata": {},
   "outputs": [],
   "source": [
    "np.round(pd.pivot_table(df, values='price($)', index=['Engine', 'Drivetrain', 'Transmission'],\n",
    "               aggfunc='mean'))"
   ]
  },
  {
   "cell_type": "code",
   "execution_count": null,
   "id": "4c291e74",
   "metadata": {},
   "outputs": [],
   "source": [
    "pd.pivot_table(df, values='price($)', index=['Engine', 'Drivetrain', 'Transmission'],\n",
    "               aggfunc='count')"
   ]
  },
  {
   "cell_type": "code",
   "execution_count": null,
   "id": "81390d18",
   "metadata": {},
   "outputs": [],
   "source": [
    "np.round(pd.pivot_table(df[df['Fuel_type']=='Gasoline'], values='price($)', index=['Drivetrain', 'Transmission'],\n",
    "               columns ='Exterior_Color', aggfunc='mean'))"
   ]
  },
  {
   "cell_type": "code",
   "execution_count": null,
   "id": "61093d4b",
   "metadata": {},
   "outputs": [],
   "source": [
    "pd.pivot_table(df[df['Fuel_type']=='Gasoline'], values='price($)', index=['Drivetrain', 'Transmission'],\n",
    "               columns ='Exterior_Color', aggfunc='count')"
   ]
  },
  {
   "cell_type": "markdown",
   "id": "1a097fda",
   "metadata": {},
   "source": [
    "# Wordcloud"
   ]
  },
  {
   "cell_type": "code",
   "execution_count": null,
   "id": "94f0dc85",
   "metadata": {},
   "outputs": [],
   "source": [
    "import nltk\n",
    "from nltk.corpus import stopwords\n",
    "from nltk.tokenize import word_tokenize\n",
    "from wordcloud import WordCloud, ImageColorGenerator, STOPWORDS"
   ]
  },
  {
   "cell_type": "code",
   "execution_count": null,
   "id": "aff1e18d",
   "metadata": {},
   "outputs": [],
   "source": [
    "# ref: https://github.com/PlayingNumbers/ds_salary_proj/blob/master/data_eda.ipynb\n",
    "def Display_WordCloud(Column):\n",
    "    words = \" \".join(Column)\n",
    "\n",
    "    def punctuation_stop(text):\n",
    "        \"\"\"remove punctuation and stop words\"\"\"\n",
    "        filtered = []\n",
    "        stop_words = set(stopwords.words('english'))\n",
    "        word_tokens = word_tokenize(text)\n",
    "        for w in word_tokens:\n",
    "            if w not in (stop_words)  and w.isalpha() :\n",
    "                filtered.append(w.lower())\n",
    "        return filtered\n",
    "\n",
    "\n",
    "    words_filtered = punctuation_stop(words)\n",
    "    text = \" \".join([ele for ele in words_filtered])\n",
    "    wc= WordCloud(background_color=\"black\", random_state=1,\n",
    "                  stopwords=STOPWORDS, max_words = 2000, width =2500, height = 2500)\n",
    "    wc.generate(text)\n",
    "\n",
    "    plt.figure(figsize=[8,8])\n",
    "    plt.imshow(wc, interpolation=\"bilinear\")\n",
    "    plt.axis('off')\n",
    "    plt.tight_layout(pad=0)\n",
    "    return plt.show()"
   ]
  },
  {
   "cell_type": "code",
   "execution_count": null,
   "id": "d81622e9",
   "metadata": {
    "scrolled": false
   },
   "outputs": [],
   "source": [
    "#Display_WordCloud(df_car['Description'])"
   ]
  },
  {
   "cell_type": "code",
   "execution_count": null,
   "id": "2a53b472",
   "metadata": {},
   "outputs": [],
   "source": []
  }
 ],
 "metadata": {
  "kernelspec": {
   "display_name": "Python 3",
   "language": "python",
   "name": "python3"
  },
  "language_info": {
   "codemirror_mode": {
    "name": "ipython",
    "version": 3
   },
   "file_extension": ".py",
   "mimetype": "text/x-python",
   "name": "python",
   "nbconvert_exporter": "python",
   "pygments_lexer": "ipython3",
   "version": "3.8.5"
  },
  "toc": {
   "base_numbering": 1,
   "nav_menu": {
    "height": "12px",
    "width": "160px"
   },
   "number_sections": true,
   "sideBar": true,
   "skip_h1_title": false,
   "title_cell": "Table of Contents",
   "title_sidebar": "Contents",
   "toc_cell": false,
   "toc_position": {},
   "toc_section_display": true,
   "toc_window_display": false
  },
  "varInspector": {
   "cols": {
    "lenName": 16,
    "lenType": 16,
    "lenVar": 40
   },
   "kernels_config": {
    "python": {
     "delete_cmd_postfix": "",
     "delete_cmd_prefix": "del ",
     "library": "var_list.py",
     "varRefreshCmd": "print(var_dic_list())"
    },
    "r": {
     "delete_cmd_postfix": ") ",
     "delete_cmd_prefix": "rm(",
     "library": "var_list.r",
     "varRefreshCmd": "cat(var_dic_list()) "
    }
   },
   "types_to_exclude": [
    "module",
    "function",
    "builtin_function_or_method",
    "instance",
    "_Feature"
   ],
   "window_display": false
  }
 },
 "nbformat": 4,
 "nbformat_minor": 5
}
