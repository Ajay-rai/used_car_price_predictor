{
 "cells": [
  {
   "cell_type": "code",
   "execution_count": 1,
   "id": "7906e361",
   "metadata": {},
   "outputs": [],
   "source": [
    "from selenium.common.exceptions import NoSuchElementException, ElementClickInterceptedException\n",
    "from selenium import webdriver\n",
    "import time\n",
    "import pandas as pd"
   ]
  },
  {
   "cell_type": "code",
   "execution_count": 2,
   "id": "1a57c026",
   "metadata": {},
   "outputs": [],
   "source": [
    "def get_cars(num_cars, path, sleep_time):\n",
    "    \n",
    "    '''Gathers cars as a dataframe, scraped from Cargurus'''\n",
    "    \n",
    "    #Initializing the webdriver\n",
    "    options = webdriver.ChromeOptions()\n",
    "   \n",
    "    #Uncomment the line below if you'd like to scrape without a new Chrome window every time.\n",
    "    #options.add_argument('headless')\n",
    "    \n",
    "    #Change the path to where chromedriver is in your home folder.\n",
    "    driver = webdriver.Chrome(executable_path=path, options=options)\n",
    "    driver.set_window_size(1120, 1000)\n",
    "\n",
    "    url = 'https://www.cargurus.com/Cars/inventorylisting/viewDetailsFilterViewInventoryListing.action?zip=90011&contactlessOptions=REMOTE_PURCHASES&showNegotiable=true&sortDir=ASC&sourceContext=carGurusHomePageModel&distance=50000&sortType=DEAL_SCORE#listing=301523514'\n",
    "    driver.get(url)\n",
    "    cars = []\n",
    "    \n",
    "    \n",
    "\n",
    "#########################################\n",
    "    while len(cars) < num_cars: #If true, should be still looking for new cars.\n",
    "        \n",
    "        #Going through each car details in this page\n",
    "        \n",
    "        collected_successfully = False\n",
    "            \n",
    "        while not collected_successfully:\n",
    "            try:\n",
    "                car_title  = driver.find_element_by_xpath('//*[@id=\"cargurus-listing-search\"]/div[1]/div[3]/div[1]/h1').text\n",
    "            except NoSuchElementException:\n",
    "                car_title = -1\n",
    "            try:\n",
    "                car_location = driver.find_element_by_xpath('//*[@id=\"cargurus-listing-search\"]/div[1]/div[3]/div[1]/div').text  #enters location and distance\n",
    "            except NoSuchElementException:\n",
    "                car_location = -1\n",
    "            try:\n",
    "                car_details = driver.find_element_by_xpath('//*[@id=\"cargurus-listing-search\"]/div[1]/div[3]/div[2]/div[2]/section[4]').text\n",
    "            except NoSuchElementException:\n",
    "                car_details = -1\n",
    "            try:\n",
    "                car_dealer = driver.find_element_by_xpath('//*[@id=\"cargurus-listing-search\"]/div[1]/div[3]/div[2]/div[2]/section[1]/h2').text\n",
    "            except NoSuchElementException:\n",
    "                car_dealer = -1\n",
    "            try:\n",
    "                car_contact = driver.find_element_by_class_name('_3fXy3w').text\n",
    "            except NoSuchElementException:\n",
    "                car_contact = -1\n",
    "            try:\n",
    "                car_description = driver.find_element_by_xpath('//*[@id=\"cargurus-listing-search\"]/div[1]/div[3]/div[2]/div[2]/section[5]').text\n",
    "            except NoSuchElementException:\n",
    "                car_description = -1\n",
    "            \n",
    "            collected_successfully = True\n",
    "                \n",
    "                \n",
    "\n",
    "\n",
    "            \n",
    "                \n",
    "                \n",
    "        cars.append({\"Car Title\" : car_title,\n",
    "                    \"Location\" : car_location,\n",
    "                    \"Details\" : car_details,\n",
    "                    \"Dealer\" : car_dealer,\n",
    "                    \"Contact\" : car_contact,\n",
    "                    \"Description\" : car_description})\n",
    "       \n",
    "\n",
    "        #Clicking on the \"next page\" button\n",
    "        try:\n",
    "            driver.find_element_by_class_name('svg-inline--fa.fa-caret-right.fa-w-6._4BNaFw').click()\n",
    "        except NoSuchElementException:\n",
    "            print(\"Scraping terminated before reaching target number of cars. Needed {}, got {}.\".format(num_cars, len(cars)))\n",
    "            break\n",
    "\n",
    "    return pd.DataFrame(cars)  #This line converts the dictionary object into a pandas DataFrame."
   ]
  },
  {
   "cell_type": "code",
   "execution_count": 24,
   "id": "cad911ce",
   "metadata": {},
   "outputs": [
    {
     "data": {
      "text/html": [
       "<div>\n",
       "<style scoped>\n",
       "    .dataframe tbody tr th:only-of-type {\n",
       "        vertical-align: middle;\n",
       "    }\n",
       "\n",
       "    .dataframe tbody tr th {\n",
       "        vertical-align: top;\n",
       "    }\n",
       "\n",
       "    .dataframe thead th {\n",
       "        text-align: right;\n",
       "    }\n",
       "</style>\n",
       "<table border=\"1\" class=\"dataframe\">\n",
       "  <thead>\n",
       "    <tr style=\"text-align: right;\">\n",
       "      <th></th>\n",
       "      <th>Car Title</th>\n",
       "      <th>Location</th>\n",
       "      <th>Details</th>\n",
       "      <th>Dealer</th>\n",
       "      <th>Contact</th>\n",
       "      <th>Description</th>\n",
       "    </tr>\n",
       "  </thead>\n",
       "  <tbody>\n",
       "    <tr>\n",
       "      <th>0</th>\n",
       "      <td>2017 Mercedes-Benz GLS-Class GLS 450 4MATIC AW...</td>\n",
       "      <td>Murrieta, CA · 71 mi away</td>\n",
       "      <td>Dealer's Price:\\n$36,999\\nLocation:\\nMurrieta,...</td>\n",
       "      <td>Abramovich Motors</td>\n",
       "      <td>(951) 307-1720</td>\n",
       "      <td>Dealer's Description\\nTravel in style behind t...</td>\n",
       "    </tr>\n",
       "    <tr>\n",
       "      <th>1</th>\n",
       "      <td>2017 Chevrolet Tahoe Premier RWD - $39,415</td>\n",
       "      <td>Colton, CA · 52 mi away</td>\n",
       "      <td>Dealer's Price:\\n$39,415\\nLocation:\\nColton, C...</td>\n",
       "      <td>Avis Car Sales - Colton</td>\n",
       "      <td>(951) 484-1038</td>\n",
       "      <td>Dealer's Description\\nCARFAX One-Owner. Clean ...</td>\n",
       "    </tr>\n",
       "  </tbody>\n",
       "</table>\n",
       "</div>"
      ],
      "text/plain": [
       "                                           Car Title  \\\n",
       "0  2017 Mercedes-Benz GLS-Class GLS 450 4MATIC AW...   \n",
       "1         2017 Chevrolet Tahoe Premier RWD - $39,415   \n",
       "\n",
       "                    Location  \\\n",
       "0  Murrieta, CA · 71 mi away   \n",
       "1    Colton, CA · 52 mi away   \n",
       "\n",
       "                                             Details                   Dealer  \\\n",
       "0  Dealer's Price:\\n$36,999\\nLocation:\\nMurrieta,...        Abramovich Motors   \n",
       "1  Dealer's Price:\\n$39,415\\nLocation:\\nColton, C...  Avis Car Sales - Colton   \n",
       "\n",
       "          Contact                                        Description  \n",
       "0  (951) 307-1720  Dealer's Description\\nTravel in style behind t...  \n",
       "1  (951) 484-1038  Dealer's Description\\nCARFAX One-Owner. Clean ...  "
      ]
     },
     "execution_count": 24,
     "metadata": {},
     "output_type": "execute_result"
    }
   ],
   "source": [
    "#This line will open a new chrome window and start the scraping.\n",
    "path = 'C:\\webdrivers\\chromedriver'\n",
    "csv_file_path = r'C:\\Users\\ajy00\\Desktop\\Datascience\\carguru_scrap.csv'\n",
    "df = get_cars(2, path, 2)\n",
    "# df.to_csv(csv_file_path, index = False)\n",
    "df"
   ]
  },
  {
   "cell_type": "code",
   "execution_count": 6,
   "id": "f5167115",
   "metadata": {},
   "outputs": [],
   "source": [
    "df.to_csv(csv_file_path, index = False)"
   ]
  },
  {
   "cell_type": "code",
   "execution_count": 9,
   "id": "77202915",
   "metadata": {},
   "outputs": [
    {
     "data": {
      "text/plain": [
       "\"Dealer's Price:\\n$39,415\\nLocation:\\nColton, CA\\n52 mi away\\nMileage:\\n36,052 miles\\nTransmission:\\n6-Speed Automatic Overdrive\\nExterior Color:\\nBlack\\nInterior Color:\\nJet Black\\nEngine:\\nV8 Flex Fuel Vehicle\\nDrivetrain:\\n4X2\\nFuel Type:\\nFlex Fuel Vehicle\\nVIN:\\n1GNSCCKC9HR164743\\nStock #:\\n80506020\\nMajor Options:\\nLeather Seats, Power Package, Navigation System, Suspension Package, Alloy Wheels, Third Row Seating, Blind Spot Monitoring, Parking Sensors, Heated Seats, Android Auto, CarPlay, Bluetooth, Memory Package, Backup Camera, Remote Start\\nNHTSA Overall Safety Rating:\""
      ]
     },
     "execution_count": 9,
     "metadata": {},
     "output_type": "execute_result"
    }
   ],
   "source": [
    "df['Details'].iloc[1]\n"
   ]
  },
  {
   "cell_type": "code",
   "execution_count": 10,
   "id": "85654b48",
   "metadata": {},
   "outputs": [
    {
     "data": {
      "text/plain": [
       "pandas.core.series.Series"
      ]
     },
     "execution_count": 10,
     "metadata": {},
     "output_type": "execute_result"
    }
   ],
   "source": [
    "type(df['Details'])"
   ]
  },
  {
   "cell_type": "code",
   "execution_count": 16,
   "id": "f079810f",
   "metadata": {},
   "outputs": [
    {
     "data": {
      "text/plain": [
       "\"0    Dealer's Price:\\\\n$36,999\\\\nLocation:\\\\nMurrieta,...\\n1    Dealer's Price:\\\\n$39,415\\\\nLocation:\\\\nColton, C...\\nName: Details, dtype: object\""
      ]
     },
     "execution_count": 16,
     "metadata": {},
     "output_type": "execute_result"
    }
   ],
   "source": [
    "str(df['Details']) "
   ]
  },
  {
   "cell_type": "code",
   "execution_count": 23,
   "id": "24345c73",
   "metadata": {},
   "outputs": [
    {
     "data": {
      "text/plain": [
       "\"0    Dealer's Price:\\\\n$36\""
      ]
     },
     "execution_count": 23,
     "metadata": {},
     "output_type": "execute_result"
    }
   ],
   "source": [
    "str(df['Details'])[0:25] "
   ]
  },
  {
   "cell_type": "code",
   "execution_count": null,
   "id": "811d8f0b",
   "metadata": {},
   "outputs": [],
   "source": []
  }
 ],
 "metadata": {
  "kernelspec": {
   "display_name": "Python 3",
   "language": "python",
   "name": "python3"
  },
  "language_info": {
   "codemirror_mode": {
    "name": "ipython",
    "version": 3
   },
   "file_extension": ".py",
   "mimetype": "text/x-python",
   "name": "python",
   "nbconvert_exporter": "python",
   "pygments_lexer": "ipython3",
   "version": "3.8.5"
  }
 },
 "nbformat": 4,
 "nbformat_minor": 5
}
