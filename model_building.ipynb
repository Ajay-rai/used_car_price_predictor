{
 "cells": [
  {
   "cell_type": "markdown",
   "metadata": {},
   "source": [
    "# Objective\n",
    "1. Convert categorial variables using one-hot encoding for training models\n",
    "2. Perform different regression models(Multilinear regression, Ridge regression, Lasso regression, Random Forest and XGboost).\n",
    "3. Selection of best model: model which gives least Mean Absolute Error(MAE) for test data.\n",
    "4. Saving the best model in binary format for deployment."
   ]
  },
  {
   "cell_type": "markdown",
   "metadata": {},
   "source": [
    "# Importing libraries "
   ]
  },
  {
   "cell_type": "code",
   "execution_count": 1,
   "metadata": {},
   "outputs": [],
   "source": [
    "import warnings\n",
    "warnings.filterwarnings('ignore')\n",
    "\n",
    "import pandas as pd\n",
    "import numpy as np\n",
    "\n",
    "#import sklearn\n",
    "from sklearn.preprocessing import OneHotEncoder\n",
    "from sklearn.model_selection import train_test_split, cross_val_score, GridSearchCV\n",
    "from sklearn.linear_model import Ridge, LinearRegression, ElasticNet, Lasso\n",
    "from sklearn.ensemble import RandomForestRegressor\n",
    "from sklearn.metrics import mean_absolute_error\n",
    "\n",
    "from xgboost import XGBRegressor\n",
    "\n",
    "import matplotlib.pyplot as plt\n",
    "\n",
    "# displaying all the columns and row throughout the notebook\n",
    "pd.set_option('display.max_columns', None)\n",
    "pd.set_option('display.max_rows', None)"
   ]
  },
  {
   "cell_type": "markdown",
   "metadata": {},
   "source": [
    "# Importing data "
   ]
  },
  {
   "cell_type": "code",
   "execution_count": 2,
   "metadata": {},
   "outputs": [],
   "source": [
    "df_car = pd.read_csv(r'C:\\Users\\ajy00\\OneDrive\\Desktop\\datascience\\data_modelbuild.csv', index_col=[0])\n",
    "df = df_car.copy()"
   ]
  },
  {
   "cell_type": "markdown",
   "metadata": {},
   "source": [
    "Lets look at the first few rows of data below."
   ]
  },
  {
   "cell_type": "code",
   "execution_count": 3,
   "metadata": {
    "scrolled": true
   },
   "outputs": [
    {
     "data": {
      "text/html": [
       "<div>\n",
       "<style scoped>\n",
       "    .dataframe tbody tr th:only-of-type {\n",
       "        vertical-align: middle;\n",
       "    }\n",
       "\n",
       "    .dataframe tbody tr th {\n",
       "        vertical-align: top;\n",
       "    }\n",
       "\n",
       "    .dataframe thead th {\n",
       "        text-align: right;\n",
       "    }\n",
       "</style>\n",
       "<table border=\"1\" class=\"dataframe\">\n",
       "  <thead>\n",
       "    <tr style=\"text-align: right;\">\n",
       "      <th></th>\n",
       "      <th>price($)</th>\n",
       "      <th>age_of_car</th>\n",
       "      <th>model</th>\n",
       "      <th>Transmission</th>\n",
       "      <th>Mileage(miles)</th>\n",
       "      <th>Exterior_Color</th>\n",
       "      <th>Interior_Color</th>\n",
       "      <th>Gas_mileage_comb(MPG)</th>\n",
       "      <th>Engine</th>\n",
       "      <th>Drivetrain</th>\n",
       "      <th>Fuel_type</th>\n",
       "      <th>No._of_features</th>\n",
       "      <th>description_len</th>\n",
       "      <th>Exterior_color_imputed</th>\n",
       "    </tr>\n",
       "  </thead>\n",
       "  <tbody>\n",
       "    <tr>\n",
       "      <th>0</th>\n",
       "      <td>36999</td>\n",
       "      <td>4</td>\n",
       "      <td>Mercedes-Benz</td>\n",
       "      <td>Automatic</td>\n",
       "      <td>30336</td>\n",
       "      <td>Silver</td>\n",
       "      <td>Black</td>\n",
       "      <td>19</td>\n",
       "      <td>V6</td>\n",
       "      <td>All-Wheel Drive</td>\n",
       "      <td>Gasoline</td>\n",
       "      <td>5</td>\n",
       "      <td>2551</td>\n",
       "      <td>0</td>\n",
       "    </tr>\n",
       "    <tr>\n",
       "      <th>1</th>\n",
       "      <td>39415</td>\n",
       "      <td>4</td>\n",
       "      <td>Chevrolet</td>\n",
       "      <td>Automatic</td>\n",
       "      <td>36052</td>\n",
       "      <td>Black</td>\n",
       "      <td>Black</td>\n",
       "      <td>25</td>\n",
       "      <td>V8</td>\n",
       "      <td>Front-Wheel Drive</td>\n",
       "      <td>Flex Fuel Vehicle</td>\n",
       "      <td>15</td>\n",
       "      <td>6158</td>\n",
       "      <td>0</td>\n",
       "    </tr>\n",
       "    <tr>\n",
       "      <th>2</th>\n",
       "      <td>19697</td>\n",
       "      <td>1</td>\n",
       "      <td>Honda</td>\n",
       "      <td>Automatic</td>\n",
       "      <td>17000</td>\n",
       "      <td>Gray</td>\n",
       "      <td>Black</td>\n",
       "      <td>33</td>\n",
       "      <td>I4</td>\n",
       "      <td>Front-Wheel Drive</td>\n",
       "      <td>Gasoline</td>\n",
       "      <td>5</td>\n",
       "      <td>2683</td>\n",
       "      <td>0</td>\n",
       "    </tr>\n",
       "    <tr>\n",
       "      <th>3</th>\n",
       "      <td>24799</td>\n",
       "      <td>4</td>\n",
       "      <td>Ford</td>\n",
       "      <td>Automatic</td>\n",
       "      <td>39221</td>\n",
       "      <td>Gray</td>\n",
       "      <td>Black</td>\n",
       "      <td>20</td>\n",
       "      <td>V6</td>\n",
       "      <td>Front-Wheel Drive</td>\n",
       "      <td>Gasoline</td>\n",
       "      <td>7</td>\n",
       "      <td>3341</td>\n",
       "      <td>0</td>\n",
       "    </tr>\n",
       "    <tr>\n",
       "      <th>4</th>\n",
       "      <td>24299</td>\n",
       "      <td>4</td>\n",
       "      <td>Jeep</td>\n",
       "      <td>Automatic</td>\n",
       "      <td>33961</td>\n",
       "      <td>White</td>\n",
       "      <td>Black</td>\n",
       "      <td>18</td>\n",
       "      <td>V6</td>\n",
       "      <td>Four-Wheel Drive</td>\n",
       "      <td>Gasoline</td>\n",
       "      <td>1</td>\n",
       "      <td>2090</td>\n",
       "      <td>0</td>\n",
       "    </tr>\n",
       "  </tbody>\n",
       "</table>\n",
       "</div>"
      ],
      "text/plain": [
       "   price($)  age_of_car          model Transmission  Mileage(miles)  \\\n",
       "0     36999           4  Mercedes-Benz    Automatic           30336   \n",
       "1     39415           4      Chevrolet    Automatic           36052   \n",
       "2     19697           1          Honda    Automatic           17000   \n",
       "3     24799           4           Ford    Automatic           39221   \n",
       "4     24299           4           Jeep    Automatic           33961   \n",
       "\n",
       "  Exterior_Color Interior_Color  Gas_mileage_comb(MPG) Engine  \\\n",
       "0         Silver          Black                     19     V6   \n",
       "1          Black          Black                     25     V8   \n",
       "2           Gray          Black                     33     I4   \n",
       "3           Gray          Black                     20     V6   \n",
       "4          White          Black                     18     V6   \n",
       "\n",
       "          Drivetrain          Fuel_type  No._of_features  description_len  \\\n",
       "0    All-Wheel Drive           Gasoline                5             2551   \n",
       "1  Front-Wheel Drive  Flex Fuel Vehicle               15             6158   \n",
       "2  Front-Wheel Drive           Gasoline                5             2683   \n",
       "3  Front-Wheel Drive           Gasoline                7             3341   \n",
       "4   Four-Wheel Drive           Gasoline                1             2090   \n",
       "\n",
       "   Exterior_color_imputed  \n",
       "0                       0  \n",
       "1                       0  \n",
       "2                       0  \n",
       "3                       0  \n",
       "4                       0  "
      ]
     },
     "execution_count": 3,
     "metadata": {},
     "output_type": "execute_result"
    }
   ],
   "source": [
    "df.head()"
   ]
  },
  {
   "cell_type": "markdown",
   "metadata": {},
   "source": [
    "Saving Categorial columns for One-Hot encoding."
   ]
  },
  {
   "cell_type": "code",
   "execution_count": 4,
   "metadata": {},
   "outputs": [],
   "source": [
    "Categorial_col = ['model', 'Transmission', 'Exterior_Color', 'Interior_Color', 'Engine', 'Drivetrain', 'Fuel_type']"
   ]
  },
  {
   "cell_type": "markdown",
   "metadata": {},
   "source": [
    "# One-Hot Encoding Categorial Variables"
   ]
  },
  {
   "cell_type": "code",
   "execution_count": 5,
   "metadata": {},
   "outputs": [],
   "source": [
    "OH_encoder = OneHotEncoder(handle_unknown='ignore', sparse=False)\n",
    "encoder_fit = OH_encoder.fit_transform(df[Categorial_col])\n",
    "column_name = OH_encoder.get_feature_names(Categorial_col)\n",
    "OH_cols = pd.DataFrame(encoder_fit, columns=column_name)\n",
    "# One-hot encoding removed index; put it back\n",
    "OH_cols.index = df.index\n",
    "# Remove categorical columns (will replace with one-hot encoding)\n",
    "num_col = df.drop(Categorial_col, axis=1)\n",
    "# Add one-hot encoded columns to numerical features\n",
    "OH_df = pd.concat([num_col, OH_cols], axis=1)"
   ]
  },
  {
   "cell_type": "markdown",
   "metadata": {},
   "source": [
    "Lets look at the dataframe after conversion of categorial data."
   ]
  },
  {
   "cell_type": "code",
   "execution_count": 6,
   "metadata": {
    "scrolled": true
   },
   "outputs": [
    {
     "data": {
      "text/html": [
       "<div>\n",
       "<style scoped>\n",
       "    .dataframe tbody tr th:only-of-type {\n",
       "        vertical-align: middle;\n",
       "    }\n",
       "\n",
       "    .dataframe tbody tr th {\n",
       "        vertical-align: top;\n",
       "    }\n",
       "\n",
       "    .dataframe thead th {\n",
       "        text-align: right;\n",
       "    }\n",
       "</style>\n",
       "<table border=\"1\" class=\"dataframe\">\n",
       "  <thead>\n",
       "    <tr style=\"text-align: right;\">\n",
       "      <th></th>\n",
       "      <th>price($)</th>\n",
       "      <th>age_of_car</th>\n",
       "      <th>Mileage(miles)</th>\n",
       "      <th>Gas_mileage_comb(MPG)</th>\n",
       "      <th>No._of_features</th>\n",
       "      <th>description_len</th>\n",
       "      <th>Exterior_color_imputed</th>\n",
       "      <th>model_Acura</th>\n",
       "      <th>model_Alfa</th>\n",
       "      <th>model_Aston</th>\n",
       "      <th>model_Audi</th>\n",
       "      <th>model_BMW</th>\n",
       "      <th>model_Bentley</th>\n",
       "      <th>model_Buick</th>\n",
       "      <th>model_Cadillac</th>\n",
       "      <th>model_Chevrolet</th>\n",
       "      <th>model_Chrysler</th>\n",
       "      <th>model_Dodge</th>\n",
       "      <th>model_FIAT</th>\n",
       "      <th>model_Ferrari</th>\n",
       "      <th>model_Ford</th>\n",
       "      <th>model_GMC</th>\n",
       "      <th>model_Genesis</th>\n",
       "      <th>model_Honda</th>\n",
       "      <th>model_Hyundai</th>\n",
       "      <th>model_INFINITI</th>\n",
       "      <th>model_Jaguar</th>\n",
       "      <th>model_Jeep</th>\n",
       "      <th>model_Kia</th>\n",
       "      <th>model_Land</th>\n",
       "      <th>model_Lexus</th>\n",
       "      <th>model_Lincoln</th>\n",
       "      <th>model_MINI</th>\n",
       "      <th>model_Maserati</th>\n",
       "      <th>model_Mazda</th>\n",
       "      <th>model_Mercedes-Benz</th>\n",
       "      <th>model_Mitsubishi</th>\n",
       "      <th>model_Nissan</th>\n",
       "      <th>model_Porsche</th>\n",
       "      <th>model_RAM</th>\n",
       "      <th>model_Rolls-Royce</th>\n",
       "      <th>model_Scion</th>\n",
       "      <th>model_Subaru</th>\n",
       "      <th>model_Tesla</th>\n",
       "      <th>model_Toyota</th>\n",
       "      <th>model_Volkswagen</th>\n",
       "      <th>model_Volvo</th>\n",
       "      <th>Transmission_Automatic</th>\n",
       "      <th>Transmission_Manual</th>\n",
       "      <th>Exterior_Color_Black</th>\n",
       "      <th>Exterior_Color_Blue</th>\n",
       "      <th>Exterior_Color_Gray</th>\n",
       "      <th>Exterior_Color_Red</th>\n",
       "      <th>Exterior_Color_Silver</th>\n",
       "      <th>Exterior_Color_White</th>\n",
       "      <th>Interior_Color_Black</th>\n",
       "      <th>Interior_Color_Gray</th>\n",
       "      <th>Interior_Color_Red</th>\n",
       "      <th>Interior_Color_Silver</th>\n",
       "      <th>Interior_Color_White</th>\n",
       "      <th>Engine_H4</th>\n",
       "      <th>Engine_H6</th>\n",
       "      <th>Engine_I2</th>\n",
       "      <th>Engine_I3</th>\n",
       "      <th>Engine_I4</th>\n",
       "      <th>Engine_I5</th>\n",
       "      <th>Engine_I6</th>\n",
       "      <th>Engine_V10</th>\n",
       "      <th>Engine_V12</th>\n",
       "      <th>Engine_V6</th>\n",
       "      <th>Engine_V8</th>\n",
       "      <th>Engine_W12</th>\n",
       "      <th>Drivetrain_All-Wheel Drive</th>\n",
       "      <th>Drivetrain_Four-Wheel Drive</th>\n",
       "      <th>Drivetrain_Front-Wheel Drive</th>\n",
       "      <th>Drivetrain_Rear-Wheel Drive</th>\n",
       "      <th>Fuel_type_Biodiesel</th>\n",
       "      <th>Fuel_type_Diesel</th>\n",
       "      <th>Fuel_type_Electric</th>\n",
       "      <th>Fuel_type_Flex Fuel Vehicle</th>\n",
       "      <th>Fuel_type_Gasoline</th>\n",
       "      <th>Fuel_type_Hybrid</th>\n",
       "    </tr>\n",
       "  </thead>\n",
       "  <tbody>\n",
       "    <tr>\n",
       "      <th>0</th>\n",
       "      <td>36999</td>\n",
       "      <td>4</td>\n",
       "      <td>30336</td>\n",
       "      <td>19</td>\n",
       "      <td>5</td>\n",
       "      <td>2551</td>\n",
       "      <td>0</td>\n",
       "      <td>0.0</td>\n",
       "      <td>0.0</td>\n",
       "      <td>0.0</td>\n",
       "      <td>0.0</td>\n",
       "      <td>0.0</td>\n",
       "      <td>0.0</td>\n",
       "      <td>0.0</td>\n",
       "      <td>0.0</td>\n",
       "      <td>0.0</td>\n",
       "      <td>0.0</td>\n",
       "      <td>0.0</td>\n",
       "      <td>0.0</td>\n",
       "      <td>0.0</td>\n",
       "      <td>0.0</td>\n",
       "      <td>0.0</td>\n",
       "      <td>0.0</td>\n",
       "      <td>0.0</td>\n",
       "      <td>0.0</td>\n",
       "      <td>0.0</td>\n",
       "      <td>0.0</td>\n",
       "      <td>0.0</td>\n",
       "      <td>0.0</td>\n",
       "      <td>0.0</td>\n",
       "      <td>0.0</td>\n",
       "      <td>0.0</td>\n",
       "      <td>0.0</td>\n",
       "      <td>0.0</td>\n",
       "      <td>0.0</td>\n",
       "      <td>1.0</td>\n",
       "      <td>0.0</td>\n",
       "      <td>0.0</td>\n",
       "      <td>0.0</td>\n",
       "      <td>0.0</td>\n",
       "      <td>0.0</td>\n",
       "      <td>0.0</td>\n",
       "      <td>0.0</td>\n",
       "      <td>0.0</td>\n",
       "      <td>0.0</td>\n",
       "      <td>0.0</td>\n",
       "      <td>0.0</td>\n",
       "      <td>1.0</td>\n",
       "      <td>0.0</td>\n",
       "      <td>0.0</td>\n",
       "      <td>0.0</td>\n",
       "      <td>0.0</td>\n",
       "      <td>0.0</td>\n",
       "      <td>1.0</td>\n",
       "      <td>0.0</td>\n",
       "      <td>1.0</td>\n",
       "      <td>0.0</td>\n",
       "      <td>0.0</td>\n",
       "      <td>0.0</td>\n",
       "      <td>0.0</td>\n",
       "      <td>0.0</td>\n",
       "      <td>0.0</td>\n",
       "      <td>0.0</td>\n",
       "      <td>0.0</td>\n",
       "      <td>0.0</td>\n",
       "      <td>0.0</td>\n",
       "      <td>0.0</td>\n",
       "      <td>0.0</td>\n",
       "      <td>0.0</td>\n",
       "      <td>1.0</td>\n",
       "      <td>0.0</td>\n",
       "      <td>0.0</td>\n",
       "      <td>1.0</td>\n",
       "      <td>0.0</td>\n",
       "      <td>0.0</td>\n",
       "      <td>0.0</td>\n",
       "      <td>0.0</td>\n",
       "      <td>0.0</td>\n",
       "      <td>0.0</td>\n",
       "      <td>0.0</td>\n",
       "      <td>1.0</td>\n",
       "      <td>0.0</td>\n",
       "    </tr>\n",
       "    <tr>\n",
       "      <th>1</th>\n",
       "      <td>39415</td>\n",
       "      <td>4</td>\n",
       "      <td>36052</td>\n",
       "      <td>25</td>\n",
       "      <td>15</td>\n",
       "      <td>6158</td>\n",
       "      <td>0</td>\n",
       "      <td>0.0</td>\n",
       "      <td>0.0</td>\n",
       "      <td>0.0</td>\n",
       "      <td>0.0</td>\n",
       "      <td>0.0</td>\n",
       "      <td>0.0</td>\n",
       "      <td>0.0</td>\n",
       "      <td>0.0</td>\n",
       "      <td>1.0</td>\n",
       "      <td>0.0</td>\n",
       "      <td>0.0</td>\n",
       "      <td>0.0</td>\n",
       "      <td>0.0</td>\n",
       "      <td>0.0</td>\n",
       "      <td>0.0</td>\n",
       "      <td>0.0</td>\n",
       "      <td>0.0</td>\n",
       "      <td>0.0</td>\n",
       "      <td>0.0</td>\n",
       "      <td>0.0</td>\n",
       "      <td>0.0</td>\n",
       "      <td>0.0</td>\n",
       "      <td>0.0</td>\n",
       "      <td>0.0</td>\n",
       "      <td>0.0</td>\n",
       "      <td>0.0</td>\n",
       "      <td>0.0</td>\n",
       "      <td>0.0</td>\n",
       "      <td>0.0</td>\n",
       "      <td>0.0</td>\n",
       "      <td>0.0</td>\n",
       "      <td>0.0</td>\n",
       "      <td>0.0</td>\n",
       "      <td>0.0</td>\n",
       "      <td>0.0</td>\n",
       "      <td>0.0</td>\n",
       "      <td>0.0</td>\n",
       "      <td>0.0</td>\n",
       "      <td>0.0</td>\n",
       "      <td>0.0</td>\n",
       "      <td>1.0</td>\n",
       "      <td>0.0</td>\n",
       "      <td>1.0</td>\n",
       "      <td>0.0</td>\n",
       "      <td>0.0</td>\n",
       "      <td>0.0</td>\n",
       "      <td>0.0</td>\n",
       "      <td>0.0</td>\n",
       "      <td>1.0</td>\n",
       "      <td>0.0</td>\n",
       "      <td>0.0</td>\n",
       "      <td>0.0</td>\n",
       "      <td>0.0</td>\n",
       "      <td>0.0</td>\n",
       "      <td>0.0</td>\n",
       "      <td>0.0</td>\n",
       "      <td>0.0</td>\n",
       "      <td>0.0</td>\n",
       "      <td>0.0</td>\n",
       "      <td>0.0</td>\n",
       "      <td>0.0</td>\n",
       "      <td>0.0</td>\n",
       "      <td>0.0</td>\n",
       "      <td>1.0</td>\n",
       "      <td>0.0</td>\n",
       "      <td>0.0</td>\n",
       "      <td>0.0</td>\n",
       "      <td>1.0</td>\n",
       "      <td>0.0</td>\n",
       "      <td>0.0</td>\n",
       "      <td>0.0</td>\n",
       "      <td>0.0</td>\n",
       "      <td>1.0</td>\n",
       "      <td>0.0</td>\n",
       "      <td>0.0</td>\n",
       "    </tr>\n",
       "    <tr>\n",
       "      <th>2</th>\n",
       "      <td>19697</td>\n",
       "      <td>1</td>\n",
       "      <td>17000</td>\n",
       "      <td>33</td>\n",
       "      <td>5</td>\n",
       "      <td>2683</td>\n",
       "      <td>0</td>\n",
       "      <td>0.0</td>\n",
       "      <td>0.0</td>\n",
       "      <td>0.0</td>\n",
       "      <td>0.0</td>\n",
       "      <td>0.0</td>\n",
       "      <td>0.0</td>\n",
       "      <td>0.0</td>\n",
       "      <td>0.0</td>\n",
       "      <td>0.0</td>\n",
       "      <td>0.0</td>\n",
       "      <td>0.0</td>\n",
       "      <td>0.0</td>\n",
       "      <td>0.0</td>\n",
       "      <td>0.0</td>\n",
       "      <td>0.0</td>\n",
       "      <td>0.0</td>\n",
       "      <td>1.0</td>\n",
       "      <td>0.0</td>\n",
       "      <td>0.0</td>\n",
       "      <td>0.0</td>\n",
       "      <td>0.0</td>\n",
       "      <td>0.0</td>\n",
       "      <td>0.0</td>\n",
       "      <td>0.0</td>\n",
       "      <td>0.0</td>\n",
       "      <td>0.0</td>\n",
       "      <td>0.0</td>\n",
       "      <td>0.0</td>\n",
       "      <td>0.0</td>\n",
       "      <td>0.0</td>\n",
       "      <td>0.0</td>\n",
       "      <td>0.0</td>\n",
       "      <td>0.0</td>\n",
       "      <td>0.0</td>\n",
       "      <td>0.0</td>\n",
       "      <td>0.0</td>\n",
       "      <td>0.0</td>\n",
       "      <td>0.0</td>\n",
       "      <td>0.0</td>\n",
       "      <td>0.0</td>\n",
       "      <td>1.0</td>\n",
       "      <td>0.0</td>\n",
       "      <td>0.0</td>\n",
       "      <td>0.0</td>\n",
       "      <td>1.0</td>\n",
       "      <td>0.0</td>\n",
       "      <td>0.0</td>\n",
       "      <td>0.0</td>\n",
       "      <td>1.0</td>\n",
       "      <td>0.0</td>\n",
       "      <td>0.0</td>\n",
       "      <td>0.0</td>\n",
       "      <td>0.0</td>\n",
       "      <td>0.0</td>\n",
       "      <td>0.0</td>\n",
       "      <td>0.0</td>\n",
       "      <td>0.0</td>\n",
       "      <td>1.0</td>\n",
       "      <td>0.0</td>\n",
       "      <td>0.0</td>\n",
       "      <td>0.0</td>\n",
       "      <td>0.0</td>\n",
       "      <td>0.0</td>\n",
       "      <td>0.0</td>\n",
       "      <td>0.0</td>\n",
       "      <td>0.0</td>\n",
       "      <td>0.0</td>\n",
       "      <td>1.0</td>\n",
       "      <td>0.0</td>\n",
       "      <td>0.0</td>\n",
       "      <td>0.0</td>\n",
       "      <td>0.0</td>\n",
       "      <td>0.0</td>\n",
       "      <td>1.0</td>\n",
       "      <td>0.0</td>\n",
       "    </tr>\n",
       "    <tr>\n",
       "      <th>3</th>\n",
       "      <td>24799</td>\n",
       "      <td>4</td>\n",
       "      <td>39221</td>\n",
       "      <td>20</td>\n",
       "      <td>7</td>\n",
       "      <td>3341</td>\n",
       "      <td>0</td>\n",
       "      <td>0.0</td>\n",
       "      <td>0.0</td>\n",
       "      <td>0.0</td>\n",
       "      <td>0.0</td>\n",
       "      <td>0.0</td>\n",
       "      <td>0.0</td>\n",
       "      <td>0.0</td>\n",
       "      <td>0.0</td>\n",
       "      <td>0.0</td>\n",
       "      <td>0.0</td>\n",
       "      <td>0.0</td>\n",
       "      <td>0.0</td>\n",
       "      <td>0.0</td>\n",
       "      <td>1.0</td>\n",
       "      <td>0.0</td>\n",
       "      <td>0.0</td>\n",
       "      <td>0.0</td>\n",
       "      <td>0.0</td>\n",
       "      <td>0.0</td>\n",
       "      <td>0.0</td>\n",
       "      <td>0.0</td>\n",
       "      <td>0.0</td>\n",
       "      <td>0.0</td>\n",
       "      <td>0.0</td>\n",
       "      <td>0.0</td>\n",
       "      <td>0.0</td>\n",
       "      <td>0.0</td>\n",
       "      <td>0.0</td>\n",
       "      <td>0.0</td>\n",
       "      <td>0.0</td>\n",
       "      <td>0.0</td>\n",
       "      <td>0.0</td>\n",
       "      <td>0.0</td>\n",
       "      <td>0.0</td>\n",
       "      <td>0.0</td>\n",
       "      <td>0.0</td>\n",
       "      <td>0.0</td>\n",
       "      <td>0.0</td>\n",
       "      <td>0.0</td>\n",
       "      <td>0.0</td>\n",
       "      <td>1.0</td>\n",
       "      <td>0.0</td>\n",
       "      <td>0.0</td>\n",
       "      <td>0.0</td>\n",
       "      <td>1.0</td>\n",
       "      <td>0.0</td>\n",
       "      <td>0.0</td>\n",
       "      <td>0.0</td>\n",
       "      <td>1.0</td>\n",
       "      <td>0.0</td>\n",
       "      <td>0.0</td>\n",
       "      <td>0.0</td>\n",
       "      <td>0.0</td>\n",
       "      <td>0.0</td>\n",
       "      <td>0.0</td>\n",
       "      <td>0.0</td>\n",
       "      <td>0.0</td>\n",
       "      <td>0.0</td>\n",
       "      <td>0.0</td>\n",
       "      <td>0.0</td>\n",
       "      <td>0.0</td>\n",
       "      <td>0.0</td>\n",
       "      <td>1.0</td>\n",
       "      <td>0.0</td>\n",
       "      <td>0.0</td>\n",
       "      <td>0.0</td>\n",
       "      <td>0.0</td>\n",
       "      <td>1.0</td>\n",
       "      <td>0.0</td>\n",
       "      <td>0.0</td>\n",
       "      <td>0.0</td>\n",
       "      <td>0.0</td>\n",
       "      <td>0.0</td>\n",
       "      <td>1.0</td>\n",
       "      <td>0.0</td>\n",
       "    </tr>\n",
       "    <tr>\n",
       "      <th>4</th>\n",
       "      <td>24299</td>\n",
       "      <td>4</td>\n",
       "      <td>33961</td>\n",
       "      <td>18</td>\n",
       "      <td>1</td>\n",
       "      <td>2090</td>\n",
       "      <td>0</td>\n",
       "      <td>0.0</td>\n",
       "      <td>0.0</td>\n",
       "      <td>0.0</td>\n",
       "      <td>0.0</td>\n",
       "      <td>0.0</td>\n",
       "      <td>0.0</td>\n",
       "      <td>0.0</td>\n",
       "      <td>0.0</td>\n",
       "      <td>0.0</td>\n",
       "      <td>0.0</td>\n",
       "      <td>0.0</td>\n",
       "      <td>0.0</td>\n",
       "      <td>0.0</td>\n",
       "      <td>0.0</td>\n",
       "      <td>0.0</td>\n",
       "      <td>0.0</td>\n",
       "      <td>0.0</td>\n",
       "      <td>0.0</td>\n",
       "      <td>0.0</td>\n",
       "      <td>0.0</td>\n",
       "      <td>1.0</td>\n",
       "      <td>0.0</td>\n",
       "      <td>0.0</td>\n",
       "      <td>0.0</td>\n",
       "      <td>0.0</td>\n",
       "      <td>0.0</td>\n",
       "      <td>0.0</td>\n",
       "      <td>0.0</td>\n",
       "      <td>0.0</td>\n",
       "      <td>0.0</td>\n",
       "      <td>0.0</td>\n",
       "      <td>0.0</td>\n",
       "      <td>0.0</td>\n",
       "      <td>0.0</td>\n",
       "      <td>0.0</td>\n",
       "      <td>0.0</td>\n",
       "      <td>0.0</td>\n",
       "      <td>0.0</td>\n",
       "      <td>0.0</td>\n",
       "      <td>0.0</td>\n",
       "      <td>1.0</td>\n",
       "      <td>0.0</td>\n",
       "      <td>0.0</td>\n",
       "      <td>0.0</td>\n",
       "      <td>0.0</td>\n",
       "      <td>0.0</td>\n",
       "      <td>0.0</td>\n",
       "      <td>1.0</td>\n",
       "      <td>1.0</td>\n",
       "      <td>0.0</td>\n",
       "      <td>0.0</td>\n",
       "      <td>0.0</td>\n",
       "      <td>0.0</td>\n",
       "      <td>0.0</td>\n",
       "      <td>0.0</td>\n",
       "      <td>0.0</td>\n",
       "      <td>0.0</td>\n",
       "      <td>0.0</td>\n",
       "      <td>0.0</td>\n",
       "      <td>0.0</td>\n",
       "      <td>0.0</td>\n",
       "      <td>0.0</td>\n",
       "      <td>1.0</td>\n",
       "      <td>0.0</td>\n",
       "      <td>0.0</td>\n",
       "      <td>0.0</td>\n",
       "      <td>1.0</td>\n",
       "      <td>0.0</td>\n",
       "      <td>0.0</td>\n",
       "      <td>0.0</td>\n",
       "      <td>0.0</td>\n",
       "      <td>0.0</td>\n",
       "      <td>0.0</td>\n",
       "      <td>1.0</td>\n",
       "      <td>0.0</td>\n",
       "    </tr>\n",
       "  </tbody>\n",
       "</table>\n",
       "</div>"
      ],
      "text/plain": [
       "   price($)  age_of_car  Mileage(miles)  Gas_mileage_comb(MPG)  \\\n",
       "0     36999           4           30336                     19   \n",
       "1     39415           4           36052                     25   \n",
       "2     19697           1           17000                     33   \n",
       "3     24799           4           39221                     20   \n",
       "4     24299           4           33961                     18   \n",
       "\n",
       "   No._of_features  description_len  Exterior_color_imputed  model_Acura  \\\n",
       "0                5             2551                       0          0.0   \n",
       "1               15             6158                       0          0.0   \n",
       "2                5             2683                       0          0.0   \n",
       "3                7             3341                       0          0.0   \n",
       "4                1             2090                       0          0.0   \n",
       "\n",
       "   model_Alfa  model_Aston  model_Audi  model_BMW  model_Bentley  model_Buick  \\\n",
       "0         0.0          0.0         0.0        0.0            0.0          0.0   \n",
       "1         0.0          0.0         0.0        0.0            0.0          0.0   \n",
       "2         0.0          0.0         0.0        0.0            0.0          0.0   \n",
       "3         0.0          0.0         0.0        0.0            0.0          0.0   \n",
       "4         0.0          0.0         0.0        0.0            0.0          0.0   \n",
       "\n",
       "   model_Cadillac  model_Chevrolet  model_Chrysler  model_Dodge  model_FIAT  \\\n",
       "0             0.0              0.0             0.0          0.0         0.0   \n",
       "1             0.0              1.0             0.0          0.0         0.0   \n",
       "2             0.0              0.0             0.0          0.0         0.0   \n",
       "3             0.0              0.0             0.0          0.0         0.0   \n",
       "4             0.0              0.0             0.0          0.0         0.0   \n",
       "\n",
       "   model_Ferrari  model_Ford  model_GMC  model_Genesis  model_Honda  \\\n",
       "0            0.0         0.0        0.0            0.0          0.0   \n",
       "1            0.0         0.0        0.0            0.0          0.0   \n",
       "2            0.0         0.0        0.0            0.0          1.0   \n",
       "3            0.0         1.0        0.0            0.0          0.0   \n",
       "4            0.0         0.0        0.0            0.0          0.0   \n",
       "\n",
       "   model_Hyundai  model_INFINITI  model_Jaguar  model_Jeep  model_Kia  \\\n",
       "0            0.0             0.0           0.0         0.0        0.0   \n",
       "1            0.0             0.0           0.0         0.0        0.0   \n",
       "2            0.0             0.0           0.0         0.0        0.0   \n",
       "3            0.0             0.0           0.0         0.0        0.0   \n",
       "4            0.0             0.0           0.0         1.0        0.0   \n",
       "\n",
       "   model_Land  model_Lexus  model_Lincoln  model_MINI  model_Maserati  \\\n",
       "0         0.0          0.0            0.0         0.0             0.0   \n",
       "1         0.0          0.0            0.0         0.0             0.0   \n",
       "2         0.0          0.0            0.0         0.0             0.0   \n",
       "3         0.0          0.0            0.0         0.0             0.0   \n",
       "4         0.0          0.0            0.0         0.0             0.0   \n",
       "\n",
       "   model_Mazda  model_Mercedes-Benz  model_Mitsubishi  model_Nissan  \\\n",
       "0          0.0                  1.0               0.0           0.0   \n",
       "1          0.0                  0.0               0.0           0.0   \n",
       "2          0.0                  0.0               0.0           0.0   \n",
       "3          0.0                  0.0               0.0           0.0   \n",
       "4          0.0                  0.0               0.0           0.0   \n",
       "\n",
       "   model_Porsche  model_RAM  model_Rolls-Royce  model_Scion  model_Subaru  \\\n",
       "0            0.0        0.0                0.0          0.0           0.0   \n",
       "1            0.0        0.0                0.0          0.0           0.0   \n",
       "2            0.0        0.0                0.0          0.0           0.0   \n",
       "3            0.0        0.0                0.0          0.0           0.0   \n",
       "4            0.0        0.0                0.0          0.0           0.0   \n",
       "\n",
       "   model_Tesla  model_Toyota  model_Volkswagen  model_Volvo  \\\n",
       "0          0.0           0.0               0.0          0.0   \n",
       "1          0.0           0.0               0.0          0.0   \n",
       "2          0.0           0.0               0.0          0.0   \n",
       "3          0.0           0.0               0.0          0.0   \n",
       "4          0.0           0.0               0.0          0.0   \n",
       "\n",
       "   Transmission_Automatic  Transmission_Manual  Exterior_Color_Black  \\\n",
       "0                     1.0                  0.0                   0.0   \n",
       "1                     1.0                  0.0                   1.0   \n",
       "2                     1.0                  0.0                   0.0   \n",
       "3                     1.0                  0.0                   0.0   \n",
       "4                     1.0                  0.0                   0.0   \n",
       "\n",
       "   Exterior_Color_Blue  Exterior_Color_Gray  Exterior_Color_Red  \\\n",
       "0                  0.0                  0.0                 0.0   \n",
       "1                  0.0                  0.0                 0.0   \n",
       "2                  0.0                  1.0                 0.0   \n",
       "3                  0.0                  1.0                 0.0   \n",
       "4                  0.0                  0.0                 0.0   \n",
       "\n",
       "   Exterior_Color_Silver  Exterior_Color_White  Interior_Color_Black  \\\n",
       "0                    1.0                   0.0                   1.0   \n",
       "1                    0.0                   0.0                   1.0   \n",
       "2                    0.0                   0.0                   1.0   \n",
       "3                    0.0                   0.0                   1.0   \n",
       "4                    0.0                   1.0                   1.0   \n",
       "\n",
       "   Interior_Color_Gray  Interior_Color_Red  Interior_Color_Silver  \\\n",
       "0                  0.0                 0.0                    0.0   \n",
       "1                  0.0                 0.0                    0.0   \n",
       "2                  0.0                 0.0                    0.0   \n",
       "3                  0.0                 0.0                    0.0   \n",
       "4                  0.0                 0.0                    0.0   \n",
       "\n",
       "   Interior_Color_White  Engine_H4  Engine_H6  Engine_I2  Engine_I3  \\\n",
       "0                   0.0        0.0        0.0        0.0        0.0   \n",
       "1                   0.0        0.0        0.0        0.0        0.0   \n",
       "2                   0.0        0.0        0.0        0.0        0.0   \n",
       "3                   0.0        0.0        0.0        0.0        0.0   \n",
       "4                   0.0        0.0        0.0        0.0        0.0   \n",
       "\n",
       "   Engine_I4  Engine_I5  Engine_I6  Engine_V10  Engine_V12  Engine_V6  \\\n",
       "0        0.0        0.0        0.0         0.0         0.0        1.0   \n",
       "1        0.0        0.0        0.0         0.0         0.0        0.0   \n",
       "2        1.0        0.0        0.0         0.0         0.0        0.0   \n",
       "3        0.0        0.0        0.0         0.0         0.0        1.0   \n",
       "4        0.0        0.0        0.0         0.0         0.0        1.0   \n",
       "\n",
       "   Engine_V8  Engine_W12  Drivetrain_All-Wheel Drive  \\\n",
       "0        0.0         0.0                         1.0   \n",
       "1        1.0         0.0                         0.0   \n",
       "2        0.0         0.0                         0.0   \n",
       "3        0.0         0.0                         0.0   \n",
       "4        0.0         0.0                         0.0   \n",
       "\n",
       "   Drivetrain_Four-Wheel Drive  Drivetrain_Front-Wheel Drive  \\\n",
       "0                          0.0                           0.0   \n",
       "1                          0.0                           1.0   \n",
       "2                          0.0                           1.0   \n",
       "3                          0.0                           1.0   \n",
       "4                          1.0                           0.0   \n",
       "\n",
       "   Drivetrain_Rear-Wheel Drive  Fuel_type_Biodiesel  Fuel_type_Diesel  \\\n",
       "0                          0.0                  0.0               0.0   \n",
       "1                          0.0                  0.0               0.0   \n",
       "2                          0.0                  0.0               0.0   \n",
       "3                          0.0                  0.0               0.0   \n",
       "4                          0.0                  0.0               0.0   \n",
       "\n",
       "   Fuel_type_Electric  Fuel_type_Flex Fuel Vehicle  Fuel_type_Gasoline  \\\n",
       "0                 0.0                          0.0                 1.0   \n",
       "1                 0.0                          1.0                 0.0   \n",
       "2                 0.0                          0.0                 1.0   \n",
       "3                 0.0                          0.0                 1.0   \n",
       "4                 0.0                          0.0                 1.0   \n",
       "\n",
       "   Fuel_type_Hybrid  \n",
       "0               0.0  \n",
       "1               0.0  \n",
       "2               0.0  \n",
       "3               0.0  \n",
       "4               0.0  "
      ]
     },
     "execution_count": 6,
     "metadata": {},
     "output_type": "execute_result"
    }
   ],
   "source": [
    "OH_df.head()"
   ]
  },
  {
   "cell_type": "markdown",
   "metadata": {},
   "source": [
    "Saving target value(Price of car) into X and Features in y."
   ]
  },
  {
   "cell_type": "code",
   "execution_count": 7,
   "metadata": {},
   "outputs": [],
   "source": [
    "y= OH_df['price($)']\n",
    "X= OH_df.drop(['price($)'], axis=1)"
   ]
  },
  {
   "cell_type": "markdown",
   "metadata": {},
   "source": [
    "Splitting data into 80:20 ratio for training and testing."
   ]
  },
  {
   "cell_type": "code",
   "execution_count": 8,
   "metadata": {},
   "outputs": [],
   "source": [
    "X_train, X_valid, y_train, y_valid = train_test_split(X, y, test_size=0.2, random_state=0)"
   ]
  },
  {
   "cell_type": "markdown",
   "metadata": {},
   "source": [
    "X_train should have 80% of the initial data (1605 rows)."
   ]
  },
  {
   "cell_type": "code",
   "execution_count": 9,
   "metadata": {},
   "outputs": [
    {
     "data": {
      "text/plain": [
       "(1284, 81)"
      ]
     },
     "execution_count": 9,
     "metadata": {},
     "output_type": "execute_result"
    }
   ],
   "source": [
    "X_train.shape"
   ]
  },
  {
   "cell_type": "markdown",
   "metadata": {},
   "source": [
    "# Machine learning algorithms"
   ]
  },
  {
   "cell_type": "markdown",
   "metadata": {},
   "source": [
    "## Multilinear regression"
   ]
  },
  {
   "cell_type": "code",
   "execution_count": 10,
   "metadata": {},
   "outputs": [
    {
     "name": "stdout",
     "output_type": "stream",
     "text": [
      "MAE score: 5055 and standard deviation 303\n"
     ]
    }
   ],
   "source": [
    "lm = LinearRegression()\n",
    "lm_scores = -1*cross_val_score(lm, X_train, y_train, scoring = 'neg_mean_absolute_error', cv = 5)\n",
    "print(\"MAE score: {} and standard deviation {}\".format(round(np.mean(lm_scores)), \n",
    "                                                        round(np.std(lm_scores))))"
   ]
  },
  {
   "cell_type": "markdown",
   "metadata": {},
   "source": [
    "Using cross validation for evaluation of model. Ref: [here](https://towardsdatascience.com/cross-validation-430d9a5fee22)"
   ]
  },
  {
   "cell_type": "markdown",
   "metadata": {},
   "source": [
    "## Ridge regression\n",
    "This model penalises large coefficients using alpha to prevent overfitting (Regularisation). Ref: [here](https://www.pluralsight.com/guides/linear-lasso-ridge-regression-scikit-learn)"
   ]
  },
  {
   "cell_type": "code",
   "execution_count": 11,
   "metadata": {},
   "outputs": [
    {
     "name": "stdout",
     "output_type": "stream",
     "text": [
      "MAE score: 5055 and standard deviation 304\n"
     ]
    }
   ],
   "source": [
    "rr = Ridge(alpha=0.01)\n",
    "rr_scores = -1*cross_val_score(rr, X_train, y_train, scoring = 'neg_mean_absolute_error', cv = 5)\n",
    "print(\"MAE score: {} and standard deviation {}\".format(round(np.mean(rr_scores)), \n",
    "                                                        round(np.std(rr_scores))))"
   ]
  },
  {
   "cell_type": "markdown",
   "metadata": {},
   "source": [
    "Finding the optimum alpha value by plotting error vs alpha."
   ]
  },
  {
   "cell_type": "code",
   "execution_count": 12,
   "metadata": {},
   "outputs": [
    {
     "data": {
      "image/png": "[encoded data removed]",
      "text/plain": [
       "<Figure size 432x288 with 1 Axes>"
      ]
     },
     "metadata": {
      "needs_background": "light"
     },
     "output_type": "display_data"
    }
   ],
   "source": [
    "#ref: https://github.com/PlayingNumbers/ds_salary_proj/blob/master/model_building.py\n",
    "alpha = []\n",
    "error = []\n",
    "\n",
    "for i in range(1,10) :\n",
    "    alpha.append(i/1e7)\n",
    "    rr = Ridge(alpha=(i/1e7))\n",
    "    error.append(np.mean(-1*cross_val_score(rr, X_train, y_train, \n",
    "                                            scoring = 'neg_mean_absolute_error')))\n",
    "plt.xlabel('alpha', fontsize=12)\n",
    "plt.ylabel('error', fontsize=12)\n",
    "plt.plot(alpha,error);"
   ]
  },
  {
   "cell_type": "markdown",
   "metadata": {},
   "source": [
    "4e-7 is the optimum value of alpha. Putting that in model and checking the performance."
   ]
  },
  {
   "cell_type": "code",
   "execution_count": 13,
   "metadata": {},
   "outputs": [
    {
     "name": "stdout",
     "output_type": "stream",
     "text": [
      "MAE score: 5055 and standard deviation 303\n"
     ]
    }
   ],
   "source": [
    "rr_min = Ridge(alpha=4e-7)\n",
    "rr_min_scores = -1*cross_val_score(rr_min, X_train, y_train, \n",
    "                                   scoring = 'neg_mean_absolute_error', cv = 5)\n",
    "print(\"MAE score: {} and standard deviation {}\".format(round(np.mean(rr_min_scores)), \n",
    "                                                        round(np.std(rr_min_scores))))"
   ]
  },
  {
   "cell_type": "markdown",
   "metadata": {},
   "source": [
    "No such improvement in mean absolute error from alpha =0.01 to 4e-7."
   ]
  },
  {
   "cell_type": "markdown",
   "metadata": {},
   "source": [
    "## Lasso regression\n",
    "Similar model to ridge regression. However the coeffiecnt value can be equal to 0 unlike in ridge regression. Ref: [here](https://www.pluralsight.com/guides/linear-lasso-ridge-regression-scikit-learn)"
   ]
  },
  {
   "cell_type": "code",
   "execution_count": 14,
   "metadata": {},
   "outputs": [
    {
     "name": "stdout",
     "output_type": "stream",
     "text": [
      "MAE score: 5289 and standard deviation 561\n"
     ]
    }
   ],
   "source": [
    "ls = Lasso(alpha = 0.01)\n",
    "ls_scores = -1*cross_val_score(ls, X_train, y_train, scoring = 'neg_mean_absolute_error', cv = 5)\n",
    "print(\"MAE score: {} and standard deviation {}\".format(round(np.mean(ls_scores)), \n",
    "                                                        round(np.std(ls_scores))))"
   ]
  },
  {
   "cell_type": "markdown",
   "metadata": {},
   "source": [
    "## Elastic net\n",
    "It is a combination of Ridge and Lasso regression models. Ref: [here](https://www.pluralsight.com/guides/linear-lasso-ridge-regression-scikit-learn)"
   ]
  },
  {
   "cell_type": "code",
   "execution_count": 15,
   "metadata": {},
   "outputs": [
    {
     "name": "stdout",
     "output_type": "stream",
     "text": [
      "MAE score: 5589 and standard deviation 295\n"
     ]
    }
   ],
   "source": [
    "en = ElasticNet(alpha = 0.01)\n",
    "en_scores = -1*cross_val_score(en, X_train, y_train, scoring = 'neg_mean_absolute_error', cv = 5)\n",
    "print(\"MAE score: {} and standard deviation {}\".format(round(np.mean(en_scores)), \n",
    "                                                        round(np.std(en_scores))))"
   ]
  },
  {
   "cell_type": "markdown",
   "metadata": {},
   "source": [
    "## Random Forest regression\n",
    "Using decision tree model as the data is sparse and tree based model should work too."
   ]
  },
  {
   "cell_type": "code",
   "execution_count": 16,
   "metadata": {},
   "outputs": [
    {
     "name": "stdout",
     "output_type": "stream",
     "text": [
      "MAE score: 4550 and standard deviation 259\n"
     ]
    }
   ],
   "source": [
    "rf = RandomForestRegressor(random_state = 0)\n",
    "rf_scores = -1*cross_val_score(rf, X_train, y_train, scoring = 'neg_mean_absolute_error', cv = 5)\n",
    "print(\"MAE score: {} and standard deviation {}\".format(round(np.mean(rf_scores)), \n",
    "                                                        round(np.std(rf_scores))))"
   ]
  },
  {
   "cell_type": "markdown",
   "metadata": {},
   "source": [
    "Random forest gave a lower mean absolute error than linear regression models which could be due to non-linear dependency of features."
   ]
  },
  {
   "cell_type": "markdown",
   "metadata": {},
   "source": [
    "## XGBoost regression\n",
    "It is a most advanced model which is based on Random Forest that uses extreme gradient boosting framework. For more refer [here](https://towardsdatascience.com/https-medium-com-vishalmorde-xgboost-algorithm-long-she-may-rein-edd9f99be63d)"
   ]
  },
  {
   "cell_type": "code",
   "execution_count": 17,
   "metadata": {},
   "outputs": [
    {
     "name": "stdout",
     "output_type": "stream",
     "text": [
      "MAE score: 4629 and standard deviation 226\n"
     ]
    }
   ],
   "source": [
    "xg = XGBRegressor()\n",
    "xg_scores = -1*cross_val_score(xg, X_train, y_train, scoring = 'neg_mean_absolute_error', cv = 5)\n",
    "print(\"MAE score: {} and standard deviation {}\".format(round(np.mean(xg_scores)), \n",
    "                                                        round(np.std(xg_scores))))"
   ]
  },
  {
   "cell_type": "markdown",
   "metadata": {},
   "source": [
    "The mean absolute error value is closer to Random Forest model. In order to enchance the performace tuning of parameters can be done using GridSearchCV. Ref: [here](https://www.analyticsvidhya.com/blog/2016/03/complete-guide-parameter-tuning-xgboost-with-codes-python/)"
   ]
  },
  {
   "cell_type": "markdown",
   "metadata": {},
   "source": [
    "### Hyper-Parameter tuning"
   ]
  },
  {
   "cell_type": "markdown",
   "metadata": {},
   "source": [
    "#### Tune n_estimators\n",
    "Finding the optimum number of decision trees. Adding more trees beyond a limit does not improve the performance of the model. Ref:[here](https://machinelearningmastery.com/tune-number-size-decision-trees-xgboost-python/)"
   ]
  },
  {
   "cell_type": "code",
   "execution_count": 18,
   "metadata": {},
   "outputs": [
    {
     "name": "stdout",
     "output_type": "stream",
     "text": [
      "Best parameter is {'n_estimators': 250} with MAE score 4614\n"
     ]
    },
    {
     "data": {
      "image/png": "[encoded data removed]",
      "text/plain": [
       "<Figure size 432x288 with 1 Axes>"
      ]
     },
     "metadata": {
      "needs_background": "light"
     },
     "output_type": "display_data"
    }
   ],
   "source": [
    "n_estimators = range(50, 400, 50)\n",
    "parameters = {'n_estimators': n_estimators}\n",
    "gs = GridSearchCV(xg, parameters, scoring='neg_mean_absolute_error', n_jobs = -1)\n",
    "gs_result=gs.fit(X_train,y_train);\n",
    "# results\n",
    "means = gs_result.cv_results_['mean_test_score']\n",
    "stds = gs_result.cv_results_['std_test_score']\n",
    "#best parameter\n",
    "print('Best parameter is {} with MAE score {}'.format(gs.best_params_, round(-1*gs.best_score_)))\n",
    "#Plot\n",
    "plt.errorbar(n_estimators, means, yerr=stds);\n",
    "plt.title(\"Error vs XGBoost n_estimators\")\n",
    "plt.xlabel('n_estimators')\n",
    "plt.ylabel('Error')\n",
    "plt.show()"
   ]
  },
  {
   "cell_type": "markdown",
   "metadata": {},
   "source": [
    "A slight improvement in MAE with n_estimator value of 250 however there is little to no difference from 100 to 350 number of trees. A slight improvement can be seen from 200 to 250. Since data set is small, 250 number of estimators can be used."
   ]
  },
  {
   "cell_type": "markdown",
   "metadata": {},
   "source": [
    "#### Tune max_depth\n",
    "Finding optimum value for the number of layers of depth. Shallow trees are expected to have poor performance because they capture few details of the problem and are generally referred to as weak learners. Deeper trees generally capture too many details of the problem and overfit the training dataset, limiting the ability to make good predictions on new data. Ref:[here](https://machinelearningmastery.com/tune-number-size-decision-trees-xgboost-python/)"
   ]
  },
  {
   "cell_type": "code",
   "execution_count": 19,
   "metadata": {},
   "outputs": [
    {
     "name": "stdout",
     "output_type": "stream",
     "text": [
      "Best parameter is {'max_depth': 8, 'n_estimators': 250} with MAE score 4578\n"
     ]
    },
    {
     "data": {
      "image/png": "[encoded data removed]",
      "text/plain": [
       "<Figure size 432x288 with 1 Axes>"
      ]
     },
     "metadata": {
      "needs_background": "light"
     },
     "output_type": "display_data"
    }
   ],
   "source": [
    "max_depth=range(5,11)\n",
    "parameters_1 = {'max_depth':max_depth, 'n_estimators': [250]}\n",
    "gs1 = GridSearchCV(xg, param_grid = parameters_1, scoring='neg_mean_absolute_error', n_jobs = -1)\n",
    "gs1_result=gs1.fit(X_train,y_train)\n",
    "# results\n",
    "means1 = gs1_result.cv_results_['mean_test_score']\n",
    "stds1 = gs1_result.cv_results_['std_test_score']\n",
    "#best parameter\n",
    "print('Best parameter is {} with MAE score {}'.format(gs1.best_params_, round(-1*gs1.best_score_)))\n",
    "#Plot\n",
    "plt.errorbar(max_depth, means1, yerr=stds1);\n",
    "plt.title(\"Error vs XGBoost max_depth\")\n",
    "plt.xlabel('max_depth')\n",
    "plt.ylabel('Error')\n",
    "plt.show()"
   ]
  },
  {
   "cell_type": "markdown",
   "metadata": {},
   "source": [
    "Further improvement in MAE score can be observed for max_depth = 8 as can be seen in the above graph."
   ]
  },
  {
   "cell_type": "markdown",
   "metadata": {},
   "source": [
    "The above two parameters have the highest impact on model outcome. Other parameters can be tuned however, the default value will be used as not much improvement is expected at this point for the give dataset."
   ]
  },
  {
   "cell_type": "code",
   "execution_count": 20,
   "metadata": {},
   "outputs": [
    {
     "data": {
      "text/plain": [
       "XGBRegressor(base_score=0.5, booster='gbtree', colsample_bylevel=1,\n",
       "             colsample_bynode=1, colsample_bytree=1, gamma=0, gpu_id=-1,\n",
       "             importance_type='gain', interaction_constraints='',\n",
       "             learning_rate=0.300000012, max_delta_step=0, max_depth=8,\n",
       "             min_child_weight=1, missing=nan, monotone_constraints='()',\n",
       "             n_estimators=250, n_jobs=4, num_parallel_tree=1, random_state=0,\n",
       "             reg_alpha=0, reg_lambda=1, scale_pos_weight=1, subsample=1,\n",
       "             tree_method='exact', validate_parameters=1, verbosity=None)"
      ]
     },
     "execution_count": 20,
     "metadata": {},
     "output_type": "execute_result"
    }
   ],
   "source": [
    "gs1.best_estimator_"
   ]
  },
  {
   "cell_type": "markdown",
   "metadata": {},
   "source": [
    "Saving XGBoost model with tuned parameters."
   ]
  },
  {
   "cell_type": "code",
   "execution_count": 21,
   "metadata": {},
   "outputs": [
    {
     "name": "stdout",
     "output_type": "stream",
     "text": [
      "MAE score: 4578 and standard deviation 203\n"
     ]
    }
   ],
   "source": [
    "xgf = gs1.best_estimator_\n",
    "xgf_scores = -1*cross_val_score(xgf, X_train, y_train, \n",
    "                               scoring = 'neg_mean_absolute_error', cv = 5)\n",
    "print(\"MAE score: {} and standard deviation {}\".format(round(np.mean(xgf_scores)), \n",
    "                                                        round(np.std(xgf_scores))))"
   ]
  },
  {
   "cell_type": "markdown",
   "metadata": {},
   "source": [
    "# Model Performance\n",
    "Lets check the performance of all the models to select the best one. Final model selection will be based on test set which was split prevent data leakage. Ref:[here](https://towardsdatascience.com/data-leakage-in-machine-learning-10bdd3eec742)"
   ]
  },
  {
   "cell_type": "code",
   "execution_count": 22,
   "metadata": {
    "scrolled": false
   },
   "outputs": [
    {
     "name": "stdout",
     "output_type": "stream",
     "text": [
      "Multilinear model MAE: 4968\n",
      "Ridge regression model MAE: 4968\n",
      "Lasso regression model MAE: 4914\n",
      "ElasticNet regression model MAE: 5522\n",
      "RandomForest regression model MAE: 4596\n",
      "XGBoost regression model MAE: 4185\n",
      "XGBoost hypertuned regression model MAE: 4289\n"
     ]
    }
   ],
   "source": [
    "#multilinear model\n",
    "lm.fit(X_train,y_train)\n",
    "y_pred_lm = lm.predict(X_valid)\n",
    "print('Multilinear model MAE: {}'.format(round(mean_absolute_error(y_valid,y_pred_lm))))\n",
    "\n",
    "#Ridge regression\n",
    "rr_min.fit(X_train,y_train)\n",
    "y_pred_rr_min = rr_min.predict(X_valid)\n",
    "print('Ridge regression model MAE: {}'.format(round(mean_absolute_error(y_valid,y_pred_rr_min))))\n",
    "\n",
    "#Lasso regression\n",
    "ls.fit(X_train,y_train)\n",
    "y_pred_ls = ls.predict(X_valid)\n",
    "print('Lasso regression model MAE: {}'.format(round(mean_absolute_error(y_valid,y_pred_ls))))\n",
    "\n",
    "#Elastic net\n",
    "en.fit(X_train,y_train)\n",
    "y_pred_en = en.predict(X_valid)\n",
    "print('ElasticNet regression model MAE: {}'.format(round(mean_absolute_error(y_valid,y_pred_en))))\n",
    "\n",
    "#Random Forest regression\n",
    "rf.fit(X_train,y_train)\n",
    "y_pred_rf = rf.predict(X_valid)\n",
    "print('RandomForest regression model MAE: {}'.format(round(mean_absolute_error(y_valid,y_pred_rf))))\n",
    "\n",
    "#XGBoost\n",
    "xg.fit(X_train,y_train)\n",
    "y_pred_xg = xg.predict(X_valid)\n",
    "print('XGBoost regression model MAE: {}'.format(round(mean_absolute_error(y_valid,y_pred_xg))))\n",
    "\n",
    "#XGBoost hypertuned\n",
    "xgf.fit(X_train,y_train)\n",
    "y_pred_xgf = xgf.predict(X_valid)\n",
    "print('XGBoost hypertuned regression model MAE: {}'.format(round(mean_absolute_error(y_valid,y_pred_xgf))))"
   ]
  },
  {
   "cell_type": "markdown",
   "metadata": {},
   "source": [
    "The best model seems to be XGBoost with default parameters. XGBoost is first choice for most of the problems as it is the most advance algorithm. The model predicts the price of car within $4185 of the actual value. "
   ]
  },
  {
   "cell_type": "markdown",
   "metadata": {},
   "source": [
    "# Feature importance"
   ]
  },
  {
   "cell_type": "code",
   "execution_count": 23,
   "metadata": {},
   "outputs": [
    {
     "data": {
      "image/png": "[encoded data removed]",
      "text/plain": [
       "<Figure size 432x288 with 1 Axes>"
      ]
     },
     "metadata": {
      "needs_background": "light"
     },
     "output_type": "display_data"
    }
   ],
   "source": [
    "feature_important = xg.get_booster().get_score(importance_type='weight')\n",
    "keys = list(feature_important.keys())\n",
    "values = list(feature_important.values())\n",
    "\n",
    "data = pd.DataFrame(data=values, index=keys, columns=[\"score\"]).sort_values(by = \"score\", ascending=False)\n",
    "data[:10].plot(kind='barh');"
   ]
  },
  {
   "cell_type": "markdown",
   "metadata": {},
   "source": [
    "The price of the used car is highly dependent on Mileage of the car (Odometer reading), then followed by the age of the car.  \n",
    "It is interesting to see that length of description is also highly dependent on the price. It's possible that dealers write more in Description for expensive cars.  \n",
    "Higher Gas mileage (Km/L) mean higher efficiency(new technology) which could be the reason for high dependency on the price on the car.  \n",
    "No. of Features is also highly dependent on the price of the car.  \n",
    "All other factors are weakly dependent on the price. "
   ]
  },
  {
   "cell_type": "markdown",
   "metadata": {},
   "source": [
    "# Finalizing model and saving for deployment\n",
    "XGBoost model performed the best. Saving this model in binary format using pickle library."
   ]
  },
  {
   "cell_type": "code",
   "execution_count": 24,
   "metadata": {},
   "outputs": [],
   "source": [
    "# importing library\n",
    "import pickle\n",
    "\n",
    "#saving file\n",
    "filename = 'model.sav'\n",
    "pickle.dump(xg, open(filename, 'wb'))"
   ]
  },
  {
   "cell_type": "code",
   "execution_count": 25,
   "metadata": {},
   "outputs": [
    {
     "name": "stdout",
     "output_type": "stream",
     "text": [
      "Model MAE: 4185\n"
     ]
    }
   ],
   "source": [
    "# load the model from disk\n",
    "loaded_model = pickle.load(open(filename, 'rb'))\n",
    "\n",
    "#Checking MAE on test dataset\n",
    "y_pred_loaded_model = loaded_model.predict(X_valid)\n",
    "print('Model MAE: {}'.format(round(mean_absolute_error(y_valid, y_pred_loaded_model))))"
   ]
  },
  {
   "cell_type": "markdown",
   "metadata": {},
   "source": [
    "This MAE matches with the model value.  \n",
    "Everything looks good! "
   ]
  },
  {
   "cell_type": "markdown",
   "metadata": {},
   "source": [
    "# Next Steps\n",
    "Next steps involve deployment of model in a webserver."
   ]
  }
 ],
 "metadata": {
  "kernelspec": {
   "display_name": "Python 3",
   "language": "python",
   "name": "python3"
  },
  "language_info": {
   "codemirror_mode": {
    "name": "ipython",
    "version": 3
   },
   "file_extension": ".py",
   "mimetype": "text/x-python",
   "name": "python",
   "nbconvert_exporter": "python",
   "pygments_lexer": "ipython3",
   "version": "3.8.5"
  }
 },
 "nbformat": 4,
 "nbformat_minor": 4
}
